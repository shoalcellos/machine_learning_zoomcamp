{
 "cells": [
  {
   "cell_type": "code",
   "execution_count": 1,
   "id": "f2b63023-bafd-4df8-b0cc-82a42260de47",
   "metadata": {},
   "outputs": [],
   "source": [
    "# !pip install seaborn"
   ]
  },
  {
   "cell_type": "code",
   "execution_count": 2,
   "id": "1f3f00f6-e3f4-446b-af2e-e47470b7c379",
   "metadata": {},
   "outputs": [],
   "source": [
    "import pandas as pd\n",
    "import numpy as np\n",
    "import seaborn as sns\n",
    "import matplotlib.pyplot as py\n",
    "%matplotlib inline"
   ]
  },
  {
   "cell_type": "markdown",
   "id": "9c38c147-137c-48d5-98ec-f5f4544e79c4",
   "metadata": {},
   "source": [
    "# Get Dataset"
   ]
  },
  {
   "cell_type": "code",
   "execution_count": 3,
   "id": "5eddbb75-70f5-4851-beef-8ce3ba2f44e3",
   "metadata": {},
   "outputs": [],
   "source": [
    "df = pd.read_csv(\"https://raw.githubusercontent.com/alexeygrigorev/datasets/master/laptops.csv\")"
   ]
  },
  {
   "cell_type": "markdown",
   "id": "50727aca-1d32-4961-852b-e2f4e44de10a",
   "metadata": {},
   "source": [
    "# Preparing the dataset"
   ]
  },
  {
   "cell_type": "code",
   "execution_count": 4,
   "id": "e33d7ef8-6a46-4509-9b54-7202d9357a48",
   "metadata": {},
   "outputs": [],
   "source": [
    "df.columns = df.columns.str.lower().str.replace(\" \", \"_\")"
   ]
  },
  {
   "cell_type": "code",
   "execution_count": 5,
   "id": "a70093d4-20b4-44d5-8182-bf586d8eb4dc",
   "metadata": {},
   "outputs": [],
   "source": [
    "df = df[[\"ram\", \"storage\", \"screen\", \"final_price\"]]"
   ]
  },
  {
   "cell_type": "markdown",
   "id": "70e1c281-c096-4085-b7d4-f77cdd30c1d6",
   "metadata": {},
   "source": [
    "# EDA"
   ]
  },
  {
   "cell_type": "code",
   "execution_count": 6,
   "id": "71eb76f2-43d0-4fa4-8053-b82f617688ad",
   "metadata": {},
   "outputs": [
    {
     "data": {
      "text/plain": [
       "Index(['ram', 'storage', 'screen', 'final_price'], dtype='object')"
      ]
     },
     "execution_count": 6,
     "metadata": {},
     "output_type": "execute_result"
    }
   ],
   "source": [
    "df.columns"
   ]
  },
  {
   "cell_type": "markdown",
   "id": "a65a647a-bad6-494a-ab2f-5454c03994bf",
   "metadata": {},
   "source": [
    "## Final Price"
   ]
  },
  {
   "cell_type": "code",
   "execution_count": 7,
   "id": "c8830e0b-9670-4f2c-af44-50adf0269020",
   "metadata": {},
   "outputs": [
    {
     "data": {
      "text/plain": [
       "<AxesSubplot:>"
      ]
     },
     "execution_count": 7,
     "metadata": {},
     "output_type": "execute_result"
    },
    {
     "data": {
      "image/png": "[encoded data removed]",
      "text/plain": [
       "<Figure size 432x288 with 1 Axes>"
      ]
     },
     "metadata": {
      "needs_background": "light"
     },
     "output_type": "display_data"
    }
   ],
   "source": [
    "df[\"final_price\"].hist(bins=50)"
   ]
  },
  {
   "cell_type": "code",
   "execution_count": 8,
   "id": "c86472df-148a-4b5b-bbf0-a7b411e87f3c",
   "metadata": {},
   "outputs": [
    {
     "data": {
      "text/plain": [
       "<AxesSubplot:ylabel='Density'>"
      ]
     },
     "execution_count": 8,
     "metadata": {},
     "output_type": "execute_result"
    },
    {
     "data": {
      "image/png": "[encoded data removed]",
      "text/plain": [
       "<Figure size 432x288 with 1 Axes>"
      ]
     },
     "metadata": {
      "needs_background": "light"
     },
     "output_type": "display_data"
    }
   ],
   "source": [
    "df[\"final_price\"].plot.density()"
   ]
  },
  {
   "cell_type": "markdown",
   "id": "f03d122c-6c80-488b-9b57-b00223162d11",
   "metadata": {},
   "source": [
    "# Question 1"
   ]
  },
  {
   "cell_type": "code",
   "execution_count": 9,
   "id": "781b97cf-5eca-4d6c-b232-a133dd63e4fb",
   "metadata": {},
   "outputs": [
    {
     "data": {
      "text/plain": [
       "ram            0\n",
       "storage        0\n",
       "screen         4\n",
       "final_price    0\n",
       "dtype: int64"
      ]
     },
     "execution_count": 9,
     "metadata": {},
     "output_type": "execute_result"
    }
   ],
   "source": [
    "df.isna().sum()"
   ]
  },
  {
   "cell_type": "markdown",
   "id": "93972821-edf5-4abf-9724-522356083da8",
   "metadata": {},
   "source": [
    "## screen has missing values"
   ]
  },
  {
   "cell_type": "markdown",
   "id": "9d579bea-798b-4efc-9113-1160c0f00b5f",
   "metadata": {},
   "source": [
    "# Question 2"
   ]
  },
  {
   "cell_type": "code",
   "execution_count": 10,
   "id": "2788841c-49c7-4919-92ef-d85c7c76fe0b",
   "metadata": {},
   "outputs": [
    {
     "data": {
      "text/plain": [
       "16.0"
      ]
     },
     "execution_count": 10,
     "metadata": {},
     "output_type": "execute_result"
    }
   ],
   "source": [
    "ram_median = df[\"ram\"].median()\n",
    "ram_median"
   ]
  },
  {
   "cell_type": "markdown",
   "id": "365ff5fb-5fec-4ab1-a7a2-42467afe74e5",
   "metadata": {},
   "source": [
    "## 16 is the mean for ram"
   ]
  },
  {
   "cell_type": "markdown",
   "id": "a72d1d75-016d-4359-8569-5bab961848ac",
   "metadata": {},
   "source": [
    "# Test, Train, validate split"
   ]
  },
  {
   "cell_type": "code",
   "execution_count": 11,
   "id": "8638dc2b-29d6-43f2-a448-787ce38bd6c3",
   "metadata": {},
   "outputs": [],
   "source": [
    "# from sklearn.model_selection import train_test_split"
   ]
  },
  {
   "cell_type": "code",
   "execution_count": 12,
   "id": "db1c3d15-368c-4e68-bf3b-f6bed838aadc",
   "metadata": {},
   "outputs": [],
   "source": [
    "def train_test_split(df, test_size, val_size, random_state):\n",
    "    n = len(df)\n",
    "    n_val = int(val_size * n)\n",
    "    n_test = int(test_size * n)\n",
    "    n_train = n - n_val - n_test\n",
    "    # create an index same length as the df index\n",
    "    idx = np.arange(n)\n",
    "    # Shuffle the index\n",
    "    np.random.seed(random_state)\n",
    "    np.random.shuffle(idx)\n",
    "    # Split index in proportion\n",
    "    idx_val = idx[ : n_val]\n",
    "    idx_test = idx[n_val: n_val + n_test]\n",
    "    idx_train = idx[n_val + n_test: ]\n",
    "    # Split the dataset\n",
    "    df_val = df.iloc[idx_val]\n",
    "    df_test = df.iloc[idx_test]\n",
    "    df_train = df.iloc[idx_train]\n",
    "    # reset index\n",
    "    df_train = df_train.reset_index(drop=True)\n",
    "    df_test = df_test.reset_index(drop=True)\n",
    "    df_val = df_val.reset_index(drop=True)\n",
    "    return df_train, df_test, df_val"
   ]
  },
  {
   "cell_type": "code",
   "execution_count": 13,
   "id": "9fa8be1e-3209-4953-b279-23f5f1d7b5ad",
   "metadata": {},
   "outputs": [],
   "source": [
    "df_train, df_test, df_val = train_test_split(df, test_size=0.2, val_size=0.2, random_state=42)"
   ]
  },
  {
   "cell_type": "code",
   "execution_count": 14,
   "id": "65852b63-a602-4096-a045-9a351a6a7377",
   "metadata": {},
   "outputs": [],
   "source": [
    "y_test = df_test[\"final_price\"].values\n",
    "y_train = df_train[\"final_price\"].values\n",
    "y_val = df_val[\"final_price\"].values\n",
    "\n",
    "del df_val[\"final_price\"]\n",
    "del df_test[\"final_price\"]\n",
    "del df_train[\"final_price\"]"
   ]
  },
  {
   "cell_type": "markdown",
   "id": "a14c9ce6-2ced-4b97-86dc-2f3d7904f4ab",
   "metadata": {},
   "source": [
    "# Question 3"
   ]
  },
  {
   "cell_type": "code",
   "execution_count": 15,
   "id": "e8992b10-c487-490f-9f26-5cfdb321fbd1",
   "metadata": {},
   "outputs": [],
   "source": [
    "def mean_squared_error(y, y_pred):\n",
    "    sq_err = (y - y_pred) ** 2\n",
    "    rmse = sq_err.mean() ** 0.5\n",
    "    return rmse"
   ]
  },
  {
   "cell_type": "markdown",
   "id": "3c7c14ca-12a1-4073-9125-215018ac5271",
   "metadata": {},
   "source": [
    "## Calculate mean"
   ]
  },
  {
   "cell_type": "code",
   "execution_count": 16,
   "id": "e4d5bd1e-4468-4430-8e51-87f64bc71077",
   "metadata": {},
   "outputs": [
    {
     "data": {
      "text/plain": [
       "15.180974477958237"
      ]
     },
     "execution_count": 16,
     "metadata": {},
     "output_type": "execute_result"
    }
   ],
   "source": [
    "screen_mean = df_train[\"screen\"].mean()\n",
    "fill_values = [0, screen_mean]\n",
    "screen_mean"
   ]
  },
  {
   "cell_type": "markdown",
   "id": "5434e307-5f1c-4bd3-8882-f50381acf9f6",
   "metadata": {},
   "source": [
    "## Linear Regression function"
   ]
  },
  {
   "cell_type": "code",
   "execution_count": 17,
   "id": "800714f3-1e4c-4b70-8265-3f95e6170b60",
   "metadata": {},
   "outputs": [],
   "source": [
    "def train_linear_regression(X, y):\n",
    "    ones = np.ones(X.shape[0])\n",
    "    X = np.column_stack((ones, X))\n",
    "\n",
    "    XTX = X.T.dot(X)\n",
    "    XTX_inv = np.linalg.inv(XTX)\n",
    "    XTy = X.T.dot(y)\n",
    "    w_full = XTX_inv.dot(XTy)\n",
    "    w_0 = w_full[0].item(0)\n",
    "    w = w_full[1:]\n",
    "    return w_0, w"
   ]
  },
  {
   "cell_type": "markdown",
   "id": "ccfd1c45-5a50-4bc8-b86d-0d76829260a6",
   "metadata": {},
   "source": [
    "## Fit Linear regression for different values without regularization"
   ]
  },
  {
   "cell_type": "code",
   "execution_count": 18,
   "id": "b7af75f2-7164-409e-b4b5-b977638fbfe9",
   "metadata": {},
   "outputs": [
    {
     "name": "stdout",
     "output_type": "stream",
     "text": [
      "For fillvalue = 0, rmse is 624.88\n",
      "For fillvalue = 15.180974477958237, rmse is 625.53\n"
     ]
    }
   ],
   "source": [
    "for val in fill_values:\n",
    "    # Replace nan in Training set with fill value\n",
    "    df_filled = df_train.fillna(val)\n",
    "    X_train = df_filled.values\n",
    "\n",
    "    # Replace nan in validation set with fill value\n",
    "    df_filled_val = df_val.fillna(val)\n",
    "    X_val = df_filled_val.values\n",
    "\n",
    "    # Create model\n",
    "    w0, w = train_linear_regression(X_train, y_train)\n",
    "\n",
    "    # Predict\n",
    "    y_predict = w0 + X_val.dot(w)\n",
    "    \n",
    "    rmse = mean_squared_error(y_val, y_predict)\n",
    "    print(f\"For fillvalue = {val}, rmse is {round(rmse, 2)}\")"
   ]
  },
  {
   "cell_type": "markdown",
   "id": "bf7804fa-b474-44bf-a909-5e2328dbc63f",
   "metadata": {},
   "source": [
    "## 0 is better"
   ]
  },
  {
   "cell_type": "markdown",
   "id": "cdced28b-8c72-4bb3-b5bb-9212e620735a",
   "metadata": {},
   "source": [
    "# Question 4"
   ]
  },
  {
   "cell_type": "markdown",
   "id": "38cd9757-ae72-4d16-9a1f-83c6541f362d",
   "metadata": {},
   "source": [
    "## Regualarized Linear Regression"
   ]
  },
  {
   "cell_type": "code",
   "execution_count": 19,
   "id": "9bb00652-360c-4828-b0a8-a33980f4050e",
   "metadata": {},
   "outputs": [],
   "source": [
    "def train_linear_regression_reg(X, y, r=0.001):\n",
    "    ones = np.ones(X.shape[0])\n",
    "    X = np.column_stack((ones, X))\n",
    "    \n",
    "    XTX = X.T.dot(X)\n",
    "    XTX = XTX + r * np.eye(XTX.shape[0]) # regularization\n",
    "    \n",
    "    XTX_inv = np.linalg.inv(XTX)\n",
    "    XTy = X.T.dot(y)\n",
    "    w_full = XTX_inv.dot(XTy)\n",
    "    w_0 = w_full[0].item(0)\n",
    "    w = w_full[1:]\n",
    "    return w_0, w"
   ]
  },
  {
   "cell_type": "markdown",
   "id": "cfe488bd-b8e4-46a3-ae24-048253f7f02b",
   "metadata": {},
   "source": [
    "## Fit for different values of r"
   ]
  },
  {
   "cell_type": "code",
   "execution_count": 20,
   "id": "2c67fb09-cbd8-49ff-bd35-3bf3d385bf8c",
   "metadata": {},
   "outputs": [
    {
     "name": "stdout",
     "output_type": "stream",
     "text": [
      "For r = 0, rmse is 624.8785\n",
      "For r = 0.01, rmse is 624.8786\n",
      "For r = 0.1, rmse is 624.8806\n",
      "For r = 1, rmse is 624.9171\n",
      "For r = 5, rmse is 625.2341\n",
      "For r = 10, rmse is 625.6367\n",
      "For r = 100, rmse is 627.2698\n"
     ]
    }
   ],
   "source": [
    "r_values = [0, 0.01, 0.1, 1, 5, 10, 100]\n",
    "# Replace nan in Training set with fill value\n",
    "df_filled = df_train.fillna(0)\n",
    "X_train = df_filled.values\n",
    "\n",
    "# Replace nan in validation set with fill value\n",
    "df_filled_val = df_val.fillna(0)\n",
    "X_val = df_filled_val.values\n",
    "\n",
    "for r in r_values:\n",
    "    # Create model\n",
    "    w0, w = train_linear_regression_reg(X_train, y_train, r)\n",
    "\n",
    "    # Predict\n",
    "    y_predict = w0 + X_val.dot(w)\n",
    "    \n",
    "    rmse = mean_squared_error(y_val, y_predict)\n",
    "    print(f\"For r = {r}, rmse is {round(rmse, 4)}\")"
   ]
  },
  {
   "cell_type": "markdown",
   "id": "547d66f5-e8d7-4550-be04-8a9eda3fb7f9",
   "metadata": {},
   "source": [
    "## 0 gives best RMSE"
   ]
  },
  {
   "cell_type": "markdown",
   "id": "ea4e62b5-69af-4a06-8eeb-bab92b299f03",
   "metadata": {},
   "source": [
    "# Question 5"
   ]
  },
  {
   "cell_type": "markdown",
   "id": "3ae75501-b7f7-4b9e-b7c0-12059d4a88a3",
   "metadata": {},
   "source": [
    "## Split data set"
   ]
  },
  {
   "cell_type": "code",
   "execution_count": 21,
   "id": "ab80a615-dafb-44f3-86de-75b39827c288",
   "metadata": {},
   "outputs": [],
   "source": [
    "def split_data(random_seed):\n",
    "    df_train, df_test, df_val = train_test_split(df, test_size=0.2, val_size=0.2, random_state=random_seed)\n",
    "    y_test = df_test[\"final_price\"].values\n",
    "    y_train = df_train[\"final_price\"].values\n",
    "    y_val = df_val[\"final_price\"].values\n",
    "    \n",
    "    del df_val[\"final_price\"]\n",
    "    del df_test[\"final_price\"]\n",
    "    del df_train[\"final_price\"]\n",
    "\n",
    "    return df_test, df_train, df_val, y_test, y_train, y_val"
   ]
  },
  {
   "cell_type": "markdown",
   "id": "876581b8-5c9c-474d-a443-b172474900b9",
   "metadata": {},
   "source": [
    "## Compute scores for all seeds"
   ]
  },
  {
   "cell_type": "code",
   "execution_count": 22,
   "id": "b6b8cb95-716a-4015-aeba-3011bbaaaf26",
   "metadata": {},
   "outputs": [
    {
     "name": "stdout",
     "output_type": "stream",
     "text": [
      "For seed = 0, rmse is 600.95\n",
      "For seed = 1, rmse is 549.62\n",
      "For seed = 2, rmse is 625.8\n",
      "For seed = 3, rmse is 579.72\n",
      "For seed = 4, rmse is 567.07\n",
      "For seed = 5, rmse is 594.77\n",
      "For seed = 6, rmse is 599.98\n",
      "For seed = 7, rmse is 612.1\n",
      "For seed = 8, rmse is 553.12\n",
      "For seed = 9, rmse is 540.12\n"
     ]
    }
   ],
   "source": [
    "seeds = [0, 1, 2, 3, 4, 5, 6, 7, 8, 9]\n",
    "\n",
    "rmse_scores = []\n",
    "\n",
    "for seed in seeds:\n",
    "    df_test, df_train, df_val, y_test, y_train, y_val = split_data(seed)\n",
    "    # Replace nan in Training set with 0\n",
    "    df_filled = df_train.fillna(0)\n",
    "    X_train = df_filled.values\n",
    "\n",
    "    # Replace nan in validation set with 0\n",
    "    df_filled_val = df_val.fillna(0)\n",
    "    X_val = df_filled_val.values\n",
    "\n",
    "    # Create model\n",
    "    w0, w = train_linear_regression(X_train, y_train)\n",
    "\n",
    "    # Predict\n",
    "    y_predict = w0 + X_val.dot(w)\n",
    "    \n",
    "    rmse = mean_squared_error(y_val, y_predict)\n",
    "    rmse_scores.append(rmse)\n",
    "    print(f\"For seed = {seed}, rmse is {round(rmse, 2)}\")"
   ]
  },
  {
   "cell_type": "markdown",
   "id": "5587cafb-283a-4470-80ad-4d335ad5e81b",
   "metadata": {},
   "source": [
    "## Compute std dev"
   ]
  },
  {
   "cell_type": "code",
   "execution_count": 23,
   "id": "68a7ec37-a98b-4d99-bd86-5723ae1f0a33",
   "metadata": {},
   "outputs": [
    {
     "data": {
      "text/plain": [
       "27.449"
      ]
     },
     "execution_count": 23,
     "metadata": {},
     "output_type": "execute_result"
    }
   ],
   "source": [
    "scores_array = np.array(rmse_scores)\n",
    "std_dev = scores_array.std()\n",
    "round(std_dev, 3)"
   ]
  },
  {
   "cell_type": "markdown",
   "id": "f714abe5-bf0f-4af3-b846-73160a480dd4",
   "metadata": {},
   "source": [
    "## 29.176 is the std"
   ]
  },
  {
   "cell_type": "markdown",
   "id": "3955fe31-0746-499e-b91f-d08d220aa0c1",
   "metadata": {},
   "source": [
    "# Question 6"
   ]
  },
  {
   "cell_type": "code",
   "execution_count": 24,
   "id": "11127715-6899-42c7-81ec-af1163858239",
   "metadata": {},
   "outputs": [
    {
     "name": "stdout",
     "output_type": "stream",
     "text": [
      "Rmse is 674.24\n"
     ]
    }
   ],
   "source": [
    "df_test, df_train, df_val, y_test, y_train, y_val = split_data(9)\n",
    "# Combine train and validation\n",
    "df_full = df_train.append(df_val)\n",
    "y_full = np.concatenate([y_train, y_val])\n",
    "\n",
    "# Replace nan with 0 in training set\n",
    "df_filled_full = df_full.fillna(0)\n",
    "X_full = df_filled_full.values\n",
    "\n",
    "# Replace nan with 0 in test set\n",
    "df_filled_test = df_test.fillna(0)\n",
    "X_test = df_filled_test.values\n",
    "\n",
    "# Create model\n",
    "w0, w = train_linear_regression_reg(X_full, y_full, r=0.001)\n",
    "\n",
    "\n",
    "\n",
    "# Predict\n",
    "y_predict = w0 + X_test.dot(w)\n",
    "\n",
    "rmse = mean_squared_error(y_test, y_predict)\n",
    "print(f\"Rmse is {round(rmse, 2)}\")"
   ]
  },
  {
   "cell_type": "markdown",
   "id": "2bbe0206-ddb1-49e7-aa77-1fb34d732c5d",
   "metadata": {},
   "source": [
    "## 628.60 is the RMSE"
   ]
  }
 ],
 "metadata": {
  "kernelspec": {
   "display_name": "Python 3 (ipykernel)",
   "language": "python",
   "name": "python3"
  },
  "language_info": {
   "codemirror_mode": {
    "name": "ipython",
    "version": 3
   },
   "file_extension": ".py",
   "mimetype": "text/x-python",
   "name": "python",
   "nbconvert_exporter": "python",
   "pygments_lexer": "ipython3",
   "version": "3.8.12"
  }
 },
 "nbformat": 4,
 "nbformat_minor": 5
}
