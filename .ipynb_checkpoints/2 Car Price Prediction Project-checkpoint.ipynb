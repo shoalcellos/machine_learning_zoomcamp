{
 "cells": [
  {
   "cell_type": "markdown",
   "id": "ffa15504-f7d2-459a-8a1c-192cd8c987ee",
   "metadata": {},
   "source": [
    "# Machine Learning For Regression"
   ]
  },
  {
   "cell_type": "code",
   "execution_count": 1,
   "id": "26961d2f-5ebe-4cdf-84e4-9fe8a5735835",
   "metadata": {},
   "outputs": [
    {
     "name": "stdout",
     "output_type": "stream",
     "text": [
      "Looking in indexes: https://pypi.org/simple, https://pypi.ngc.nvidia.com\n",
      "Requirement already satisfied: seaborn in /opt/conda/lib/python3.8/site-packages (0.13.2)\n",
      "Requirement already satisfied: pandas>=1.2 in /opt/conda/lib/python3.8/site-packages (from seaborn) (1.3.5)\n",
      "Requirement already satisfied: matplotlib!=3.6.1,>=3.4 in /opt/conda/lib/python3.8/site-packages (from seaborn) (3.5.1)\n",
      "Requirement already satisfied: numpy!=1.24.0,>=1.20 in /opt/conda/lib/python3.8/site-packages (from seaborn) (1.22.0)\n",
      "Requirement already satisfied: pyparsing>=2.2.1 in /opt/conda/lib/python3.8/site-packages (from matplotlib!=3.6.1,>=3.4->seaborn) (3.0.6)\n",
      "Requirement already satisfied: fonttools>=4.22.0 in /opt/conda/lib/python3.8/site-packages (from matplotlib!=3.6.1,>=3.4->seaborn) (4.29.0)\n",
      "Requirement already satisfied: pillow>=6.2.0 in /opt/conda/lib/python3.8/site-packages (from matplotlib!=3.6.1,>=3.4->seaborn) (8.2.0)\n",
      "Requirement already satisfied: kiwisolver>=1.0.1 in /opt/conda/lib/python3.8/site-packages (from matplotlib!=3.6.1,>=3.4->seaborn) (1.3.2)\n",
      "Requirement already satisfied: packaging>=20.0 in /opt/conda/lib/python3.8/site-packages (from matplotlib!=3.6.1,>=3.4->seaborn) (24.1)\n",
      "Requirement already satisfied: cycler>=0.10 in /opt/conda/lib/python3.8/site-packages (from matplotlib!=3.6.1,>=3.4->seaborn) (0.11.0)\n",
      "Requirement already satisfied: python-dateutil>=2.7 in /opt/conda/lib/python3.8/site-packages (from matplotlib!=3.6.1,>=3.4->seaborn) (2.8.2)\n",
      "Requirement already satisfied: pytz>=2017.3 in /opt/conda/lib/python3.8/site-packages (from pandas>=1.2->seaborn) (2021.3)\n",
      "Requirement already satisfied: six>=1.5 in /opt/conda/lib/python3.8/site-packages (from python-dateutil>=2.7->matplotlib!=3.6.1,>=3.4->seaborn) (1.16.0)\n",
      "\u001b[33mWARNING: Running pip as the 'root' user can result in broken permissions and conflicting behaviour with the system package manager. It is recommended to use a virtual environment instead: https://pip.pypa.io/warnings/venv\u001b[0m\n"
     ]
    }
   ],
   "source": [
    "!pip install seaborn"
   ]
  },
  {
   "cell_type": "markdown",
   "id": "809b122c-f5f1-42c5-9817-233710cfa04b",
   "metadata": {},
   "source": [
    "# Data Preparation"
   ]
  },
  {
   "cell_type": "code",
   "execution_count": 2,
   "id": "458bb9c3-e6a3-466c-a6bd-d965e1b8647a",
   "metadata": {},
   "outputs": [],
   "source": [
    "import pandas as pd\n",
    "import numpy as np"
   ]
  },
  {
   "cell_type": "markdown",
   "id": "201e0016-fa2d-4da5-b22c-2f775e7c3bdd",
   "metadata": {},
   "source": [
    "## Load the dataset"
   ]
  },
  {
   "cell_type": "code",
   "execution_count": 3,
   "id": "f56001df-d554-4623-b75f-65826cb1aa8a",
   "metadata": {},
   "outputs": [],
   "source": [
    "data = 'https://raw.githubusercontent.com/alexeygrigorev/mlbookcamp-code/master/chapter-02-car-price/data.csv'"
   ]
  },
  {
   "cell_type": "code",
   "execution_count": 4,
   "id": "e5f3152f-d2eb-4c11-b310-658172e3cc8d",
   "metadata": {},
   "outputs": [
    {
     "name": "stdout",
     "output_type": "stream",
     "text": [
      "--2024-08-24 11:38:12--  https://raw.githubusercontent.com/alexeygrigorev/mlbookcamp-code/master/chapter-02-car-price/data.csv\n",
      "Resolving raw.githubusercontent.com (raw.githubusercontent.com)... 185.199.108.133, 185.199.109.133, 185.199.110.133, ...\n",
      "Connecting to raw.githubusercontent.com (raw.githubusercontent.com)|185.199.108.133|:443... connected.\n",
      "HTTP request sent, awaiting response... 200 OK\n",
      "Length: 1475504 (1.4M) [text/plain]\n",
      "Saving to: ‘data/car_price_data.csv’\n",
      "\n",
      "data/car_price_data 100%[===================>]   1.41M  4.31MB/s    in 0.3s    \n",
      "\n",
      "2024-08-24 11:38:13 (4.31 MB/s) - ‘data/car_price_data.csv’ saved [1475504/1475504]\n",
      "\n"
     ]
    }
   ],
   "source": [
    "!wget -O data/car_price_data.csv $data"
   ]
  },
  {
   "cell_type": "code",
   "execution_count": 5,
   "id": "ca1ba235-ef81-4d9e-ad63-ca1cf80e46e4",
   "metadata": {},
   "outputs": [],
   "source": [
    "df = pd.read_csv('data/car_price_data.csv')"
   ]
  },
  {
   "cell_type": "code",
   "execution_count": 6,
   "id": "206b6398-846b-4632-b874-9d8037e66f8a",
   "metadata": {},
   "outputs": [
    {
     "data": {
      "text/html": [
       "<div>\n",
       "<style scoped>\n",
       "    .dataframe tbody tr th:only-of-type {\n",
       "        vertical-align: middle;\n",
       "    }\n",
       "\n",
       "    .dataframe tbody tr th {\n",
       "        vertical-align: top;\n",
       "    }\n",
       "\n",
       "    .dataframe thead th {\n",
       "        text-align: right;\n",
       "    }\n",
       "</style>\n",
       "<table border=\"1\" class=\"dataframe\">\n",
       "  <thead>\n",
       "    <tr style=\"text-align: right;\">\n",
       "      <th></th>\n",
       "      <th>Make</th>\n",
       "      <th>Model</th>\n",
       "      <th>Year</th>\n",
       "      <th>Engine Fuel Type</th>\n",
       "      <th>Engine HP</th>\n",
       "      <th>Engine Cylinders</th>\n",
       "      <th>Transmission Type</th>\n",
       "      <th>Driven_Wheels</th>\n",
       "      <th>Number of Doors</th>\n",
       "      <th>Market Category</th>\n",
       "      <th>Vehicle Size</th>\n",
       "      <th>Vehicle Style</th>\n",
       "      <th>highway MPG</th>\n",
       "      <th>city mpg</th>\n",
       "      <th>Popularity</th>\n",
       "      <th>MSRP</th>\n",
       "    </tr>\n",
       "  </thead>\n",
       "  <tbody>\n",
       "    <tr>\n",
       "      <th>0</th>\n",
       "      <td>BMW</td>\n",
       "      <td>1 Series M</td>\n",
       "      <td>2011</td>\n",
       "      <td>premium unleaded (required)</td>\n",
       "      <td>335.0</td>\n",
       "      <td>6.0</td>\n",
       "      <td>MANUAL</td>\n",
       "      <td>rear wheel drive</td>\n",
       "      <td>2.0</td>\n",
       "      <td>Factory Tuner,Luxury,High-Performance</td>\n",
       "      <td>Compact</td>\n",
       "      <td>Coupe</td>\n",
       "      <td>26</td>\n",
       "      <td>19</td>\n",
       "      <td>3916</td>\n",
       "      <td>46135</td>\n",
       "    </tr>\n",
       "    <tr>\n",
       "      <th>1</th>\n",
       "      <td>BMW</td>\n",
       "      <td>1 Series</td>\n",
       "      <td>2011</td>\n",
       "      <td>premium unleaded (required)</td>\n",
       "      <td>300.0</td>\n",
       "      <td>6.0</td>\n",
       "      <td>MANUAL</td>\n",
       "      <td>rear wheel drive</td>\n",
       "      <td>2.0</td>\n",
       "      <td>Luxury,Performance</td>\n",
       "      <td>Compact</td>\n",
       "      <td>Convertible</td>\n",
       "      <td>28</td>\n",
       "      <td>19</td>\n",
       "      <td>3916</td>\n",
       "      <td>40650</td>\n",
       "    </tr>\n",
       "    <tr>\n",
       "      <th>2</th>\n",
       "      <td>BMW</td>\n",
       "      <td>1 Series</td>\n",
       "      <td>2011</td>\n",
       "      <td>premium unleaded (required)</td>\n",
       "      <td>300.0</td>\n",
       "      <td>6.0</td>\n",
       "      <td>MANUAL</td>\n",
       "      <td>rear wheel drive</td>\n",
       "      <td>2.0</td>\n",
       "      <td>Luxury,High-Performance</td>\n",
       "      <td>Compact</td>\n",
       "      <td>Coupe</td>\n",
       "      <td>28</td>\n",
       "      <td>20</td>\n",
       "      <td>3916</td>\n",
       "      <td>36350</td>\n",
       "    </tr>\n",
       "    <tr>\n",
       "      <th>3</th>\n",
       "      <td>BMW</td>\n",
       "      <td>1 Series</td>\n",
       "      <td>2011</td>\n",
       "      <td>premium unleaded (required)</td>\n",
       "      <td>230.0</td>\n",
       "      <td>6.0</td>\n",
       "      <td>MANUAL</td>\n",
       "      <td>rear wheel drive</td>\n",
       "      <td>2.0</td>\n",
       "      <td>Luxury,Performance</td>\n",
       "      <td>Compact</td>\n",
       "      <td>Coupe</td>\n",
       "      <td>28</td>\n",
       "      <td>18</td>\n",
       "      <td>3916</td>\n",
       "      <td>29450</td>\n",
       "    </tr>\n",
       "    <tr>\n",
       "      <th>4</th>\n",
       "      <td>BMW</td>\n",
       "      <td>1 Series</td>\n",
       "      <td>2011</td>\n",
       "      <td>premium unleaded (required)</td>\n",
       "      <td>230.0</td>\n",
       "      <td>6.0</td>\n",
       "      <td>MANUAL</td>\n",
       "      <td>rear wheel drive</td>\n",
       "      <td>2.0</td>\n",
       "      <td>Luxury</td>\n",
       "      <td>Compact</td>\n",
       "      <td>Convertible</td>\n",
       "      <td>28</td>\n",
       "      <td>18</td>\n",
       "      <td>3916</td>\n",
       "      <td>34500</td>\n",
       "    </tr>\n",
       "  </tbody>\n",
       "</table>\n",
       "</div>"
      ],
      "text/plain": [
       "  Make       Model  Year             Engine Fuel Type  Engine HP  \\\n",
       "0  BMW  1 Series M  2011  premium unleaded (required)      335.0   \n",
       "1  BMW    1 Series  2011  premium unleaded (required)      300.0   \n",
       "2  BMW    1 Series  2011  premium unleaded (required)      300.0   \n",
       "3  BMW    1 Series  2011  premium unleaded (required)      230.0   \n",
       "4  BMW    1 Series  2011  premium unleaded (required)      230.0   \n",
       "\n",
       "   Engine Cylinders Transmission Type     Driven_Wheels  Number of Doors  \\\n",
       "0               6.0            MANUAL  rear wheel drive              2.0   \n",
       "1               6.0            MANUAL  rear wheel drive              2.0   \n",
       "2               6.0            MANUAL  rear wheel drive              2.0   \n",
       "3               6.0            MANUAL  rear wheel drive              2.0   \n",
       "4               6.0            MANUAL  rear wheel drive              2.0   \n",
       "\n",
       "                         Market Category Vehicle Size Vehicle Style  \\\n",
       "0  Factory Tuner,Luxury,High-Performance      Compact         Coupe   \n",
       "1                     Luxury,Performance      Compact   Convertible   \n",
       "2                Luxury,High-Performance      Compact         Coupe   \n",
       "3                     Luxury,Performance      Compact         Coupe   \n",
       "4                                 Luxury      Compact   Convertible   \n",
       "\n",
       "   highway MPG  city mpg  Popularity   MSRP  \n",
       "0           26        19        3916  46135  \n",
       "1           28        19        3916  40650  \n",
       "2           28        20        3916  36350  \n",
       "3           28        18        3916  29450  \n",
       "4           28        18        3916  34500  "
      ]
     },
     "execution_count": 6,
     "metadata": {},
     "output_type": "execute_result"
    }
   ],
   "source": [
    "df.head()"
   ]
  },
  {
   "cell_type": "markdown",
   "id": "a4cf5bb4-7b54-4f7a-8ab0-52fec4f778d2",
   "metadata": {},
   "source": [
    "## Clean Column Names"
   ]
  },
  {
   "cell_type": "code",
   "execution_count": 7,
   "id": "ef5cfb84-4b36-4846-b2e7-f861c66faf1d",
   "metadata": {},
   "outputs": [],
   "source": [
    "df.columns = df.columns.str.lower().str.replace(\" \", \"_\")"
   ]
  },
  {
   "cell_type": "code",
   "execution_count": 8,
   "id": "f56fe62b-ea37-4890-88b4-83c693d1198f",
   "metadata": {},
   "outputs": [
    {
     "data": {
      "text/html": [
       "<div>\n",
       "<style scoped>\n",
       "    .dataframe tbody tr th:only-of-type {\n",
       "        vertical-align: middle;\n",
       "    }\n",
       "\n",
       "    .dataframe tbody tr th {\n",
       "        vertical-align: top;\n",
       "    }\n",
       "\n",
       "    .dataframe thead th {\n",
       "        text-align: right;\n",
       "    }\n",
       "</style>\n",
       "<table border=\"1\" class=\"dataframe\">\n",
       "  <thead>\n",
       "    <tr style=\"text-align: right;\">\n",
       "      <th></th>\n",
       "      <th>make</th>\n",
       "      <th>model</th>\n",
       "      <th>year</th>\n",
       "      <th>engine_fuel_type</th>\n",
       "      <th>engine_hp</th>\n",
       "      <th>engine_cylinders</th>\n",
       "      <th>transmission_type</th>\n",
       "      <th>driven_wheels</th>\n",
       "      <th>number_of_doors</th>\n",
       "      <th>market_category</th>\n",
       "      <th>vehicle_size</th>\n",
       "      <th>vehicle_style</th>\n",
       "      <th>highway_mpg</th>\n",
       "      <th>city_mpg</th>\n",
       "      <th>popularity</th>\n",
       "      <th>msrp</th>\n",
       "    </tr>\n",
       "  </thead>\n",
       "  <tbody>\n",
       "    <tr>\n",
       "      <th>0</th>\n",
       "      <td>BMW</td>\n",
       "      <td>1 Series M</td>\n",
       "      <td>2011</td>\n",
       "      <td>premium unleaded (required)</td>\n",
       "      <td>335.0</td>\n",
       "      <td>6.0</td>\n",
       "      <td>MANUAL</td>\n",
       "      <td>rear wheel drive</td>\n",
       "      <td>2.0</td>\n",
       "      <td>Factory Tuner,Luxury,High-Performance</td>\n",
       "      <td>Compact</td>\n",
       "      <td>Coupe</td>\n",
       "      <td>26</td>\n",
       "      <td>19</td>\n",
       "      <td>3916</td>\n",
       "      <td>46135</td>\n",
       "    </tr>\n",
       "    <tr>\n",
       "      <th>1</th>\n",
       "      <td>BMW</td>\n",
       "      <td>1 Series</td>\n",
       "      <td>2011</td>\n",
       "      <td>premium unleaded (required)</td>\n",
       "      <td>300.0</td>\n",
       "      <td>6.0</td>\n",
       "      <td>MANUAL</td>\n",
       "      <td>rear wheel drive</td>\n",
       "      <td>2.0</td>\n",
       "      <td>Luxury,Performance</td>\n",
       "      <td>Compact</td>\n",
       "      <td>Convertible</td>\n",
       "      <td>28</td>\n",
       "      <td>19</td>\n",
       "      <td>3916</td>\n",
       "      <td>40650</td>\n",
       "    </tr>\n",
       "    <tr>\n",
       "      <th>2</th>\n",
       "      <td>BMW</td>\n",
       "      <td>1 Series</td>\n",
       "      <td>2011</td>\n",
       "      <td>premium unleaded (required)</td>\n",
       "      <td>300.0</td>\n",
       "      <td>6.0</td>\n",
       "      <td>MANUAL</td>\n",
       "      <td>rear wheel drive</td>\n",
       "      <td>2.0</td>\n",
       "      <td>Luxury,High-Performance</td>\n",
       "      <td>Compact</td>\n",
       "      <td>Coupe</td>\n",
       "      <td>28</td>\n",
       "      <td>20</td>\n",
       "      <td>3916</td>\n",
       "      <td>36350</td>\n",
       "    </tr>\n",
       "    <tr>\n",
       "      <th>3</th>\n",
       "      <td>BMW</td>\n",
       "      <td>1 Series</td>\n",
       "      <td>2011</td>\n",
       "      <td>premium unleaded (required)</td>\n",
       "      <td>230.0</td>\n",
       "      <td>6.0</td>\n",
       "      <td>MANUAL</td>\n",
       "      <td>rear wheel drive</td>\n",
       "      <td>2.0</td>\n",
       "      <td>Luxury,Performance</td>\n",
       "      <td>Compact</td>\n",
       "      <td>Coupe</td>\n",
       "      <td>28</td>\n",
       "      <td>18</td>\n",
       "      <td>3916</td>\n",
       "      <td>29450</td>\n",
       "    </tr>\n",
       "    <tr>\n",
       "      <th>4</th>\n",
       "      <td>BMW</td>\n",
       "      <td>1 Series</td>\n",
       "      <td>2011</td>\n",
       "      <td>premium unleaded (required)</td>\n",
       "      <td>230.0</td>\n",
       "      <td>6.0</td>\n",
       "      <td>MANUAL</td>\n",
       "      <td>rear wheel drive</td>\n",
       "      <td>2.0</td>\n",
       "      <td>Luxury</td>\n",
       "      <td>Compact</td>\n",
       "      <td>Convertible</td>\n",
       "      <td>28</td>\n",
       "      <td>18</td>\n",
       "      <td>3916</td>\n",
       "      <td>34500</td>\n",
       "    </tr>\n",
       "  </tbody>\n",
       "</table>\n",
       "</div>"
      ],
      "text/plain": [
       "  make       model  year             engine_fuel_type  engine_hp  \\\n",
       "0  BMW  1 Series M  2011  premium unleaded (required)      335.0   \n",
       "1  BMW    1 Series  2011  premium unleaded (required)      300.0   \n",
       "2  BMW    1 Series  2011  premium unleaded (required)      300.0   \n",
       "3  BMW    1 Series  2011  premium unleaded (required)      230.0   \n",
       "4  BMW    1 Series  2011  premium unleaded (required)      230.0   \n",
       "\n",
       "   engine_cylinders transmission_type     driven_wheels  number_of_doors  \\\n",
       "0               6.0            MANUAL  rear wheel drive              2.0   \n",
       "1               6.0            MANUAL  rear wheel drive              2.0   \n",
       "2               6.0            MANUAL  rear wheel drive              2.0   \n",
       "3               6.0            MANUAL  rear wheel drive              2.0   \n",
       "4               6.0            MANUAL  rear wheel drive              2.0   \n",
       "\n",
       "                         market_category vehicle_size vehicle_style  \\\n",
       "0  Factory Tuner,Luxury,High-Performance      Compact         Coupe   \n",
       "1                     Luxury,Performance      Compact   Convertible   \n",
       "2                Luxury,High-Performance      Compact         Coupe   \n",
       "3                     Luxury,Performance      Compact         Coupe   \n",
       "4                                 Luxury      Compact   Convertible   \n",
       "\n",
       "   highway_mpg  city_mpg  popularity   msrp  \n",
       "0           26        19        3916  46135  \n",
       "1           28        19        3916  40650  \n",
       "2           28        20        3916  36350  \n",
       "3           28        18        3916  29450  \n",
       "4           28        18        3916  34500  "
      ]
     },
     "execution_count": 8,
     "metadata": {},
     "output_type": "execute_result"
    }
   ],
   "source": [
    "df.head()"
   ]
  },
  {
   "cell_type": "markdown",
   "id": "44828015-0b3a-452e-93d0-ca48dba5ff47",
   "metadata": {},
   "source": [
    "## Clean String Columns"
   ]
  },
  {
   "cell_type": "code",
   "execution_count": 9,
   "id": "ab3b8aa6-18ad-4ea3-a714-5e85770ff5c6",
   "metadata": {},
   "outputs": [
    {
     "data": {
      "text/plain": [
       "make                 object\n",
       "model                object\n",
       "engine_fuel_type     object\n",
       "transmission_type    object\n",
       "driven_wheels        object\n",
       "market_category      object\n",
       "vehicle_size         object\n",
       "vehicle_style        object\n",
       "dtype: object"
      ]
     },
     "execution_count": 9,
     "metadata": {},
     "output_type": "execute_result"
    }
   ],
   "source": [
    "df.dtypes[df.dtypes == 'object'] # returns a series with the dtype object"
   ]
  },
  {
   "cell_type": "code",
   "execution_count": 10,
   "id": "0919ffa9-da62-4952-8cf9-325c864990b5",
   "metadata": {},
   "outputs": [
    {
     "data": {
      "text/plain": [
       "['make',\n",
       " 'model',\n",
       " 'engine_fuel_type',\n",
       " 'transmission_type',\n",
       " 'driven_wheels',\n",
       " 'market_category',\n",
       " 'vehicle_size',\n",
       " 'vehicle_style']"
      ]
     },
     "execution_count": 10,
     "metadata": {},
     "output_type": "execute_result"
    }
   ],
   "source": [
    "string_columns = list(df.dtypes[df.dtypes == 'object'].index) # we only need the column names\n",
    "string_columns"
   ]
  },
  {
   "cell_type": "code",
   "execution_count": 11,
   "id": "38eff7f6-eca1-465c-92c3-bd26985e4acb",
   "metadata": {},
   "outputs": [],
   "source": [
    "for col in string_columns:\n",
    "    df[col] = df[col].str.lower().str.replace(\" \", \"_\")"
   ]
  },
  {
   "cell_type": "code",
   "execution_count": 12,
   "id": "f8a8cc45-3f5c-40f7-91b7-44a7bb148da5",
   "metadata": {},
   "outputs": [
    {
     "data": {
      "text/html": [
       "<div>\n",
       "<style scoped>\n",
       "    .dataframe tbody tr th:only-of-type {\n",
       "        vertical-align: middle;\n",
       "    }\n",
       "\n",
       "    .dataframe tbody tr th {\n",
       "        vertical-align: top;\n",
       "    }\n",
       "\n",
       "    .dataframe thead th {\n",
       "        text-align: right;\n",
       "    }\n",
       "</style>\n",
       "<table border=\"1\" class=\"dataframe\">\n",
       "  <thead>\n",
       "    <tr style=\"text-align: right;\">\n",
       "      <th></th>\n",
       "      <th>make</th>\n",
       "      <th>model</th>\n",
       "      <th>year</th>\n",
       "      <th>engine_fuel_type</th>\n",
       "      <th>engine_hp</th>\n",
       "      <th>engine_cylinders</th>\n",
       "      <th>transmission_type</th>\n",
       "      <th>driven_wheels</th>\n",
       "      <th>number_of_doors</th>\n",
       "      <th>market_category</th>\n",
       "      <th>vehicle_size</th>\n",
       "      <th>vehicle_style</th>\n",
       "      <th>highway_mpg</th>\n",
       "      <th>city_mpg</th>\n",
       "      <th>popularity</th>\n",
       "      <th>msrp</th>\n",
       "    </tr>\n",
       "  </thead>\n",
       "  <tbody>\n",
       "    <tr>\n",
       "      <th>0</th>\n",
       "      <td>bmw</td>\n",
       "      <td>1_series_m</td>\n",
       "      <td>2011</td>\n",
       "      <td>premium_unleaded_(required)</td>\n",
       "      <td>335.0</td>\n",
       "      <td>6.0</td>\n",
       "      <td>manual</td>\n",
       "      <td>rear_wheel_drive</td>\n",
       "      <td>2.0</td>\n",
       "      <td>factory_tuner,luxury,high-performance</td>\n",
       "      <td>compact</td>\n",
       "      <td>coupe</td>\n",
       "      <td>26</td>\n",
       "      <td>19</td>\n",
       "      <td>3916</td>\n",
       "      <td>46135</td>\n",
       "    </tr>\n",
       "    <tr>\n",
       "      <th>1</th>\n",
       "      <td>bmw</td>\n",
       "      <td>1_series</td>\n",
       "      <td>2011</td>\n",
       "      <td>premium_unleaded_(required)</td>\n",
       "      <td>300.0</td>\n",
       "      <td>6.0</td>\n",
       "      <td>manual</td>\n",
       "      <td>rear_wheel_drive</td>\n",
       "      <td>2.0</td>\n",
       "      <td>luxury,performance</td>\n",
       "      <td>compact</td>\n",
       "      <td>convertible</td>\n",
       "      <td>28</td>\n",
       "      <td>19</td>\n",
       "      <td>3916</td>\n",
       "      <td>40650</td>\n",
       "    </tr>\n",
       "    <tr>\n",
       "      <th>2</th>\n",
       "      <td>bmw</td>\n",
       "      <td>1_series</td>\n",
       "      <td>2011</td>\n",
       "      <td>premium_unleaded_(required)</td>\n",
       "      <td>300.0</td>\n",
       "      <td>6.0</td>\n",
       "      <td>manual</td>\n",
       "      <td>rear_wheel_drive</td>\n",
       "      <td>2.0</td>\n",
       "      <td>luxury,high-performance</td>\n",
       "      <td>compact</td>\n",
       "      <td>coupe</td>\n",
       "      <td>28</td>\n",
       "      <td>20</td>\n",
       "      <td>3916</td>\n",
       "      <td>36350</td>\n",
       "    </tr>\n",
       "    <tr>\n",
       "      <th>3</th>\n",
       "      <td>bmw</td>\n",
       "      <td>1_series</td>\n",
       "      <td>2011</td>\n",
       "      <td>premium_unleaded_(required)</td>\n",
       "      <td>230.0</td>\n",
       "      <td>6.0</td>\n",
       "      <td>manual</td>\n",
       "      <td>rear_wheel_drive</td>\n",
       "      <td>2.0</td>\n",
       "      <td>luxury,performance</td>\n",
       "      <td>compact</td>\n",
       "      <td>coupe</td>\n",
       "      <td>28</td>\n",
       "      <td>18</td>\n",
       "      <td>3916</td>\n",
       "      <td>29450</td>\n",
       "    </tr>\n",
       "    <tr>\n",
       "      <th>4</th>\n",
       "      <td>bmw</td>\n",
       "      <td>1_series</td>\n",
       "      <td>2011</td>\n",
       "      <td>premium_unleaded_(required)</td>\n",
       "      <td>230.0</td>\n",
       "      <td>6.0</td>\n",
       "      <td>manual</td>\n",
       "      <td>rear_wheel_drive</td>\n",
       "      <td>2.0</td>\n",
       "      <td>luxury</td>\n",
       "      <td>compact</td>\n",
       "      <td>convertible</td>\n",
       "      <td>28</td>\n",
       "      <td>18</td>\n",
       "      <td>3916</td>\n",
       "      <td>34500</td>\n",
       "    </tr>\n",
       "    <tr>\n",
       "      <th>...</th>\n",
       "      <td>...</td>\n",
       "      <td>...</td>\n",
       "      <td>...</td>\n",
       "      <td>...</td>\n",
       "      <td>...</td>\n",
       "      <td>...</td>\n",
       "      <td>...</td>\n",
       "      <td>...</td>\n",
       "      <td>...</td>\n",
       "      <td>...</td>\n",
       "      <td>...</td>\n",
       "      <td>...</td>\n",
       "      <td>...</td>\n",
       "      <td>...</td>\n",
       "      <td>...</td>\n",
       "      <td>...</td>\n",
       "    </tr>\n",
       "    <tr>\n",
       "      <th>11909</th>\n",
       "      <td>acura</td>\n",
       "      <td>zdx</td>\n",
       "      <td>2012</td>\n",
       "      <td>premium_unleaded_(required)</td>\n",
       "      <td>300.0</td>\n",
       "      <td>6.0</td>\n",
       "      <td>automatic</td>\n",
       "      <td>all_wheel_drive</td>\n",
       "      <td>4.0</td>\n",
       "      <td>crossover,hatchback,luxury</td>\n",
       "      <td>midsize</td>\n",
       "      <td>4dr_hatchback</td>\n",
       "      <td>23</td>\n",
       "      <td>16</td>\n",
       "      <td>204</td>\n",
       "      <td>46120</td>\n",
       "    </tr>\n",
       "    <tr>\n",
       "      <th>11910</th>\n",
       "      <td>acura</td>\n",
       "      <td>zdx</td>\n",
       "      <td>2012</td>\n",
       "      <td>premium_unleaded_(required)</td>\n",
       "      <td>300.0</td>\n",
       "      <td>6.0</td>\n",
       "      <td>automatic</td>\n",
       "      <td>all_wheel_drive</td>\n",
       "      <td>4.0</td>\n",
       "      <td>crossover,hatchback,luxury</td>\n",
       "      <td>midsize</td>\n",
       "      <td>4dr_hatchback</td>\n",
       "      <td>23</td>\n",
       "      <td>16</td>\n",
       "      <td>204</td>\n",
       "      <td>56670</td>\n",
       "    </tr>\n",
       "    <tr>\n",
       "      <th>11911</th>\n",
       "      <td>acura</td>\n",
       "      <td>zdx</td>\n",
       "      <td>2012</td>\n",
       "      <td>premium_unleaded_(required)</td>\n",
       "      <td>300.0</td>\n",
       "      <td>6.0</td>\n",
       "      <td>automatic</td>\n",
       "      <td>all_wheel_drive</td>\n",
       "      <td>4.0</td>\n",
       "      <td>crossover,hatchback,luxury</td>\n",
       "      <td>midsize</td>\n",
       "      <td>4dr_hatchback</td>\n",
       "      <td>23</td>\n",
       "      <td>16</td>\n",
       "      <td>204</td>\n",
       "      <td>50620</td>\n",
       "    </tr>\n",
       "    <tr>\n",
       "      <th>11912</th>\n",
       "      <td>acura</td>\n",
       "      <td>zdx</td>\n",
       "      <td>2013</td>\n",
       "      <td>premium_unleaded_(recommended)</td>\n",
       "      <td>300.0</td>\n",
       "      <td>6.0</td>\n",
       "      <td>automatic</td>\n",
       "      <td>all_wheel_drive</td>\n",
       "      <td>4.0</td>\n",
       "      <td>crossover,hatchback,luxury</td>\n",
       "      <td>midsize</td>\n",
       "      <td>4dr_hatchback</td>\n",
       "      <td>23</td>\n",
       "      <td>16</td>\n",
       "      <td>204</td>\n",
       "      <td>50920</td>\n",
       "    </tr>\n",
       "    <tr>\n",
       "      <th>11913</th>\n",
       "      <td>lincoln</td>\n",
       "      <td>zephyr</td>\n",
       "      <td>2006</td>\n",
       "      <td>regular_unleaded</td>\n",
       "      <td>221.0</td>\n",
       "      <td>6.0</td>\n",
       "      <td>automatic</td>\n",
       "      <td>front_wheel_drive</td>\n",
       "      <td>4.0</td>\n",
       "      <td>luxury</td>\n",
       "      <td>midsize</td>\n",
       "      <td>sedan</td>\n",
       "      <td>26</td>\n",
       "      <td>17</td>\n",
       "      <td>61</td>\n",
       "      <td>28995</td>\n",
       "    </tr>\n",
       "  </tbody>\n",
       "</table>\n",
       "<p>11914 rows × 16 columns</p>\n",
       "</div>"
      ],
      "text/plain": [
       "          make       model  year                engine_fuel_type  engine_hp  \\\n",
       "0          bmw  1_series_m  2011     premium_unleaded_(required)      335.0   \n",
       "1          bmw    1_series  2011     premium_unleaded_(required)      300.0   \n",
       "2          bmw    1_series  2011     premium_unleaded_(required)      300.0   \n",
       "3          bmw    1_series  2011     premium_unleaded_(required)      230.0   \n",
       "4          bmw    1_series  2011     premium_unleaded_(required)      230.0   \n",
       "...        ...         ...   ...                             ...        ...   \n",
       "11909    acura         zdx  2012     premium_unleaded_(required)      300.0   \n",
       "11910    acura         zdx  2012     premium_unleaded_(required)      300.0   \n",
       "11911    acura         zdx  2012     premium_unleaded_(required)      300.0   \n",
       "11912    acura         zdx  2013  premium_unleaded_(recommended)      300.0   \n",
       "11913  lincoln      zephyr  2006                regular_unleaded      221.0   \n",
       "\n",
       "       engine_cylinders transmission_type      driven_wheels  number_of_doors  \\\n",
       "0                   6.0            manual   rear_wheel_drive              2.0   \n",
       "1                   6.0            manual   rear_wheel_drive              2.0   \n",
       "2                   6.0            manual   rear_wheel_drive              2.0   \n",
       "3                   6.0            manual   rear_wheel_drive              2.0   \n",
       "4                   6.0            manual   rear_wheel_drive              2.0   \n",
       "...                 ...               ...                ...              ...   \n",
       "11909               6.0         automatic    all_wheel_drive              4.0   \n",
       "11910               6.0         automatic    all_wheel_drive              4.0   \n",
       "11911               6.0         automatic    all_wheel_drive              4.0   \n",
       "11912               6.0         automatic    all_wheel_drive              4.0   \n",
       "11913               6.0         automatic  front_wheel_drive              4.0   \n",
       "\n",
       "                             market_category vehicle_size  vehicle_style  \\\n",
       "0      factory_tuner,luxury,high-performance      compact          coupe   \n",
       "1                         luxury,performance      compact    convertible   \n",
       "2                    luxury,high-performance      compact          coupe   \n",
       "3                         luxury,performance      compact          coupe   \n",
       "4                                     luxury      compact    convertible   \n",
       "...                                      ...          ...            ...   \n",
       "11909             crossover,hatchback,luxury      midsize  4dr_hatchback   \n",
       "11910             crossover,hatchback,luxury      midsize  4dr_hatchback   \n",
       "11911             crossover,hatchback,luxury      midsize  4dr_hatchback   \n",
       "11912             crossover,hatchback,luxury      midsize  4dr_hatchback   \n",
       "11913                                 luxury      midsize          sedan   \n",
       "\n",
       "       highway_mpg  city_mpg  popularity   msrp  \n",
       "0               26        19        3916  46135  \n",
       "1               28        19        3916  40650  \n",
       "2               28        20        3916  36350  \n",
       "3               28        18        3916  29450  \n",
       "4               28        18        3916  34500  \n",
       "...            ...       ...         ...    ...  \n",
       "11909           23        16         204  46120  \n",
       "11910           23        16         204  56670  \n",
       "11911           23        16         204  50620  \n",
       "11912           23        16         204  50920  \n",
       "11913           26        17          61  28995  \n",
       "\n",
       "[11914 rows x 16 columns]"
      ]
     },
     "execution_count": 12,
     "metadata": {},
     "output_type": "execute_result"
    }
   ],
   "source": [
    "df"
   ]
  },
  {
   "cell_type": "markdown",
   "id": "64885bb7-f3ce-429e-9f00-b5557f1b2bfa",
   "metadata": {},
   "source": [
    "# Exploratory Data Analysis"
   ]
  },
  {
   "cell_type": "code",
   "execution_count": 13,
   "id": "4e4bc129-f7d0-4aa3-a45b-8dcff3685a0d",
   "metadata": {},
   "outputs": [
    {
     "data": {
      "text/plain": [
       "make                 11914\n",
       "model                11914\n",
       "year                 11914\n",
       "engine_fuel_type     11911\n",
       "engine_hp            11845\n",
       "engine_cylinders     11884\n",
       "transmission_type    11914\n",
       "driven_wheels        11914\n",
       "number_of_doors      11908\n",
       "market_category       8172\n",
       "vehicle_size         11914\n",
       "vehicle_style        11914\n",
       "highway_mpg          11914\n",
       "city_mpg             11914\n",
       "popularity           11914\n",
       "msrp                 11914\n",
       "dtype: int64"
      ]
     },
     "execution_count": 13,
     "metadata": {},
     "output_type": "execute_result"
    }
   ],
   "source": [
    "df.count()"
   ]
  },
  {
   "cell_type": "code",
   "execution_count": 14,
   "id": "ae7c01e9-b15e-417d-ad27-a6a4745ff76e",
   "metadata": {},
   "outputs": [
    {
     "name": "stdout",
     "output_type": "stream",
     "text": [
      "make\n",
      "0    bmw\n",
      "1    bmw\n",
      "2    bmw\n",
      "Name: make, dtype: object\n",
      "['bmw' 'audi' 'fiat' 'mercedes-benz' 'chrysler']\n",
      "48\n",
      "model\n",
      "0    1_series_m\n",
      "1      1_series\n",
      "2      1_series\n",
      "Name: model, dtype: object\n",
      "['1_series_m' '1_series' '100' '124_spider' '190-class']\n",
      "914\n",
      "year\n",
      "0    2011\n",
      "1    2011\n",
      "2    2011\n",
      "Name: year, dtype: int64\n",
      "[2011 2012 2013 1992 1993]\n",
      "28\n",
      "engine_fuel_type\n",
      "0    premium_unleaded_(required)\n",
      "1    premium_unleaded_(required)\n",
      "2    premium_unleaded_(required)\n",
      "Name: engine_fuel_type, dtype: object\n",
      "['premium_unleaded_(required)' 'regular_unleaded'\n",
      " 'premium_unleaded_(recommended)' 'flex-fuel_(unleaded/e85)' 'diesel']\n",
      "10\n",
      "engine_hp\n",
      "0    335.0\n",
      "1    300.0\n",
      "2    300.0\n",
      "Name: engine_hp, dtype: float64\n",
      "[335. 300. 230. 320. 172.]\n",
      "356\n",
      "engine_cylinders\n",
      "0    6.0\n",
      "1    6.0\n",
      "2    6.0\n",
      "Name: engine_cylinders, dtype: float64\n",
      "[ 6.  4.  5.  8. 12.]\n",
      "9\n",
      "transmission_type\n",
      "0    manual\n",
      "1    manual\n",
      "2    manual\n",
      "Name: transmission_type, dtype: object\n",
      "['manual' 'automatic' 'automated_manual' 'direct_drive' 'unknown']\n",
      "5\n",
      "driven_wheels\n",
      "0    rear_wheel_drive\n",
      "1    rear_wheel_drive\n",
      "2    rear_wheel_drive\n",
      "Name: driven_wheels, dtype: object\n",
      "['rear_wheel_drive' 'front_wheel_drive' 'all_wheel_drive'\n",
      " 'four_wheel_drive']\n",
      "4\n",
      "number_of_doors\n",
      "0    2.0\n",
      "1    2.0\n",
      "2    2.0\n",
      "Name: number_of_doors, dtype: float64\n",
      "[ 2.  4.  3. nan]\n",
      "3\n",
      "market_category\n",
      "0    factory_tuner,luxury,high-performance\n",
      "1                       luxury,performance\n",
      "2                  luxury,high-performance\n",
      "Name: market_category, dtype: object\n",
      "['factory_tuner,luxury,high-performance' 'luxury,performance'\n",
      " 'luxury,high-performance' 'luxury' 'performance']\n",
      "71\n",
      "vehicle_size\n",
      "0    compact\n",
      "1    compact\n",
      "2    compact\n",
      "Name: vehicle_size, dtype: object\n",
      "['compact' 'midsize' 'large']\n",
      "3\n",
      "vehicle_style\n",
      "0          coupe\n",
      "1    convertible\n",
      "2          coupe\n",
      "Name: vehicle_style, dtype: object\n",
      "['coupe' 'convertible' 'sedan' 'wagon' '4dr_hatchback']\n",
      "16\n",
      "highway_mpg\n",
      "0    26\n",
      "1    28\n",
      "2    28\n",
      "Name: highway_mpg, dtype: int64\n",
      "[26 28 27 25 24]\n",
      "59\n",
      "city_mpg\n",
      "0    19\n",
      "1    19\n",
      "2    20\n",
      "Name: city_mpg, dtype: int64\n",
      "[19 20 18 17 16]\n",
      "69\n",
      "popularity\n",
      "0    3916\n",
      "1    3916\n",
      "2    3916\n",
      "Name: popularity, dtype: int64\n",
      "[3916 3105  819  617 1013]\n",
      "48\n",
      "msrp\n",
      "0    46135\n",
      "1    40650\n",
      "2    36350\n",
      "Name: msrp, dtype: int64\n",
      "[46135 40650 36350 29450 34500]\n",
      "6049\n"
     ]
    }
   ],
   "source": [
    "for col in df.columns:\n",
    "    print(col)\n",
    "    print(df[col].head(3))\n",
    "    print(df[col].unique()[:5]) # unique returns teh list of unique values. Take 5 of them\n",
    "    print(df[col].nunique())"
   ]
  },
  {
   "cell_type": "markdown",
   "id": "61140544-8c11-496c-a1a0-2f8ae95c70ce",
   "metadata": {},
   "source": [
    "### Distribution Of Price"
   ]
  },
  {
   "cell_type": "code",
   "execution_count": 15,
   "id": "ecfc41cd-a2e4-4f76-96c1-4a6951549ed8",
   "metadata": {},
   "outputs": [],
   "source": [
    "import matplotlib.pyplot as plt\n",
    "import seaborn as sns\n",
    "%matplotlib inline"
   ]
  },
  {
   "cell_type": "code",
   "execution_count": 16,
   "id": "ec04a44b-6ad5-4b8e-a6d7-ef2c5ac4feaf",
   "metadata": {},
   "outputs": [
    {
     "data": {
      "image/png": "[encoded data removed]",
      "text/plain": [
       "<Figure size 432x288 with 1 Axes>"
      ]
     },
     "metadata": {
      "needs_background": "light"
     },
     "output_type": "display_data"
    }
   ],
   "source": [
    "sns.histplot(df.msrp, bins=50, kde=True, color='blue') # not good because the few cars large prices skew the visualization scale \n",
    "plt.xlabel('Price')\n",
    "plt.ylabel('Count')\n",
    "plt.title('Normal Hist of Price vs Count')\n",
    "plt.show()"
   ]
  },
  {
   "cell_type": "code",
   "execution_count": 17,
   "id": "b8daea58-19ee-4396-855a-e651c693d3fe",
   "metadata": {},
   "outputs": [
    {
     "data": {
      "text/plain": [
       "<AxesSubplot:xlabel='msrp', ylabel='Count'>"
      ]
     },
     "execution_count": 17,
     "metadata": {},
     "output_type": "execute_result"
    },
    {
     "data": {
      "image/png": "[encoded data removed]",
      "text/plain": [
       "<Figure size 432x288 with 1 Axes>"
      ]
     },
     "metadata": {
      "needs_background": "light"
     },
     "output_type": "display_data"
    }
   ],
   "source": [
    "sns.histplot(df.msrp[df.msrp < 100000], bins=50) # this zooms in also shows the long tail of the distribution\n",
    "# the large amount of cars a one price initially is probably because of the minimum price that can be set in the platform"
   ]
  },
  {
   "cell_type": "markdown",
   "id": "d7cbe322-2658-4fe2-ba37-d67cbe20f7d6",
   "metadata": {},
   "source": [
    "#### Get rid of the long tail"
   ]
  },
  {
   "cell_type": "code",
   "execution_count": 18,
   "id": "3b1dfe02-ff8b-4388-849d-56a01d39002e",
   "metadata": {},
   "outputs": [
    {
     "data": {
      "text/plain": [
       "array([0.        , 2.30258509, 6.90775528, 9.21034037])"
      ]
     },
     "execution_count": 18,
     "metadata": {},
     "output_type": "execute_result"
    }
   ],
   "source": [
    "np.log([1, 10, 1000, 10000]) # log makes the difference between the extremes smaller but cannot be used in case the value is zero"
   ]
  },
  {
   "cell_type": "code",
   "execution_count": 19,
   "id": "b08002b2-3b6e-4701-882a-e5945c84e2e6",
   "metadata": {},
   "outputs": [
    {
     "data": {
      "text/plain": [
       "array([ 0.        ,  0.69314718,  2.39789527,  4.61512052,  6.90875478,\n",
       "       13.81551156])"
      ]
     },
     "execution_count": 19,
     "metadata": {},
     "output_type": "execute_result"
    }
   ],
   "source": [
    "np.log1p([0, 1, 10, 100, 1000, 1000000]) # adds 1 and takes log"
   ]
  },
  {
   "cell_type": "code",
   "execution_count": 20,
   "id": "46784f79-350b-4556-a7b7-ae92514d60e0",
   "metadata": {},
   "outputs": [
    {
     "data": {
      "text/plain": [
       "<AxesSubplot:xlabel='msrp', ylabel='Count'>"
      ]
     },
     "execution_count": 20,
     "metadata": {},
     "output_type": "execute_result"
    },
    {
     "data": {
      "image/png": "[encoded data removed]",
      "text/plain": [
       "<Figure size 432x288 with 1 Axes>"
      ]
     },
     "metadata": {
      "needs_background": "light"
     },
     "output_type": "display_data"
    }
   ],
   "source": [
    "price_logs = np.log1p(df.msrp)\n",
    "sns.histplot(price_logs, bins=50) # looks like normal distribution"
   ]
  },
  {
   "cell_type": "markdown",
   "id": "ccec3ade-65e6-450b-bfc6-f430f3fbe3fa",
   "metadata": {},
   "source": [
    "### Missing Values"
   ]
  },
  {
   "cell_type": "code",
   "execution_count": 21,
   "id": "987e3475-609f-4f86-8894-4c0cb96290d4",
   "metadata": {},
   "outputs": [
    {
     "data": {
      "text/plain": [
       "make                    0\n",
       "model                   0\n",
       "year                    0\n",
       "engine_fuel_type        3\n",
       "engine_hp              69\n",
       "engine_cylinders       30\n",
       "transmission_type       0\n",
       "driven_wheels           0\n",
       "number_of_doors         6\n",
       "market_category      3742\n",
       "vehicle_size            0\n",
       "vehicle_style           0\n",
       "highway_mpg             0\n",
       "city_mpg                0\n",
       "popularity              0\n",
       "msrp                    0\n",
       "dtype: int64"
      ]
     },
     "execution_count": 21,
     "metadata": {},
     "output_type": "execute_result"
    }
   ],
   "source": [
    "df.isnull().sum()"
   ]
  },
  {
   "cell_type": "markdown",
   "id": "bc23742f-24f5-4638-8162-5decc7403c43",
   "metadata": {},
   "source": [
    "## Setting Up the Validation Framework"
   ]
  },
  {
   "cell_type": "code",
   "execution_count": 22,
   "id": "b956a909-ead0-4ccf-9a7c-fc540a0aae90",
   "metadata": {},
   "outputs": [
    {
     "data": {
      "text/plain": [
       "(11914, 7150, 2382, 2382)"
      ]
     },
     "execution_count": 22,
     "metadata": {},
     "output_type": "execute_result"
    }
   ],
   "source": [
    "# 60 20 20 split\n",
    "n = len(df)\n",
    "n_val = int(0.2 * n)\n",
    "n_test = int(0.2 * n)\n",
    "n_train = n - n_val - n_test\n",
    "n, n_train, n_val, n_test"
   ]
  },
  {
   "cell_type": "markdown",
   "id": "ecd024a8-af56-428c-b802-2026ed6af107",
   "metadata": {
    "jp-MarkdownHeadingCollapsed": true
   },
   "source": [
    "### Naive Split"
   ]
  },
  {
   "cell_type": "code",
   "execution_count": 23,
   "id": "af62ca14-0953-48e6-9c2f-4ce4a5f8931c",
   "metadata": {},
   "outputs": [
    {
     "data": {
      "text/html": [
       "<div>\n",
       "<style scoped>\n",
       "    .dataframe tbody tr th:only-of-type {\n",
       "        vertical-align: middle;\n",
       "    }\n",
       "\n",
       "    .dataframe tbody tr th {\n",
       "        vertical-align: top;\n",
       "    }\n",
       "\n",
       "    .dataframe thead th {\n",
       "        text-align: right;\n",
       "    }\n",
       "</style>\n",
       "<table border=\"1\" class=\"dataframe\">\n",
       "  <thead>\n",
       "    <tr style=\"text-align: right;\">\n",
       "      <th></th>\n",
       "      <th>make</th>\n",
       "      <th>model</th>\n",
       "      <th>year</th>\n",
       "      <th>engine_fuel_type</th>\n",
       "      <th>engine_hp</th>\n",
       "      <th>engine_cylinders</th>\n",
       "      <th>transmission_type</th>\n",
       "      <th>driven_wheels</th>\n",
       "      <th>number_of_doors</th>\n",
       "      <th>market_category</th>\n",
       "      <th>vehicle_size</th>\n",
       "      <th>vehicle_style</th>\n",
       "      <th>highway_mpg</th>\n",
       "      <th>city_mpg</th>\n",
       "      <th>popularity</th>\n",
       "      <th>msrp</th>\n",
       "    </tr>\n",
       "  </thead>\n",
       "  <tbody>\n",
       "    <tr>\n",
       "      <th>0</th>\n",
       "      <td>bmw</td>\n",
       "      <td>1_series_m</td>\n",
       "      <td>2011</td>\n",
       "      <td>premium_unleaded_(required)</td>\n",
       "      <td>335.0</td>\n",
       "      <td>6.0</td>\n",
       "      <td>manual</td>\n",
       "      <td>rear_wheel_drive</td>\n",
       "      <td>2.0</td>\n",
       "      <td>factory_tuner,luxury,high-performance</td>\n",
       "      <td>compact</td>\n",
       "      <td>coupe</td>\n",
       "      <td>26</td>\n",
       "      <td>19</td>\n",
       "      <td>3916</td>\n",
       "      <td>46135</td>\n",
       "    </tr>\n",
       "    <tr>\n",
       "      <th>1</th>\n",
       "      <td>bmw</td>\n",
       "      <td>1_series</td>\n",
       "      <td>2011</td>\n",
       "      <td>premium_unleaded_(required)</td>\n",
       "      <td>300.0</td>\n",
       "      <td>6.0</td>\n",
       "      <td>manual</td>\n",
       "      <td>rear_wheel_drive</td>\n",
       "      <td>2.0</td>\n",
       "      <td>luxury,performance</td>\n",
       "      <td>compact</td>\n",
       "      <td>convertible</td>\n",
       "      <td>28</td>\n",
       "      <td>19</td>\n",
       "      <td>3916</td>\n",
       "      <td>40650</td>\n",
       "    </tr>\n",
       "    <tr>\n",
       "      <th>2</th>\n",
       "      <td>bmw</td>\n",
       "      <td>1_series</td>\n",
       "      <td>2011</td>\n",
       "      <td>premium_unleaded_(required)</td>\n",
       "      <td>300.0</td>\n",
       "      <td>6.0</td>\n",
       "      <td>manual</td>\n",
       "      <td>rear_wheel_drive</td>\n",
       "      <td>2.0</td>\n",
       "      <td>luxury,high-performance</td>\n",
       "      <td>compact</td>\n",
       "      <td>coupe</td>\n",
       "      <td>28</td>\n",
       "      <td>20</td>\n",
       "      <td>3916</td>\n",
       "      <td>36350</td>\n",
       "    </tr>\n",
       "    <tr>\n",
       "      <th>3</th>\n",
       "      <td>bmw</td>\n",
       "      <td>1_series</td>\n",
       "      <td>2011</td>\n",
       "      <td>premium_unleaded_(required)</td>\n",
       "      <td>230.0</td>\n",
       "      <td>6.0</td>\n",
       "      <td>manual</td>\n",
       "      <td>rear_wheel_drive</td>\n",
       "      <td>2.0</td>\n",
       "      <td>luxury,performance</td>\n",
       "      <td>compact</td>\n",
       "      <td>coupe</td>\n",
       "      <td>28</td>\n",
       "      <td>18</td>\n",
       "      <td>3916</td>\n",
       "      <td>29450</td>\n",
       "    </tr>\n",
       "    <tr>\n",
       "      <th>4</th>\n",
       "      <td>bmw</td>\n",
       "      <td>1_series</td>\n",
       "      <td>2011</td>\n",
       "      <td>premium_unleaded_(required)</td>\n",
       "      <td>230.0</td>\n",
       "      <td>6.0</td>\n",
       "      <td>manual</td>\n",
       "      <td>rear_wheel_drive</td>\n",
       "      <td>2.0</td>\n",
       "      <td>luxury</td>\n",
       "      <td>compact</td>\n",
       "      <td>convertible</td>\n",
       "      <td>28</td>\n",
       "      <td>18</td>\n",
       "      <td>3916</td>\n",
       "      <td>34500</td>\n",
       "    </tr>\n",
       "  </tbody>\n",
       "</table>\n",
       "</div>"
      ],
      "text/plain": [
       "  make       model  year             engine_fuel_type  engine_hp  \\\n",
       "0  bmw  1_series_m  2011  premium_unleaded_(required)      335.0   \n",
       "1  bmw    1_series  2011  premium_unleaded_(required)      300.0   \n",
       "2  bmw    1_series  2011  premium_unleaded_(required)      300.0   \n",
       "3  bmw    1_series  2011  premium_unleaded_(required)      230.0   \n",
       "4  bmw    1_series  2011  premium_unleaded_(required)      230.0   \n",
       "\n",
       "   engine_cylinders transmission_type     driven_wheels  number_of_doors  \\\n",
       "0               6.0            manual  rear_wheel_drive              2.0   \n",
       "1               6.0            manual  rear_wheel_drive              2.0   \n",
       "2               6.0            manual  rear_wheel_drive              2.0   \n",
       "3               6.0            manual  rear_wheel_drive              2.0   \n",
       "4               6.0            manual  rear_wheel_drive              2.0   \n",
       "\n",
       "                         market_category vehicle_size vehicle_style  \\\n",
       "0  factory_tuner,luxury,high-performance      compact         coupe   \n",
       "1                     luxury,performance      compact   convertible   \n",
       "2                luxury,high-performance      compact         coupe   \n",
       "3                     luxury,performance      compact         coupe   \n",
       "4                                 luxury      compact   convertible   \n",
       "\n",
       "   highway_mpg  city_mpg  popularity   msrp  \n",
       "0           26        19        3916  46135  \n",
       "1           28        19        3916  40650  \n",
       "2           28        20        3916  36350  \n",
       "3           28        18        3916  29450  \n",
       "4           28        18        3916  34500  "
      ]
     },
     "execution_count": 23,
     "metadata": {},
     "output_type": "execute_result"
    }
   ],
   "source": [
    "df.iloc[:n_val].head()"
   ]
  },
  {
   "cell_type": "code",
   "execution_count": 24,
   "id": "efe7206a-fde5-410c-b92d-0c9fe29866d0",
   "metadata": {},
   "outputs": [
    {
     "data": {
      "text/html": [
       "<div>\n",
       "<style scoped>\n",
       "    .dataframe tbody tr th:only-of-type {\n",
       "        vertical-align: middle;\n",
       "    }\n",
       "\n",
       "    .dataframe tbody tr th {\n",
       "        vertical-align: top;\n",
       "    }\n",
       "\n",
       "    .dataframe thead th {\n",
       "        text-align: right;\n",
       "    }\n",
       "</style>\n",
       "<table border=\"1\" class=\"dataframe\">\n",
       "  <thead>\n",
       "    <tr style=\"text-align: right;\">\n",
       "      <th></th>\n",
       "      <th>make</th>\n",
       "      <th>model</th>\n",
       "      <th>year</th>\n",
       "      <th>engine_fuel_type</th>\n",
       "      <th>engine_hp</th>\n",
       "      <th>engine_cylinders</th>\n",
       "      <th>transmission_type</th>\n",
       "      <th>driven_wheels</th>\n",
       "      <th>number_of_doors</th>\n",
       "      <th>market_category</th>\n",
       "      <th>vehicle_size</th>\n",
       "      <th>vehicle_style</th>\n",
       "      <th>highway_mpg</th>\n",
       "      <th>city_mpg</th>\n",
       "      <th>popularity</th>\n",
       "      <th>msrp</th>\n",
       "    </tr>\n",
       "  </thead>\n",
       "  <tbody>\n",
       "    <tr>\n",
       "      <th>2382</th>\n",
       "      <td>porsche</td>\n",
       "      <td>cayenne</td>\n",
       "      <td>2017</td>\n",
       "      <td>premium_unleaded_(required)</td>\n",
       "      <td>570.0</td>\n",
       "      <td>8.0</td>\n",
       "      <td>automatic</td>\n",
       "      <td>all_wheel_drive</td>\n",
       "      <td>4.0</td>\n",
       "      <td>crossover,luxury,high-performance</td>\n",
       "      <td>midsize</td>\n",
       "      <td>4dr_suv</td>\n",
       "      <td>21</td>\n",
       "      <td>14</td>\n",
       "      <td>1715</td>\n",
       "      <td>159600</td>\n",
       "    </tr>\n",
       "    <tr>\n",
       "      <th>2383</th>\n",
       "      <td>porsche</td>\n",
       "      <td>cayenne</td>\n",
       "      <td>2017</td>\n",
       "      <td>premium_unleaded_(required)</td>\n",
       "      <td>420.0</td>\n",
       "      <td>6.0</td>\n",
       "      <td>automatic</td>\n",
       "      <td>all_wheel_drive</td>\n",
       "      <td>4.0</td>\n",
       "      <td>crossover,luxury,performance</td>\n",
       "      <td>midsize</td>\n",
       "      <td>4dr_suv</td>\n",
       "      <td>24</td>\n",
       "      <td>17</td>\n",
       "      <td>1715</td>\n",
       "      <td>76200</td>\n",
       "    </tr>\n",
       "    <tr>\n",
       "      <th>2384</th>\n",
       "      <td>porsche</td>\n",
       "      <td>cayman_s</td>\n",
       "      <td>2006</td>\n",
       "      <td>premium_unleaded_(required)</td>\n",
       "      <td>295.0</td>\n",
       "      <td>6.0</td>\n",
       "      <td>manual</td>\n",
       "      <td>rear_wheel_drive</td>\n",
       "      <td>2.0</td>\n",
       "      <td>luxury,high-performance</td>\n",
       "      <td>compact</td>\n",
       "      <td>coupe</td>\n",
       "      <td>26</td>\n",
       "      <td>18</td>\n",
       "      <td>1715</td>\n",
       "      <td>58900</td>\n",
       "    </tr>\n",
       "    <tr>\n",
       "      <th>2385</th>\n",
       "      <td>porsche</td>\n",
       "      <td>cayman</td>\n",
       "      <td>2014</td>\n",
       "      <td>premium_unleaded_(required)</td>\n",
       "      <td>275.0</td>\n",
       "      <td>6.0</td>\n",
       "      <td>manual</td>\n",
       "      <td>rear_wheel_drive</td>\n",
       "      <td>2.0</td>\n",
       "      <td>luxury,high-performance</td>\n",
       "      <td>compact</td>\n",
       "      <td>coupe</td>\n",
       "      <td>30</td>\n",
       "      <td>20</td>\n",
       "      <td>1715</td>\n",
       "      <td>52600</td>\n",
       "    </tr>\n",
       "    <tr>\n",
       "      <th>2386</th>\n",
       "      <td>porsche</td>\n",
       "      <td>cayman</td>\n",
       "      <td>2014</td>\n",
       "      <td>premium_unleaded_(required)</td>\n",
       "      <td>325.0</td>\n",
       "      <td>6.0</td>\n",
       "      <td>manual</td>\n",
       "      <td>rear_wheel_drive</td>\n",
       "      <td>2.0</td>\n",
       "      <td>luxury,high-performance</td>\n",
       "      <td>compact</td>\n",
       "      <td>coupe</td>\n",
       "      <td>28</td>\n",
       "      <td>20</td>\n",
       "      <td>1715</td>\n",
       "      <td>63800</td>\n",
       "    </tr>\n",
       "  </tbody>\n",
       "</table>\n",
       "</div>"
      ],
      "text/plain": [
       "         make     model  year             engine_fuel_type  engine_hp  \\\n",
       "2382  porsche   cayenne  2017  premium_unleaded_(required)      570.0   \n",
       "2383  porsche   cayenne  2017  premium_unleaded_(required)      420.0   \n",
       "2384  porsche  cayman_s  2006  premium_unleaded_(required)      295.0   \n",
       "2385  porsche    cayman  2014  premium_unleaded_(required)      275.0   \n",
       "2386  porsche    cayman  2014  premium_unleaded_(required)      325.0   \n",
       "\n",
       "      engine_cylinders transmission_type     driven_wheels  number_of_doors  \\\n",
       "2382               8.0         automatic   all_wheel_drive              4.0   \n",
       "2383               6.0         automatic   all_wheel_drive              4.0   \n",
       "2384               6.0            manual  rear_wheel_drive              2.0   \n",
       "2385               6.0            manual  rear_wheel_drive              2.0   \n",
       "2386               6.0            manual  rear_wheel_drive              2.0   \n",
       "\n",
       "                        market_category vehicle_size vehicle_style  \\\n",
       "2382  crossover,luxury,high-performance      midsize       4dr_suv   \n",
       "2383       crossover,luxury,performance      midsize       4dr_suv   \n",
       "2384            luxury,high-performance      compact         coupe   \n",
       "2385            luxury,high-performance      compact         coupe   \n",
       "2386            luxury,high-performance      compact         coupe   \n",
       "\n",
       "      highway_mpg  city_mpg  popularity    msrp  \n",
       "2382           21        14        1715  159600  \n",
       "2383           24        17        1715   76200  \n",
       "2384           26        18        1715   58900  \n",
       "2385           30        20        1715   52600  \n",
       "2386           28        20        1715   63800  "
      ]
     },
     "execution_count": 24,
     "metadata": {},
     "output_type": "execute_result"
    }
   ],
   "source": [
    "df.iloc[n_val:n_val+n_test].head()"
   ]
  },
  {
   "cell_type": "code",
   "execution_count": 25,
   "id": "bc1f87fe-bc94-4609-9007-4d6a408cd7cc",
   "metadata": {},
   "outputs": [],
   "source": [
    "# Does not work because the data is sequential"
   ]
  },
  {
   "cell_type": "markdown",
   "id": "7ab5393d-211f-4b86-84ea-3eb1a7688e1a",
   "metadata": {},
   "source": [
    "### Shuffled Split"
   ]
  },
  {
   "cell_type": "code",
   "execution_count": 26,
   "id": "d95c9de8-2682-48f0-86fe-f9bdca08b2e5",
   "metadata": {},
   "outputs": [],
   "source": [
    "# create an index same length as the df index\n",
    "idx = np.arange(n)"
   ]
  },
  {
   "cell_type": "code",
   "execution_count": 27,
   "id": "d04e2f13-43b6-48f3-8357-1a7e04109ba8",
   "metadata": {},
   "outputs": [
    {
     "data": {
      "text/plain": [
       "array([ 3326,  8655,  8745, ...,  7391,  4367, 10714])"
      ]
     },
     "execution_count": 27,
     "metadata": {},
     "output_type": "execute_result"
    }
   ],
   "source": [
    "# Shuffle the index\n",
    "np.random.seed(20)\n",
    "np.random.shuffle(idx)\n",
    "idx"
   ]
  },
  {
   "cell_type": "code",
   "execution_count": 28,
   "id": "3f76631f-8b04-4bbf-958e-9b5ad46bd7d8",
   "metadata": {},
   "outputs": [],
   "source": [
    "idx_val = idx[ : n_val]\n",
    "idx_test = idx[n_val: n_val + n_test]\n",
    "idx_train = idx[n_val + n_test: ]"
   ]
  },
  {
   "cell_type": "code",
   "execution_count": 29,
   "id": "534aefab-26d5-45a1-b90e-5494dd20d9a5",
   "metadata": {},
   "outputs": [],
   "source": [
    "df_val = df.iloc[idx_val]\n",
    "df_test = df.iloc[idx_test]\n",
    "df_train = df.iloc[idx_train]"
   ]
  },
  {
   "cell_type": "code",
   "execution_count": 30,
   "id": "8ba69d58-9050-4e9e-b302-ffc0c2b1e942",
   "metadata": {},
   "outputs": [],
   "source": [
    "assert len(df_val) == n_val\n",
    "assert len(df_test) == n_test\n",
    "assert len(df_train) == n_train"
   ]
  },
  {
   "cell_type": "markdown",
   "id": "1b40c1ad-a3a0-445d-a0e3-ae77a7c53916",
   "metadata": {},
   "source": [
    "### Reset Indices"
   ]
  },
  {
   "cell_type": "code",
   "execution_count": 31,
   "id": "0f7491ec-5ed4-42cf-b2fd-7ce4f24ff912",
   "metadata": {},
   "outputs": [],
   "source": [
    "df_train = df_train.reset_index(drop=True)\n",
    "df_test = df_test.reset_index(drop=True)\n",
    "df_val = df_val.reset_index(drop=True)"
   ]
  },
  {
   "cell_type": "markdown",
   "id": "5aed18f1-2ea9-44bb-a38b-27bfcf51d9ad",
   "metadata": {},
   "source": [
    "### Create Feature df and target vector "
   ]
  },
  {
   "cell_type": "code",
   "execution_count": 32,
   "id": "ad45a72e-4b48-4ba0-abf3-5413bcffa57c",
   "metadata": {},
   "outputs": [],
   "source": [
    "y_train = np.log1p(df_train.msrp).values\n",
    "y_test = np.log1p(df_test.msrp).values\n",
    "y_val = np.log1p(df_val.msrp).values"
   ]
  },
  {
   "cell_type": "code",
   "execution_count": 33,
   "id": "7109f681-fb4b-461f-b185-5b76a830228d",
   "metadata": {},
   "outputs": [
    {
     "data": {
      "text/plain": [
       "array([ 7.60140233,  9.97469131,  7.60140233, ..., 10.27215035,\n",
       "       11.19685764, 10.48963398])"
      ]
     },
     "execution_count": 33,
     "metadata": {},
     "output_type": "execute_result"
    }
   ],
   "source": [
    "y_val"
   ]
  },
  {
   "cell_type": "code",
   "execution_count": 34,
   "id": "22596e6f-f6da-4d8a-aa6c-283ce0b6c291",
   "metadata": {},
   "outputs": [],
   "source": [
    "del df_train[\"msrp\"]\n",
    "del df_test[\"msrp\"]\n",
    "del df_val[\"msrp\"]"
   ]
  },
  {
   "cell_type": "code",
   "execution_count": 35,
   "id": "8b90a812-eaa2-4eb2-8670-b885fd221da5",
   "metadata": {},
   "outputs": [],
   "source": [
    "assert len(y_val) == n_val\n",
    "assert len(y_test) == n_test\n",
    "assert len(y_train) == n_train"
   ]
  },
  {
   "cell_type": "markdown",
   "id": "32c720ca-7dd4-4966-85f0-3d351aeb58f8",
   "metadata": {},
   "source": [
    "# Linear Regression"
   ]
  },
  {
   "cell_type": "markdown",
   "id": "9f9e2aef-3ccf-4558-b55c-bffd0929d05c",
   "metadata": {},
   "source": [
    "## Scalar Form"
   ]
  },
  {
   "cell_type": "markdown",
   "id": "6ab705ee-33d5-4503-8661-3e5ee83f5d67",
   "metadata": {},
   "source": [
    "Simplified form of a model is a function that takes in features of an instance i and returns a value that is close to its price\n",
    "\n",
    "$g(x_{i1}, x_{i2}, .... x_{in}) \\approx y_i$"
   ]
  },
  {
   "cell_type": "markdown",
   "id": "f3147c13-03ff-4f6a-b9c0-e4f68dc1fcb8",
   "metadata": {},
   "source": [
    "For Linear model we can represent this model as below:\n",
    "\n",
    "$g(x_i) = w_0 + w_1*x_{i1} + w_2 * x_{i2}... + w_n * x_{in}$\n",
    "\n",
    "$g(x_i) = w_0 + \\sum_{j=1}^n w_i * x_{ij}$"
   ]
  },
  {
   "cell_type": "markdown",
   "id": "34d1695e-c573-43f9-bb9f-c4171a2f648b",
   "metadata": {},
   "source": [
    "$w_0$ = The Bias term. Prediction we make about the car without knowing anything\n",
    "\n",
    "$w_i$ = The weights for each feature"
   ]
  },
  {
   "cell_type": "markdown",
   "id": "128f8807-930c-44cd-bbe3-f01b7edda7a3",
   "metadata": {},
   "source": [
    "## Vector Form"
   ]
  },
  {
   "cell_type": "markdown",
   "id": "7c4abddf-b2f1-42c0-a72d-2eb71ba80a03",
   "metadata": {},
   "source": [
    "The above can be extended to a vector from as below\n",
    "\n",
    "$g(\\vec{X_i}) = w_0 + \\vec{W}.\\vec{X_i}$\n",
    "\n",
    "To make the notation easier, we can add a feature $x_{i0}$ to the feature vector. Its value will always be 1. \n",
    "\n",
    "So the equation reduces to \n",
    "\n",
    "$g(\\vec{X_i}) = \\vec{W}.\\vec{X_i}$"
   ]
  },
  {
   "cell_type": "markdown",
   "id": "69aa5070-c69d-4172-ae03-5daecc15831f",
   "metadata": {},
   "source": [
    "## Matrix Form"
   ]
  },
  {
   "cell_type": "markdown",
   "id": "931c2386-f7d0-41ff-afef-cf2f4ac08395",
   "metadata": {},
   "source": [
    "$ g(X) = X \\vec{w} $"
   ]
  },
  {
   "cell_type": "markdown",
   "id": "dbc66f90-6b5f-4a5e-b73c-9fb38d05c111",
   "metadata": {},
   "source": [
    "## Normal Form of a Linear Regression model"
   ]
  },
  {
   "cell_type": "markdown",
   "id": "481c2e72-d4a7-4b5f-84a4-d9ea29da401c",
   "metadata": {},
   "source": [
    "$X\\vec{w} = y_{pred}$\n",
    "\n",
    "$X^TX\\vec{w} = X^Ty_{pred}$\n",
    "\n",
    "${(X^TX)}^{-1}(X^TX\\vec{w}) = {(X^TX)}^{-1}(X^Ty_{pred})$\n",
    "\n",
    "$\\vec{w} = {(X^TX)}^{-1}(X^Ty_{pred})$"
   ]
  },
  {
   "cell_type": "markdown",
   "id": "a27bdbce-ea9d-4386-8784-a1418fa6f0d4",
   "metadata": {},
   "source": [
    "Normal form of linear regression is given by\n",
    "\n",
    "$$\\vec{w} = {(X^TX)}^{-1}(X^Ty_{pred})$$\n",
    "\n",
    "Where,\n",
    "\n",
    "$X$ = Feature Matrix with ones added to the first column\n",
    "\n",
    "$\\vec{w}$ = Weights\n",
    "\n",
    "${(X^TX)}^{-1}$ = Gram Matrix\n",
    "\n",
    "$y_{pred}$ = Prediction"
   ]
  },
  {
   "cell_type": "markdown",
   "id": "0fa1538d-2e3a-4ad8-983a-0911fd5b0b91",
   "metadata": {},
   "source": [
    "## Training a Linear regression model"
   ]
  },
  {
   "cell_type": "markdown",
   "id": "38f00e9e-f25e-48ae-bf8f-1814638d4a1c",
   "metadata": {},
   "source": [
    "### Create a dummy Dataset"
   ]
  },
  {
   "cell_type": "code",
   "execution_count": 36,
   "id": "eaa32a91-0e6b-4a54-af76-fc2f519a2325",
   "metadata": {},
   "outputs": [],
   "source": [
    "X = np.column_stack((\n",
    "        np.random.randint(13, 56, size=(15,1)),\n",
    "        np.random.randint(135, 746, size=(15,1)),\n",
    "        np.random.randn(15,1),\n",
    "        np.random.randn(15,1),\n",
    "    )) # np.hstack also works\n",
    "y = np.random.randint(350, 900, size=(15,1))"
   ]
  },
  {
   "cell_type": "markdown",
   "id": "543df237-2b4f-4c53-a5e5-d18793edd15a",
   "metadata": {
    "jp-MarkdownHeadingCollapsed": true
   },
   "source": [
    "### Add $x_{i0}$ to the feature matrix"
   ]
  },
  {
   "cell_type": "code",
   "execution_count": 37,
   "id": "abfb2363-a136-47e5-be62-826ecf8ddfd7",
   "metadata": {},
   "outputs": [],
   "source": [
    "ones = np.ones(X.shape[0])\n",
    "X = np.column_stack((ones, X))"
   ]
  },
  {
   "cell_type": "markdown",
   "id": "304a123d-7852-4662-b173-63b2cc0ba474",
   "metadata": {},
   "source": [
    "### Gram Matrix"
   ]
  },
  {
   "cell_type": "code",
   "execution_count": 38,
   "id": "ef0946e1-abc6-41ae-9db9-5bf2fb724f7d",
   "metadata": {},
   "outputs": [],
   "source": [
    "XTX = X.T.dot(X)"
   ]
  },
  {
   "cell_type": "code",
   "execution_count": 39,
   "id": "61b89fc2-c689-4a09-909b-6558469da307",
   "metadata": {},
   "outputs": [],
   "source": [
    "XTX_inv = np.linalg.inv(XTX)"
   ]
  },
  {
   "cell_type": "markdown",
   "id": "bc28a09a-36f5-4f81-8db2-3efefa899096",
   "metadata": {},
   "source": [
    "### Evaluate W From Normal Form"
   ]
  },
  {
   "cell_type": "code",
   "execution_count": 40,
   "id": "96c5153c-0c69-4665-a8b0-6e7120621762",
   "metadata": {},
   "outputs": [
    {
     "data": {
      "text/plain": [
       "array([[ 8.49160989e+02],\n",
       "       [-4.09344935e+00],\n",
       "       [-1.02645223e-01],\n",
       "       [ 3.72770078e+00],\n",
       "       [-6.65538092e+01]])"
      ]
     },
     "execution_count": 40,
     "metadata": {},
     "output_type": "execute_result"
    }
   ],
   "source": [
    "XTy = X.T.dot(y)\n",
    "w = XTX_inv.dot(XTy)\n",
    "w"
   ]
  },
  {
   "cell_type": "markdown",
   "id": "827ce71c-bd12-4dda-b337-b649b090b5db",
   "metadata": {},
   "source": [
    "### Complete Function"
   ]
  },
  {
   "cell_type": "code",
   "execution_count": 41,
   "id": "2edeca0d-1407-4986-9953-7730361dfbeb",
   "metadata": {},
   "outputs": [],
   "source": [
    "def train_linear_regression(X, y):\n",
    "    ones = np.ones(X.shape[0])\n",
    "    X = np.column_stack((ones, X))\n",
    "\n",
    "    XTX = X.T.dot(X)\n",
    "    XTX_inv = np.linalg.inv(XTX)\n",
    "    XTy = X.T.dot(y)\n",
    "    w_full = XTX_inv.dot(XTy)\n",
    "    w_0 = w_full[0].item(0)\n",
    "    w = w_full[1:]\n",
    "    return w_0, w"
   ]
  },
  {
   "cell_type": "code",
   "execution_count": 42,
   "id": "4fb665f0-eab9-437d-a9a5-c6fbbe3b3886",
   "metadata": {},
   "outputs": [
    {
     "data": {
      "text/plain": [
       "(431.9559208192768,\n",
       " array([[ 2.69347007],\n",
       "        [ 0.07265494],\n",
       "        [-3.34600813],\n",
       "        [-7.33368923]]))"
      ]
     },
     "execution_count": 42,
     "metadata": {},
     "output_type": "execute_result"
    }
   ],
   "source": [
    "X = np.column_stack((\n",
    "        np.random.randint(13, 56, size=(15,1)),\n",
    "        np.random.randint(135, 746, size=(15,1)),\n",
    "        np.random.randn(15,1),\n",
    "        np.random.randn(15,1),\n",
    "    )) # np.hstack also works\n",
    "y = np.random.randint(350, 900, size=(15,1))\n",
    "train_linear_regression(X, y)"
   ]
  },
  {
   "cell_type": "markdown",
   "id": "99c7a108-ec4b-458a-88e6-4a870bf16c6e",
   "metadata": {},
   "source": [
    "# Create a baseline model"
   ]
  },
  {
   "cell_type": "code",
   "execution_count": 43,
   "id": "1ab2e2ff-4ab8-4759-9dce-5477703e21f1",
   "metadata": {},
   "outputs": [
    {
     "data": {
      "text/plain": [
       "year                  int64\n",
       "engine_hp           float64\n",
       "engine_cylinders    float64\n",
       "number_of_doors     float64\n",
       "highway_mpg           int64\n",
       "city_mpg              int64\n",
       "popularity            int64\n",
       "dtype: object"
      ]
     },
     "execution_count": 43,
     "metadata": {},
     "output_type": "execute_result"
    }
   ],
   "source": [
    "df_train.dtypes[df_train.dtypes != 'object']"
   ]
  },
  {
   "cell_type": "code",
   "execution_count": 44,
   "id": "a111a218-12b2-4fde-8710-0e185880aa8c",
   "metadata": {},
   "outputs": [
    {
     "data": {
      "text/plain": [
       "array([[1.740e+02, 4.000e+00, 4.100e+01, 3.100e+01, 2.202e+03],\n",
       "       [3.300e+02, 6.000e+00, 2.700e+01, 1.900e+01, 1.900e+02],\n",
       "       [2.000e+02, 4.000e+00, 2.600e+01, 1.900e+01, 5.490e+02],\n",
       "       ...,\n",
       "       [2.240e+02, 6.000e+00, 2.700e+01, 2.000e+01, 4.360e+02],\n",
       "       [2.100e+02, 6.000e+00, 1.900e+01, 1.300e+01, 5.657e+03],\n",
       "       [2.750e+02, 6.000e+00, 1.900e+01, 1.400e+01, 5.657e+03]])"
      ]
     },
     "execution_count": 44,
     "metadata": {},
     "output_type": "execute_result"
    }
   ],
   "source": [
    "base_cols = ['engine_hp', 'engine_cylinders', 'highway_mpg', 'city_mpg', 'popularity']\n",
    "X_train = df_train[base_cols].fillna(0).values\n",
    "X_train"
   ]
  },
  {
   "cell_type": "code",
   "execution_count": 45,
   "id": "afaa4768-fa60-4f2a-b7ed-c7a712d77f6b",
   "metadata": {},
   "outputs": [
    {
     "data": {
      "text/plain": [
       "array([10.0123868 , 10.83073801,  9.95208722, ..., 10.36394577,\n",
       "       10.38470927, 10.45221571])"
      ]
     },
     "execution_count": 45,
     "metadata": {},
     "output_type": "execute_result"
    }
   ],
   "source": [
    "y_train"
   ]
  },
  {
   "cell_type": "code",
   "execution_count": 46,
   "id": "88081d89-e532-47e1-9866-cf2f82be2b3f",
   "metadata": {},
   "outputs": [],
   "source": [
    "w0, w = train_linear_regression(X_train, y_train)"
   ]
  },
  {
   "cell_type": "markdown",
   "id": "48a99f49-4f03-41c0-bf3a-5977d5ce50f0",
   "metadata": {},
   "source": [
    "## Plot predictions with actual prices"
   ]
  },
  {
   "cell_type": "code",
   "execution_count": 47,
   "id": "474f784e-9f4c-4f96-9a5e-0abcb56a9d7b",
   "metadata": {},
   "outputs": [],
   "source": [
    "y_pred = w0 + X_train.dot(w)"
   ]
  },
  {
   "cell_type": "code",
   "execution_count": 48,
   "id": "02eeec32-06c6-46d8-a556-880ace1a65dc",
   "metadata": {},
   "outputs": [
    {
     "data": {
      "text/plain": [
       "<AxesSubplot:ylabel='Count'>"
      ]
     },
     "execution_count": 48,
     "metadata": {},
     "output_type": "execute_result"
    },
    {
     "data": {
      "image/png": "[encoded data removed]",
      "text/plain": [
       "<Figure size 432x288 with 1 Axes>"
      ]
     },
     "metadata": {
      "needs_background": "light"
     },
     "output_type": "display_data"
    }
   ],
   "source": [
    "sns.histplot(y_pred, color='red', alpha=0.5, bins=50)\n",
    "sns.histplot(y_train, color='blue', alpha=0.5, bins=50)"
   ]
  },
  {
   "cell_type": "markdown",
   "id": "f305b0ef-88f6-4bb1-b8ed-a63c103d8bd6",
   "metadata": {},
   "source": [
    "# Evaluating the Model"
   ]
  },
  {
   "cell_type": "markdown",
   "id": "3530e6dd-6fd4-491e-a6b5-65ae7a45fd72",
   "metadata": {},
   "source": [
    "## RMSE"
   ]
  },
  {
   "cell_type": "markdown",
   "id": "89151b32-7442-4930-964c-3ea5a316671f",
   "metadata": {},
   "source": [
    "$RMSE = \\sqrt{\\frac{1}{m}\\sum{(g(x_i) - y_i)^2}}$"
   ]
  },
  {
   "cell_type": "code",
   "execution_count": 49,
   "id": "29318d31-fa30-4937-bd55-3d71f3225c0f",
   "metadata": {},
   "outputs": [],
   "source": [
    "def rmse(y, y_pred):\n",
    "    sq_err = (y - y_pred) ** 2\n",
    "    rmse = sq_err.mean() ** 0.5\n",
    "    return rmse"
   ]
  },
  {
   "cell_type": "code",
   "execution_count": 50,
   "id": "ed9128cc-0df9-4d4f-b122-b4429fcd7fec",
   "metadata": {},
   "outputs": [
    {
     "data": {
      "text/plain": [
       "0.7537289294963018"
      ]
     },
     "execution_count": 50,
     "metadata": {},
     "output_type": "execute_result"
    }
   ],
   "source": [
    "rmse(y_train, y_pred)"
   ]
  },
  {
   "cell_type": "markdown",
   "id": "cbb8dbca-5674-44d2-85c5-a79a28e5cb4e",
   "metadata": {},
   "source": [
    "# Validation the model"
   ]
  },
  {
   "cell_type": "code",
   "execution_count": 51,
   "id": "53b98ca5-513b-44d2-aeef-37695649d10d",
   "metadata": {},
   "outputs": [],
   "source": [
    "def prepare_dataset(df):\n",
    "    base_cols = ['engine_hp', 'engine_cylinders', 'highway_mpg', 'city_mpg', 'popularity']\n",
    "    X = df[base_cols].fillna(0).values\n",
    "    return X"
   ]
  },
  {
   "cell_type": "code",
   "execution_count": 52,
   "id": "93700a89-9ed7-4b40-b2f5-a40a12c2dd82",
   "metadata": {},
   "outputs": [
    {
     "data": {
      "text/plain": [
       "0.8214005503044416"
      ]
     },
     "execution_count": 52,
     "metadata": {},
     "output_type": "execute_result"
    }
   ],
   "source": [
    "X_train = prepare_dataset(df_train)\n",
    "w0, w = train_linear_regression(X_train, y_train)\n",
    "\n",
    "X_val = prepare_dataset(df_val)\n",
    "y_pred = w0 + X_val.dot(w)\n",
    "\n",
    "rmse(y_val, y_pred)"
   ]
  },
  {
   "cell_type": "markdown",
   "id": "cb82c480-143e-47a5-b31e-b4126d851873",
   "metadata": {},
   "source": [
    "RMSE Is bad. Higher RMSE worse the model"
   ]
  },
  {
   "cell_type": "markdown",
   "id": "20efb67d-e743-4d81-9348-42f69444d830",
   "metadata": {},
   "source": [
    "# Feature Engineering"
   ]
  },
  {
   "cell_type": "code",
   "execution_count": 53,
   "id": "f77003a4-a0ac-4978-9a6c-496e6a4b07ef",
   "metadata": {},
   "outputs": [],
   "source": [
    "# the age of the car is important\n",
    "def prepare_dataset(df):\n",
    "    df = df.copy() # copy so as not to mutate the original dataframe\n",
    "    df['age'] = 2017 - df['year'] # 2017 is df.year.max()\n",
    "    base_cols = ['engine_hp', 'engine_cylinders', 'highway_mpg', 'city_mpg', 'popularity', 'age']\n",
    "    X = df[base_cols].fillna(0).values\n",
    "    return X"
   ]
  },
  {
   "cell_type": "code",
   "execution_count": 54,
   "id": "a623b007-84be-47b5-881b-2ee40acc5ca8",
   "metadata": {},
   "outputs": [
    {
     "data": {
      "text/plain": [
       "0.5291780443727402"
      ]
     },
     "execution_count": 54,
     "metadata": {},
     "output_type": "execute_result"
    }
   ],
   "source": [
    "X_train = prepare_dataset(df_train)\n",
    "w0, w = train_linear_regression(X_train, y_train)\n",
    "\n",
    "X_val = prepare_dataset(df_val)\n",
    "y_pred = w0 + X_val.dot(w)\n",
    "\n",
    "rmse(y_val, y_pred)\n"
   ]
  },
  {
   "cell_type": "markdown",
   "id": "fdb08258-aa5a-4579-b5d0-addb8d51ac2f",
   "metadata": {},
   "source": [
    "RMSE Improved"
   ]
  },
  {
   "cell_type": "code",
   "execution_count": 55,
   "id": "5e58d364-5157-49ae-ae8e-0e2e221977b3",
   "metadata": {},
   "outputs": [
    {
     "data": {
      "text/plain": [
       "<AxesSubplot:ylabel='Count'>"
      ]
     },
     "execution_count": 55,
     "metadata": {},
     "output_type": "execute_result"
    },
    {
     "data": {
      "image/png": "[encoded data removed]",
      "text/plain": [
       "<Figure size 432x288 with 1 Axes>"
      ]
     },
     "metadata": {
      "needs_background": "light"
     },
     "output_type": "display_data"
    }
   ],
   "source": [
    "sns.histplot(y_pred, color='red', alpha=0.5, bins=50)\n",
    "sns.histplot(y_val, color='blue', alpha=0.5, bins=50)"
   ]
  },
  {
   "cell_type": "markdown",
   "id": "3cc70c84-9033-44a6-b6ef-946370177588",
   "metadata": {},
   "source": [
    "# Categorical Variables"
   ]
  },
  {
   "cell_type": "markdown",
   "id": "53fa8e77-040e-4dbd-8c75-80cf39c831d9",
   "metadata": {},
   "source": [
    "Categorical variables are non number variables. These are typically strings. Even numerical variables can be categorical. Eg: number_of_doors"
   ]
  },
  {
   "cell_type": "markdown",
   "id": "440dd8fa-4b15-4891-a6e1-1bb837cb3ae7",
   "metadata": {},
   "source": [
    "## One Hot encoding "
   ]
  },
  {
   "cell_type": "markdown",
   "id": "a8714cca-d3e8-4379-8b52-dfed592a8db2",
   "metadata": {},
   "source": [
    "Replaces categorical variables with multiple boolean variables"
   ]
  },
  {
   "cell_type": "markdown",
   "id": "828bfe68-ca31-42f1-8de8-ca58cee5c9d7",
   "metadata": {},
   "source": [
    "### Number Of Doors"
   ]
  },
  {
   "cell_type": "code",
   "execution_count": 56,
   "id": "b7291c93-6c08-486b-a3c4-2949ffebd397",
   "metadata": {},
   "outputs": [],
   "source": [
    "# the Number of doors is important\n",
    "def prepare_dataset(df):\n",
    "    df = df.copy() # copy so as not to mutate the original dataframe\n",
    "    base_cols = ['engine_hp', 'engine_cylinders', 'highway_mpg', 'city_mpg', 'popularity', 'age']\n",
    "\n",
    "    df['age'] = 2017 - df['year'] # 2017 is df.year.max()\n",
    "    for v in [2, 3, 4]:\n",
    "        df[f'num_doors_{v}'] = (df['number_of_doors'] == v).astype('int')\n",
    "        base_cols.append(f'num_doors_{v}')\n",
    "\n",
    "    \n",
    "    X = df[base_cols].fillna(0).values\n",
    "    return X"
   ]
  },
  {
   "cell_type": "code",
   "execution_count": 57,
   "id": "2b411c09-30e1-477d-8415-424c2b6c70ae",
   "metadata": {},
   "outputs": [
    {
     "data": {
      "text/plain": [
       "0.5320219852528075"
      ]
     },
     "execution_count": 57,
     "metadata": {},
     "output_type": "execute_result"
    }
   ],
   "source": [
    "X_train = prepare_dataset(df_train)\n",
    "w0, w = train_linear_regression(X_train, y_train)\n",
    "\n",
    "X_val = prepare_dataset(df_val)\n",
    "y_pred = w0 + X_val.dot(w)\n",
    "\n",
    "rmse(y_val, y_pred)"
   ]
  },
  {
   "cell_type": "markdown",
   "id": "cc4f91ad-bbea-4bdf-939c-07c2cebedb73",
   "metadata": {},
   "source": [
    "### Make"
   ]
  },
  {
   "cell_type": "markdown",
   "id": "7833b02b-b1e8-4103-bb03-fbffe42d97ad",
   "metadata": {},
   "source": [
    "There are too many makes"
   ]
  },
  {
   "cell_type": "code",
   "execution_count": 58,
   "id": "34c9d6c0-5037-4c3f-80b3-7f297a86de8f",
   "metadata": {},
   "outputs": [
    {
     "data": {
      "text/plain": [
       "48"
      ]
     },
     "execution_count": 58,
     "metadata": {},
     "output_type": "execute_result"
    }
   ],
   "source": [
    "df.make.nunique()"
   ]
  },
  {
   "cell_type": "markdown",
   "id": "9f159c8a-dd86-4b1d-9361-a816df6c6a00",
   "metadata": {},
   "source": [
    "We can use only the top 5 makes to encode"
   ]
  },
  {
   "cell_type": "code",
   "execution_count": 59,
   "id": "033389fd-61e1-4a5a-b912-eda0aa339197",
   "metadata": {},
   "outputs": [],
   "source": [
    "makes = list(df.make.value_counts().head().index)"
   ]
  },
  {
   "cell_type": "code",
   "execution_count": 60,
   "id": "dca1b6c4-5675-4cd7-b0fe-99698a26562a",
   "metadata": {},
   "outputs": [],
   "source": [
    "def prepare_dataset(df):\n",
    "    df = df.copy() # copy so as not to mutate the original dataframe\n",
    "    base_cols = ['engine_hp', 'engine_cylinders', 'highway_mpg', 'city_mpg', 'popularity', 'age']\n",
    "    # makes = list(df.make.value_counts().index)\n",
    "    \n",
    "    df['age'] = 2017 - df['year'] # 2017 is df.year.max()\n",
    "    for v in [2, 3, 4]:\n",
    "        df[f'num_doors_{v}'] = (df['number_of_doors'] == v).astype('int')\n",
    "        base_cols.append(f'num_doors_{v}')\n",
    "    \n",
    "    for v in makes:\n",
    "        df[f'make_{v}'] = (df['make'] == v).astype('int')\n",
    "        base_cols.append(f'make_{v}')\n",
    "    \n",
    "    X = df[base_cols].fillna(0).values\n",
    "    return X"
   ]
  },
  {
   "cell_type": "code",
   "execution_count": 61,
   "id": "b4fb72e1-5e88-419a-8acf-a72c60d5beb3",
   "metadata": {},
   "outputs": [
    {
     "data": {
      "text/plain": [
       "0.5321401308542517"
      ]
     },
     "execution_count": 61,
     "metadata": {},
     "output_type": "execute_result"
    }
   ],
   "source": [
    "X_train = prepare_dataset(df_train)\n",
    "w0, w = train_linear_regression(X_train, y_train)\n",
    "\n",
    "X_val = prepare_dataset(df_val)\n",
    "y_pred = w0 + X_val.dot(w)\n",
    "\n",
    "rmse(y_val, y_pred)"
   ]
  },
  {
   "cell_type": "markdown",
   "id": "1a16a551-d7af-4fdf-b006-9453d887823a",
   "metadata": {},
   "source": [
    "### Other Variables"
   ]
  },
  {
   "cell_type": "code",
   "execution_count": 62,
   "id": "96795b3c-8fee-403e-848d-5e7bc112073c",
   "metadata": {},
   "outputs": [
    {
     "data": {
      "text/plain": [
       "{'make': ['chevrolet', 'ford', 'volkswagen', 'toyota', 'dodge'],\n",
       " 'model': ['silverado_1500',\n",
       "  'tundra',\n",
       "  'f-150',\n",
       "  'sierra_1500',\n",
       "  'beetle_convertible'],\n",
       " 'year': [2015, 2016, 2017, 2014, 2012],\n",
       " 'engine_fuel_type': ['regular_unleaded',\n",
       "  'premium_unleaded_(required)',\n",
       "  'premium_unleaded_(recommended)',\n",
       "  'flex-fuel_(unleaded/e85)',\n",
       "  'diesel'],\n",
       " 'engine_hp': [200.0, 170.0, 210.0, 240.0, 285.0],\n",
       " 'engine_cylinders': [4.0, 6.0, 8.0, 12.0, 5.0],\n",
       " 'transmission_type': ['automatic',\n",
       "  'manual',\n",
       "  'automated_manual',\n",
       "  'direct_drive',\n",
       "  'unknown'],\n",
       " 'driven_wheels': ['front_wheel_drive',\n",
       "  'rear_wheel_drive',\n",
       "  'all_wheel_drive',\n",
       "  'four_wheel_drive'],\n",
       " 'number_of_doors': [4.0, 2.0, 3.0],\n",
       " 'market_category': ['crossover',\n",
       "  'flex_fuel',\n",
       "  'luxury',\n",
       "  'luxury,performance',\n",
       "  'hatchback'],\n",
       " 'vehicle_size': ['compact', 'midsize', 'large'],\n",
       " 'vehicle_style': ['sedan',\n",
       "  '4dr_suv',\n",
       "  'coupe',\n",
       "  'convertible',\n",
       "  '4dr_hatchback'],\n",
       " 'highway_mpg': [24, 23, 26, 22, 25],\n",
       " 'city_mpg': [17, 16, 15, 18, 19],\n",
       " 'popularity': [1385, 5657, 873, 2031, 1851]}"
      ]
     },
     "execution_count": 62,
     "metadata": {},
     "output_type": "execute_result"
    }
   ],
   "source": [
    "# Create a list of categories\n",
    "categorical_variables = list((df.dtypes == 'object').index)\n",
    "categorical_variables.remove('msrp')\n",
    "# Create a dict of the popular categories\n",
    "categorical_dict = {cat: list(df[cat].value_counts().head().index) for cat in categorical_variables}\n",
    "categorical_dict"
   ]
  },
  {
   "cell_type": "code",
   "execution_count": 63,
   "id": "12f46c28-011f-4380-aa26-26e408b81d66",
   "metadata": {},
   "outputs": [],
   "source": [
    "def prepare_dataset(df):\n",
    "    df = df.copy() # copy so as not to mutate the original dataframe\n",
    "    base_cols = ['engine_hp', 'engine_cylinders', 'highway_mpg', 'city_mpg', 'popularity', 'age']\n",
    "    # makes = list(df.make.value_counts().index)\n",
    "    \n",
    "    df['age'] = 2017 - df['year'] # 2017 is df.year.max()\n",
    "\n",
    "    for cat, value_list in categorical_dict.items():\n",
    "        for v in value_list:\n",
    "            df[f'{cat}_{v}'] = (df[cat] == v).astype('int')\n",
    "            base_cols.append(f'{cat}_{v}')\n",
    "    \n",
    "    X = df[base_cols].fillna(0).values\n",
    "    return X"
   ]
  },
  {
   "cell_type": "code",
   "execution_count": 64,
   "id": "57710609-16c7-4493-ade0-97369ac5085e",
   "metadata": {},
   "outputs": [
    {
     "data": {
      "text/plain": [
       "13827.850721664994"
      ]
     },
     "execution_count": 64,
     "metadata": {},
     "output_type": "execute_result"
    }
   ],
   "source": [
    "X_train = prepare_dataset(df_train)\n",
    "w0, w = train_linear_regression(X_train, y_train)\n",
    "\n",
    "X_val = prepare_dataset(df_val)\n",
    "y_pred = w0 + X_val.dot(w)\n",
    "\n",
    "rmse(y_val, y_pred)"
   ]
  },
  {
   "cell_type": "markdown",
   "id": "0861f983-1353-486e-adf2-3577b85ffda6",
   "metadata": {},
   "source": [
    "**Adding more variables made the model worse**"
   ]
  },
  {
   "cell_type": "markdown",
   "id": "a1ac9aa5-21ca-4451-b5a8-e55345a8bcc6",
   "metadata": {},
   "source": [
    "# Regularization"
   ]
  },
  {
   "cell_type": "markdown",
   "id": "6ee95105-9b40-423f-a97f-5dc519196088",
   "metadata": {},
   "source": [
    "With more features, the weights becomes very high"
   ]
  },
  {
   "cell_type": "code",
   "execution_count": 65,
   "id": "b4f7852a-29e5-4fa8-a2e8-b73a6b71e3e2",
   "metadata": {},
   "outputs": [
    {
     "data": {
      "text/plain": [
       "array([-1.08131792e+02,  8.79720771e+03,  6.56062065e+02,  9.58839329e+02,\n",
       "       -3.27410964e-02, -7.28524361e+01,  5.24800000e+03,  6.14400000e+03,\n",
       "       -1.21600000e+03, -1.15200000e+04, -7.57760000e+04, -1.00581389e+03,\n",
       "        7.96046075e+02, -1.10955309e+03, -4.11221055e+02, -1.03417788e+03,\n",
       "        4.14482132e+02,  5.02032251e+02,  8.35202266e+01, -6.75408224e+02,\n",
       "       -3.15820033e+02, -1.43936013e+04, -1.51441901e+04, -1.43784166e+04,\n",
       "       -1.33032831e+04, -1.41976444e+04, -9.57851612e+01,  5.67860120e+02,\n",
       "        4.59767832e+02,  7.91388374e+02, -1.22808631e+03, -3.21184106e+04,\n",
       "       -2.22024799e+04, -1.42839460e+04,  1.69493302e+03, -2.70467563e+04,\n",
       "       -8.41518481e+17, -8.41518481e+17, -8.41518481e+17, -8.41518481e+17,\n",
       "       -8.41518481e+17,  1.80516598e+17,  1.80516598e+17,  1.80516598e+17,\n",
       "        1.80516598e+17, -1.58567933e+05, -1.58319524e+05, -1.59499041e+05,\n",
       "       -2.15273451e+03, -2.94288037e+02,  1.33274030e+02,  5.16521890e+02,\n",
       "       -4.76126595e+02, -2.56000000e+03, -2.43200000e+03, -2.68800000e+03,\n",
       "        1.30390213e-02,  8.96416455e-02,  1.36942055e-01,  3.16243753e-01,\n",
       "       -1.79388630e-01, -1.03688929e-01, -6.19704326e-02, -8.09161612e-02,\n",
       "       -4.12448148e-02, -1.90127108e-02, -4.12240993e-02, -4.30894426e-02,\n",
       "       -2.39755711e-02, -6.39182305e-02, -2.35201955e-02, -4.09600000e+03,\n",
       "       -6.14400000e+03,  2.04800000e+03,  9.98400000e+03,  8.19200000e+04])"
      ]
     },
     "execution_count": 65,
     "metadata": {},
     "output_type": "execute_result"
    }
   ],
   "source": [
    "w"
   ]
  },
  {
   "cell_type": "markdown",
   "id": "5a07fc44-4979-4c66-ab46-f072e152e459",
   "metadata": {},
   "source": [
    "This happens because the inverse for the Gram matrix does not exist."
   ]
  },
  {
   "cell_type": "markdown",
   "id": "0cac8c4e-27b8-4e23-9fc9-76be4bebff19",
   "metadata": {},
   "source": [
    "In our case this is not the case, there could be tiny noise in the measurements of some data.\n",
    "\n",
    "So the matrix is not singular but still the inverse is huge."
   ]
  },
  {
   "cell_type": "markdown",
   "id": "8164c8ee-f77b-409a-b9fc-ac02632d0b0e",
   "metadata": {},
   "source": [
    "To do this we add some values to the diagonal of the feature matrix"
   ]
  },
  {
   "cell_type": "code",
   "execution_count": 66,
   "id": "4e12bc3d-0520-4738-bea2-0e902d27a457",
   "metadata": {},
   "outputs": [],
   "source": [
    "def train_linear_regression_reg(X, y, r=0.001):\n",
    "    ones = np.ones(X.shape[0])\n",
    "    X = np.column_stack((ones, X))\n",
    "    \n",
    "    XTX = X.T.dot(X)\n",
    "    XTX = XTX + r * np.eye(XTX.shape[0]) # regularization\n",
    "    \n",
    "    XTX_inv = np.linalg.inv(XTX)\n",
    "    XTy = X.T.dot(y)\n",
    "    w_full = XTX_inv.dot(XTy)\n",
    "    w_0 = w_full[0].item(0)\n",
    "    w = w_full[1:]\n",
    "    return w_0, w"
   ]
  },
  {
   "cell_type": "code",
   "execution_count": 67,
   "id": "15bcd214-99de-428e-8ecf-21c92f321621",
   "metadata": {},
   "outputs": [
    {
     "data": {
      "text/plain": [
       "0.41017451484604256"
      ]
     },
     "execution_count": 67,
     "metadata": {},
     "output_type": "execute_result"
    }
   ],
   "source": [
    "X_train = prepare_dataset(df_train)\n",
    "w0, w = train_linear_regression_reg(X_train, y_train)\n",
    "\n",
    "X_val = prepare_dataset(df_val)\n",
    "y_pred = w0 + X_val.dot(w)\n",
    "\n",
    "rmse(y_val, y_pred)"
   ]
  },
  {
   "cell_type": "markdown",
   "id": "bcd16832-534b-4ea9-a3da-378f09125431",
   "metadata": {},
   "source": [
    "# Tuning the model"
   ]
  },
  {
   "cell_type": "code",
   "execution_count": 68,
   "id": "ff09eadd-34d2-4e58-8cb9-ee8baf51c362",
   "metadata": {},
   "outputs": [
    {
     "name": "stdout",
     "output_type": "stream",
     "text": [
      "The RMSE for r=0.0 is 13827.850721664994\n",
      "The RMSE for r=1e-07 is 0.41019537345688634\n",
      "The RMSE for r=1e-06 is 0.41019074974654357\n",
      "The RMSE for r=1e-05 is 0.4101897098982969\n",
      "The RMSE for r=0.0001 is 0.4101887557440481\n",
      "The RMSE for r=0.001 is 0.41017451484604256\n",
      "The RMSE for r=0.01 is 0.4100334043216417\n",
      "The RMSE for r=1 is 0.4025917811734716\n",
      "The RMSE for r=10 is 0.44126109317403533\n"
     ]
    }
   ],
   "source": [
    "for r in [0.0, 0.0000001, 0.000001, 0.00001, 0.0001, 0.001, 0.01, 1, 10]:\n",
    "    \n",
    "    X_train = prepare_dataset(df_train)\n",
    "    w0, w = train_linear_regression_reg(X_train, y_train, r)\n",
    "    \n",
    "    X_val = prepare_dataset(df_val)\n",
    "    y_pred = w0 + X_val.dot(w)\n",
    "    \n",
    "    print(f\"The RMSE for {r=} is {rmse(y_val, y_pred)}\")\n",
    "    "
   ]
  },
  {
   "cell_type": "markdown",
   "id": "90083fef-9b8b-4ce3-b454-b32a958bb31f",
   "metadata": {},
   "source": [
    "# Full Training"
   ]
  },
  {
   "cell_type": "markdown",
   "id": "a842f92e-fbe4-4664-9410-f6016c315fb4",
   "metadata": {},
   "source": [
    "Once validation is done we use the full dataset val and train to create the model."
   ]
  },
  {
   "cell_type": "code",
   "execution_count": 69,
   "id": "59411231-d2df-4690-aebf-d92fc792a593",
   "metadata": {},
   "outputs": [
    {
     "name": "stdout",
     "output_type": "stream",
     "text": [
      "The RMSE for r=0.01 is 0.379568480240945 and bias term is 6.429159232415259\n"
     ]
    }
   ],
   "source": [
    "df_full_train = pd.concat([df_train, df_val])\n",
    "df_full_train = df_full_train.reset_index(drop=True)\n",
    "\n",
    "y_full_train = np.concatenate([y_train, y_val])\n",
    "\n",
    "\n",
    "r = 0.01\n",
    "\n",
    "X_full_train = prepare_dataset(df_full_train)\n",
    "w0, w = train_linear_regression_reg(X_full_train, y_full_train, r)\n",
    "\n",
    "X_test = prepare_dataset(df_test)\n",
    "y_pred = w0 + X_test.dot(w)\n",
    "score = rmse(y_test, y_pred)\n",
    "\n",
    "print(f\"The RMSE for {r=} is {score} and bias term is {w0}\")"
   ]
  },
  {
   "cell_type": "code",
   "execution_count": 70,
   "id": "8d1d23bd-0f9c-4971-b186-ab6d154ce046",
   "metadata": {},
   "outputs": [
    {
     "data": {
      "text/plain": [
       "<matplotlib.legend.Legend at 0x7fbff12cb4f0>"
      ]
     },
     "execution_count": 70,
     "metadata": {},
     "output_type": "execute_result"
    },
    {
     "data": {
      "image/png": "[encoded data removed]",
      "text/plain": [
       "<Figure size 432x288 with 1 Axes>"
      ]
     },
     "metadata": {
      "needs_background": "light"
     },
     "output_type": "display_data"
    }
   ],
   "source": [
    "sns.histplot(y_full_train, label='target')\n",
    "sns.histplot(y_pred, label='prediction')\n",
    "plt.legend()"
   ]
  },
  {
   "cell_type": "markdown",
   "id": "f8b27b2f-3385-4765-a65f-622b86274856",
   "metadata": {},
   "source": [
    "# Using the model"
   ]
  },
  {
   "cell_type": "markdown",
   "id": "1321a679-0d67-470a-a42f-2878ab2fb5c2",
   "metadata": {},
   "source": [
    "In real life the request will be a json"
   ]
  },
  {
   "cell_type": "code",
   "execution_count": 71,
   "id": "0b30a972-21ca-446c-a9d3-b1ab64eac731",
   "metadata": {},
   "outputs": [
    {
     "data": {
      "text/plain": [
       "{'make': 'volkswagen',\n",
       " 'model': 'golf_gti',\n",
       " 'year': 2017,\n",
       " 'engine_fuel_type': 'premium_unleaded_(recommended)',\n",
       " 'engine_hp': 210.0,\n",
       " 'engine_cylinders': 4.0,\n",
       " 'transmission_type': 'manual',\n",
       " 'driven_wheels': 'front_wheel_drive',\n",
       " 'number_of_doors': 2.0,\n",
       " 'market_category': 'hatchback,performance',\n",
       " 'vehicle_size': 'compact',\n",
       " 'vehicle_style': '2dr_hatchback',\n",
       " 'highway_mpg': 34,\n",
       " 'city_mpg': 24,\n",
       " 'popularity': 873}"
      ]
     },
     "execution_count": 71,
     "metadata": {},
     "output_type": "execute_result"
    }
   ],
   "source": [
    "car = df_test.iloc[20].to_dict()\n",
    "car"
   ]
  },
  {
   "cell_type": "code",
   "execution_count": 72,
   "id": "c380c854-58fc-429a-8db7-29341b6032cf",
   "metadata": {},
   "outputs": [],
   "source": [
    "df_small = pd.DataFrame([car])"
   ]
  },
  {
   "cell_type": "code",
   "execution_count": 73,
   "id": "5be681c7-b370-4839-b310-e0f4c6a3e2d0",
   "metadata": {},
   "outputs": [
    {
     "name": "stdout",
     "output_type": "stream",
     "text": [
      "The actual price = 24994.999999999978 Predicted Price = 25923.80736196673\n"
     ]
    }
   ],
   "source": [
    "X_final_pred = prepare_dataset(df_small)\n",
    "y_pred = w0 + X_final_pred.dot(w)\n",
    "\n",
    "predicted_price = np.expm1(y_pred)[0]\n",
    "actual_price = np.expm1(y_test[20])\n",
    "print(f\"The actual price = {actual_price} Predicted Price = {predicted_price}\")"
   ]
  },
  {
   "cell_type": "markdown",
   "id": "235d6885-4eac-4f4a-a45b-d68245434ddf",
   "metadata": {},
   "source": [
    "# Linear Regression using SkLearn"
   ]
  },
  {
   "cell_type": "code",
   "execution_count": 76,
   "id": "ef08b0dd-a174-40da-8f91-3bfecee0ff53",
   "metadata": {},
   "outputs": [],
   "source": [
    "from sklearn.model_selection import train_test_split"
   ]
  },
  {
   "cell_type": "code",
   "execution_count": 80,
   "id": "ba1f45a7-6293-4bcf-bb6c-4b93d022fe28",
   "metadata": {},
   "outputs": [
    {
     "data": {
      "text/plain": [
       "\u001b[0;31mSignature:\u001b[0m\n",
       "\u001b[0mtrain_test_split\u001b[0m\u001b[0;34m(\u001b[0m\u001b[0;34m\u001b[0m\n",
       "\u001b[0;34m\u001b[0m    \u001b[0;34m*\u001b[0m\u001b[0marrays\u001b[0m\u001b[0;34m,\u001b[0m\u001b[0;34m\u001b[0m\n",
       "\u001b[0;34m\u001b[0m    \u001b[0mtest_size\u001b[0m\u001b[0;34m=\u001b[0m\u001b[0;32mNone\u001b[0m\u001b[0;34m,\u001b[0m\u001b[0;34m\u001b[0m\n",
       "\u001b[0;34m\u001b[0m    \u001b[0mtrain_size\u001b[0m\u001b[0;34m=\u001b[0m\u001b[0;32mNone\u001b[0m\u001b[0;34m,\u001b[0m\u001b[0;34m\u001b[0m\n",
       "\u001b[0;34m\u001b[0m    \u001b[0mrandom_state\u001b[0m\u001b[0;34m=\u001b[0m\u001b[0;32mNone\u001b[0m\u001b[0;34m,\u001b[0m\u001b[0;34m\u001b[0m\n",
       "\u001b[0;34m\u001b[0m    \u001b[0mshuffle\u001b[0m\u001b[0;34m=\u001b[0m\u001b[0;32mTrue\u001b[0m\u001b[0;34m,\u001b[0m\u001b[0;34m\u001b[0m\n",
       "\u001b[0;34m\u001b[0m    \u001b[0mstratify\u001b[0m\u001b[0;34m=\u001b[0m\u001b[0;32mNone\u001b[0m\u001b[0;34m,\u001b[0m\u001b[0;34m\u001b[0m\n",
       "\u001b[0;34m\u001b[0m\u001b[0;34m)\u001b[0m\u001b[0;34m\u001b[0m\u001b[0;34m\u001b[0m\u001b[0m\n",
       "\u001b[0;31mDocstring:\u001b[0m\n",
       "Split arrays or matrices into random train and test subsets\n",
       "\n",
       "Quick utility that wraps input validation and\n",
       "``next(ShuffleSplit().split(X, y))`` and application to input data\n",
       "into a single call for splitting (and optionally subsampling) data in a\n",
       "oneliner.\n",
       "\n",
       "Read more in the :ref:`User Guide <cross_validation>`.\n",
       "\n",
       "Parameters\n",
       "----------\n",
       "*arrays : sequence of indexables with same length / shape[0]\n",
       "    Allowed inputs are lists, numpy arrays, scipy-sparse\n",
       "    matrices or pandas dataframes.\n",
       "\n",
       "test_size : float or int, default=None\n",
       "    If float, should be between 0.0 and 1.0 and represent the proportion\n",
       "    of the dataset to include in the test split. If int, represents the\n",
       "    absolute number of test samples. If None, the value is set to the\n",
       "    complement of the train size. If ``train_size`` is also None, it will\n",
       "    be set to 0.25.\n",
       "\n",
       "train_size : float or int, default=None\n",
       "    If float, should be between 0.0 and 1.0 and represent the\n",
       "    proportion of the dataset to include in the train split. If\n",
       "    int, represents the absolute number of train samples. If None,\n",
       "    the value is automatically set to the complement of the test size.\n",
       "\n",
       "random_state : int, RandomState instance or None, default=None\n",
       "    Controls the shuffling applied to the data before applying the split.\n",
       "    Pass an int for reproducible output across multiple function calls.\n",
       "    See :term:`Glossary <random_state>`.\n",
       "\n",
       "\n",
       "shuffle : bool, default=True\n",
       "    Whether or not to shuffle the data before splitting. If shuffle=False\n",
       "    then stratify must be None.\n",
       "\n",
       "stratify : array-like, default=None\n",
       "    If not None, data is split in a stratified fashion, using this as\n",
       "    the class labels.\n",
       "    Read more in the :ref:`User Guide <stratification>`.\n",
       "\n",
       "Returns\n",
       "-------\n",
       "splitting : list, length=2 * len(arrays)\n",
       "    List containing train-test split of inputs.\n",
       "\n",
       "    .. versionadded:: 0.16\n",
       "        If the input is sparse, the output will be a\n",
       "        ``scipy.sparse.csr_matrix``. Else, output type is the same as the\n",
       "        input type.\n",
       "\n",
       "Examples\n",
       "--------\n",
       ">>> import numpy as np\n",
       ">>> from sklearn.model_selection import train_test_split\n",
       ">>> X, y = np.arange(10).reshape((5, 2)), range(5)\n",
       ">>> X\n",
       "array([[0, 1],\n",
       "       [2, 3],\n",
       "       [4, 5],\n",
       "       [6, 7],\n",
       "       [8, 9]])\n",
       ">>> list(y)\n",
       "[0, 1, 2, 3, 4]\n",
       "\n",
       ">>> X_train, X_test, y_train, y_test = train_test_split(\n",
       "...     X, y, test_size=0.33, random_state=42)\n",
       "...\n",
       ">>> X_train\n",
       "array([[4, 5],\n",
       "       [0, 1],\n",
       "       [6, 7]])\n",
       ">>> y_train\n",
       "[2, 0, 3]\n",
       ">>> X_test\n",
       "array([[2, 3],\n",
       "       [8, 9]])\n",
       ">>> y_test\n",
       "[1, 4]\n",
       "\n",
       ">>> train_test_split(y, shuffle=False)\n",
       "[[0, 1, 2], [3, 4]]\n",
       "\u001b[0;31mFile:\u001b[0m      /opt/conda/lib/python3.8/site-packages/sklearn/model_selection/_split.py\n",
       "\u001b[0;31mType:\u001b[0m      function\n"
      ]
     },
     "metadata": {},
     "output_type": "display_data"
    }
   ],
   "source": []
  }
 ],
 "metadata": {
  "kernelspec": {
   "display_name": "Python 3 (ipykernel)",
   "language": "python",
   "name": "python3"
  },
  "language_info": {
   "codemirror_mode": {
    "name": "ipython",
    "version": 3
   },
   "file_extension": ".py",
   "mimetype": "text/x-python",
   "name": "python",
   "nbconvert_exporter": "python",
   "pygments_lexer": "ipython3",
   "version": "3.8.12"
  }
 },
 "nbformat": 4,
 "nbformat_minor": 5
}
