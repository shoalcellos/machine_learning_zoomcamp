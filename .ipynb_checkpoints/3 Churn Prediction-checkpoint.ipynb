{
 "cells": [
  {
   "cell_type": "code",
   "execution_count": 1,
   "id": "678c203d-25ad-42df-8694-08b212447b4c",
   "metadata": {},
   "outputs": [
    {
     "name": "stdout",
     "output_type": "stream",
     "text": [
      "Looking in indexes: https://pypi.org/simple, https://pypi.ngc.nvidia.com\n",
      "Requirement already satisfied: seaborn in /opt/conda/lib/python3.8/site-packages (0.13.2)\n",
      "Requirement already satisfied: matplotlib!=3.6.1,>=3.4 in /opt/conda/lib/python3.8/site-packages (from seaborn) (3.5.1)\n",
      "Requirement already satisfied: pandas>=1.2 in /opt/conda/lib/python3.8/site-packages (from seaborn) (1.3.5)\n",
      "Requirement already satisfied: numpy!=1.24.0,>=1.20 in /opt/conda/lib/python3.8/site-packages (from seaborn) (1.22.0)\n",
      "Requirement already satisfied: cycler>=0.10 in /opt/conda/lib/python3.8/site-packages (from matplotlib!=3.6.1,>=3.4->seaborn) (0.11.0)\n",
      "Requirement already satisfied: fonttools>=4.22.0 in /opt/conda/lib/python3.8/site-packages (from matplotlib!=3.6.1,>=3.4->seaborn) (4.29.0)\n",
      "Requirement already satisfied: kiwisolver>=1.0.1 in /opt/conda/lib/python3.8/site-packages (from matplotlib!=3.6.1,>=3.4->seaborn) (1.3.2)\n",
      "Requirement already satisfied: packaging>=20.0 in /opt/conda/lib/python3.8/site-packages (from matplotlib!=3.6.1,>=3.4->seaborn) (24.1)\n",
      "Requirement already satisfied: pillow>=6.2.0 in /opt/conda/lib/python3.8/site-packages (from matplotlib!=3.6.1,>=3.4->seaborn) (8.2.0)\n",
      "Requirement already satisfied: pyparsing>=2.2.1 in /opt/conda/lib/python3.8/site-packages (from matplotlib!=3.6.1,>=3.4->seaborn) (3.0.6)\n",
      "Requirement already satisfied: python-dateutil>=2.7 in /opt/conda/lib/python3.8/site-packages (from matplotlib!=3.6.1,>=3.4->seaborn) (2.8.2)\n",
      "Requirement already satisfied: pytz>=2017.3 in /opt/conda/lib/python3.8/site-packages (from pandas>=1.2->seaborn) (2021.3)\n",
      "Requirement already satisfied: six>=1.5 in /opt/conda/lib/python3.8/site-packages (from python-dateutil>=2.7->matplotlib!=3.6.1,>=3.4->seaborn) (1.16.0)\n",
      "\u001b[33mWARNING: Running pip as the 'root' user can result in broken permissions and conflicting behaviour with the system package manager. It is recommended to use a virtual environment instead: https://pip.pypa.io/warnings/venv\u001b[0m\n"
     ]
    }
   ],
   "source": [
    "!pip install seaborn"
   ]
  },
  {
   "cell_type": "markdown",
   "id": "a4cfd527-aecc-4e4d-bffe-719dac45ae2a",
   "metadata": {},
   "source": [
    "# Machine Learning For Classification"
   ]
  },
  {
   "cell_type": "markdown",
   "id": "5c2f7c02-1fc3-4d88-a0ca-7e560d1a6a1b",
   "metadata": {},
   "source": [
    "## Churn Prediction"
   ]
  },
  {
   "cell_type": "markdown",
   "id": "b21b50f6-8575-4868-81df-382029af137d",
   "metadata": {},
   "source": [
    "For each customer assign a score on how likely they are to leave"
   ]
  },
  {
   "cell_type": "markdown",
   "id": "5c443864-ef2f-4a82-86b9-3b9164b9098b",
   "metadata": {},
   "source": [
    "Binary Classification\n",
    "$$G(x_i) \\approx y_i$$\n",
    "\n",
    "$y_i  \\epsilon  \\{0, 1\\}$\n",
    "\n",
    "0 means negative example ie, no churn or not span\n",
    "1 means positive example ie, churn or spam"
   ]
  },
  {
   "cell_type": "markdown",
   "id": "19840afc-a465-4a92-859e-63a5c409acf8",
   "metadata": {},
   "source": [
    "## Data Preparation"
   ]
  },
  {
   "cell_type": "code",
   "execution_count": 2,
   "id": "1def297d-d38e-4a9d-bcc0-344a6d17f4b3",
   "metadata": {},
   "outputs": [],
   "source": [
    "import pandas as pd\n",
    "import numpy as np\n",
    "\n",
    "import matplotlib.pyplot as plt\n",
    "import seaborn as sns\n",
    "%matplotlib inline"
   ]
  },
  {
   "cell_type": "code",
   "execution_count": 3,
   "id": "2d60ccfd-8357-444e-bbb2-23860583ecdb",
   "metadata": {},
   "outputs": [],
   "source": [
    "data_url = \"https://raw.githubusercontent.com/alexeygrigorev/mlbookcamp-code/master/chapter-03-churn-prediction/WA_Fn-UseC_-Telco-Customer-Churn.csv\"\n",
    "data_path = \"data/telecom_churn.csv\""
   ]
  },
  {
   "cell_type": "code",
   "execution_count": 4,
   "id": "874e44eb-0068-4c3b-b721-5445cf724912",
   "metadata": {},
   "outputs": [
    {
     "name": "stdout",
     "output_type": "stream",
     "text": [
      "--2024-08-25 08:49:31--  https://raw.githubusercontent.com/alexeygrigorev/mlbookcamp-code/master/chapter-03-churn-prediction/WA_Fn-UseC_-Telco-Customer-Churn.csv\n",
      "Resolving raw.githubusercontent.com (raw.githubusercontent.com)... 185.199.109.133, 185.199.111.133, 185.199.108.133, ...\n",
      "Connecting to raw.githubusercontent.com (raw.githubusercontent.com)|185.199.109.133|:443... connected.\n",
      "HTTP request sent, awaiting response... 200 OK\n",
      "Length: 977501 (955K) [text/plain]\n",
      "Saving to: ‘data/telecom_churn.csv’\n",
      "\n",
      "data/telecom_churn. 100%[===================>] 954.59K  3.67MB/s    in 0.3s    \n",
      "\n",
      "2024-08-25 08:49:32 (3.67 MB/s) - ‘data/telecom_churn.csv’ saved [977501/977501]\n",
      "\n"
     ]
    }
   ],
   "source": [
    "!wget -O $data_path $data_url"
   ]
  },
  {
   "cell_type": "markdown",
   "id": "c43438f3-637f-4c86-9835-561b1e785aa2",
   "metadata": {},
   "source": [
    "### Load and Peek at Data"
   ]
  },
  {
   "cell_type": "code",
   "execution_count": 5,
   "id": "edac4d0a-f6cd-4035-90b6-e5da8a97c8de",
   "metadata": {},
   "outputs": [],
   "source": [
    "df = pd.read_csv(data_path)"
   ]
  },
  {
   "cell_type": "code",
   "execution_count": 6,
   "id": "697a16c7-d249-434c-93f8-9bc201d659da",
   "metadata": {},
   "outputs": [
    {
     "data": {
      "text/html": [
       "<div>\n",
       "<style scoped>\n",
       "    .dataframe tbody tr th:only-of-type {\n",
       "        vertical-align: middle;\n",
       "    }\n",
       "\n",
       "    .dataframe tbody tr th {\n",
       "        vertical-align: top;\n",
       "    }\n",
       "\n",
       "    .dataframe thead th {\n",
       "        text-align: right;\n",
       "    }\n",
       "</style>\n",
       "<table border=\"1\" class=\"dataframe\">\n",
       "  <thead>\n",
       "    <tr style=\"text-align: right;\">\n",
       "      <th></th>\n",
       "      <th>0</th>\n",
       "      <th>1</th>\n",
       "      <th>2</th>\n",
       "      <th>3</th>\n",
       "      <th>4</th>\n",
       "    </tr>\n",
       "  </thead>\n",
       "  <tbody>\n",
       "    <tr>\n",
       "      <th>customerID</th>\n",
       "      <td>7590-VHVEG</td>\n",
       "      <td>5575-GNVDE</td>\n",
       "      <td>3668-QPYBK</td>\n",
       "      <td>7795-CFOCW</td>\n",
       "      <td>9237-HQITU</td>\n",
       "    </tr>\n",
       "    <tr>\n",
       "      <th>gender</th>\n",
       "      <td>Female</td>\n",
       "      <td>Male</td>\n",
       "      <td>Male</td>\n",
       "      <td>Male</td>\n",
       "      <td>Female</td>\n",
       "    </tr>\n",
       "    <tr>\n",
       "      <th>SeniorCitizen</th>\n",
       "      <td>0</td>\n",
       "      <td>0</td>\n",
       "      <td>0</td>\n",
       "      <td>0</td>\n",
       "      <td>0</td>\n",
       "    </tr>\n",
       "    <tr>\n",
       "      <th>Partner</th>\n",
       "      <td>Yes</td>\n",
       "      <td>No</td>\n",
       "      <td>No</td>\n",
       "      <td>No</td>\n",
       "      <td>No</td>\n",
       "    </tr>\n",
       "    <tr>\n",
       "      <th>Dependents</th>\n",
       "      <td>No</td>\n",
       "      <td>No</td>\n",
       "      <td>No</td>\n",
       "      <td>No</td>\n",
       "      <td>No</td>\n",
       "    </tr>\n",
       "    <tr>\n",
       "      <th>tenure</th>\n",
       "      <td>1</td>\n",
       "      <td>34</td>\n",
       "      <td>2</td>\n",
       "      <td>45</td>\n",
       "      <td>2</td>\n",
       "    </tr>\n",
       "    <tr>\n",
       "      <th>PhoneService</th>\n",
       "      <td>No</td>\n",
       "      <td>Yes</td>\n",
       "      <td>Yes</td>\n",
       "      <td>No</td>\n",
       "      <td>Yes</td>\n",
       "    </tr>\n",
       "    <tr>\n",
       "      <th>MultipleLines</th>\n",
       "      <td>No phone service</td>\n",
       "      <td>No</td>\n",
       "      <td>No</td>\n",
       "      <td>No phone service</td>\n",
       "      <td>No</td>\n",
       "    </tr>\n",
       "    <tr>\n",
       "      <th>InternetService</th>\n",
       "      <td>DSL</td>\n",
       "      <td>DSL</td>\n",
       "      <td>DSL</td>\n",
       "      <td>DSL</td>\n",
       "      <td>Fiber optic</td>\n",
       "    </tr>\n",
       "    <tr>\n",
       "      <th>OnlineSecurity</th>\n",
       "      <td>No</td>\n",
       "      <td>Yes</td>\n",
       "      <td>Yes</td>\n",
       "      <td>Yes</td>\n",
       "      <td>No</td>\n",
       "    </tr>\n",
       "    <tr>\n",
       "      <th>OnlineBackup</th>\n",
       "      <td>Yes</td>\n",
       "      <td>No</td>\n",
       "      <td>Yes</td>\n",
       "      <td>No</td>\n",
       "      <td>No</td>\n",
       "    </tr>\n",
       "    <tr>\n",
       "      <th>DeviceProtection</th>\n",
       "      <td>No</td>\n",
       "      <td>Yes</td>\n",
       "      <td>No</td>\n",
       "      <td>Yes</td>\n",
       "      <td>No</td>\n",
       "    </tr>\n",
       "    <tr>\n",
       "      <th>TechSupport</th>\n",
       "      <td>No</td>\n",
       "      <td>No</td>\n",
       "      <td>No</td>\n",
       "      <td>Yes</td>\n",
       "      <td>No</td>\n",
       "    </tr>\n",
       "    <tr>\n",
       "      <th>StreamingTV</th>\n",
       "      <td>No</td>\n",
       "      <td>No</td>\n",
       "      <td>No</td>\n",
       "      <td>No</td>\n",
       "      <td>No</td>\n",
       "    </tr>\n",
       "    <tr>\n",
       "      <th>StreamingMovies</th>\n",
       "      <td>No</td>\n",
       "      <td>No</td>\n",
       "      <td>No</td>\n",
       "      <td>No</td>\n",
       "      <td>No</td>\n",
       "    </tr>\n",
       "    <tr>\n",
       "      <th>Contract</th>\n",
       "      <td>Month-to-month</td>\n",
       "      <td>One year</td>\n",
       "      <td>Month-to-month</td>\n",
       "      <td>One year</td>\n",
       "      <td>Month-to-month</td>\n",
       "    </tr>\n",
       "    <tr>\n",
       "      <th>PaperlessBilling</th>\n",
       "      <td>Yes</td>\n",
       "      <td>No</td>\n",
       "      <td>Yes</td>\n",
       "      <td>No</td>\n",
       "      <td>Yes</td>\n",
       "    </tr>\n",
       "    <tr>\n",
       "      <th>PaymentMethod</th>\n",
       "      <td>Electronic check</td>\n",
       "      <td>Mailed check</td>\n",
       "      <td>Mailed check</td>\n",
       "      <td>Bank transfer (automatic)</td>\n",
       "      <td>Electronic check</td>\n",
       "    </tr>\n",
       "    <tr>\n",
       "      <th>MonthlyCharges</th>\n",
       "      <td>29.85</td>\n",
       "      <td>56.95</td>\n",
       "      <td>53.85</td>\n",
       "      <td>42.3</td>\n",
       "      <td>70.7</td>\n",
       "    </tr>\n",
       "    <tr>\n",
       "      <th>TotalCharges</th>\n",
       "      <td>29.85</td>\n",
       "      <td>1889.5</td>\n",
       "      <td>108.15</td>\n",
       "      <td>1840.75</td>\n",
       "      <td>151.65</td>\n",
       "    </tr>\n",
       "    <tr>\n",
       "      <th>Churn</th>\n",
       "      <td>No</td>\n",
       "      <td>No</td>\n",
       "      <td>Yes</td>\n",
       "      <td>No</td>\n",
       "      <td>Yes</td>\n",
       "    </tr>\n",
       "  </tbody>\n",
       "</table>\n",
       "</div>"
      ],
      "text/plain": [
       "                                 0             1               2  \\\n",
       "customerID              7590-VHVEG    5575-GNVDE      3668-QPYBK   \n",
       "gender                      Female          Male            Male   \n",
       "SeniorCitizen                    0             0               0   \n",
       "Partner                        Yes            No              No   \n",
       "Dependents                      No            No              No   \n",
       "tenure                           1            34               2   \n",
       "PhoneService                    No           Yes             Yes   \n",
       "MultipleLines     No phone service            No              No   \n",
       "InternetService                DSL           DSL             DSL   \n",
       "OnlineSecurity                  No           Yes             Yes   \n",
       "OnlineBackup                   Yes            No             Yes   \n",
       "DeviceProtection                No           Yes              No   \n",
       "TechSupport                     No            No              No   \n",
       "StreamingTV                     No            No              No   \n",
       "StreamingMovies                 No            No              No   \n",
       "Contract            Month-to-month      One year  Month-to-month   \n",
       "PaperlessBilling               Yes            No             Yes   \n",
       "PaymentMethod     Electronic check  Mailed check    Mailed check   \n",
       "MonthlyCharges               29.85         56.95           53.85   \n",
       "TotalCharges                 29.85        1889.5          108.15   \n",
       "Churn                           No            No             Yes   \n",
       "\n",
       "                                          3                 4  \n",
       "customerID                       7795-CFOCW        9237-HQITU  \n",
       "gender                                 Male            Female  \n",
       "SeniorCitizen                             0                 0  \n",
       "Partner                                  No                No  \n",
       "Dependents                               No                No  \n",
       "tenure                                   45                 2  \n",
       "PhoneService                             No               Yes  \n",
       "MultipleLines              No phone service                No  \n",
       "InternetService                         DSL       Fiber optic  \n",
       "OnlineSecurity                          Yes                No  \n",
       "OnlineBackup                             No                No  \n",
       "DeviceProtection                        Yes                No  \n",
       "TechSupport                             Yes                No  \n",
       "StreamingTV                              No                No  \n",
       "StreamingMovies                          No                No  \n",
       "Contract                           One year    Month-to-month  \n",
       "PaperlessBilling                         No               Yes  \n",
       "PaymentMethod     Bank transfer (automatic)  Electronic check  \n",
       "MonthlyCharges                         42.3              70.7  \n",
       "TotalCharges                        1840.75            151.65  \n",
       "Churn                                    No               Yes  "
      ]
     },
     "execution_count": 6,
     "metadata": {},
     "output_type": "execute_result"
    }
   ],
   "source": [
    "df.head().T"
   ]
  },
  {
   "cell_type": "markdown",
   "id": "5eecb8e6-3cac-443c-a74f-d879185a8e09",
   "metadata": {},
   "source": [
    "### Clean Up Column Names and Replace spaces with _"
   ]
  },
  {
   "cell_type": "code",
   "execution_count": 7,
   "id": "c149a8b8-7e6e-4c0b-924c-395e95d52dc9",
   "metadata": {},
   "outputs": [
    {
     "data": {
      "text/plain": [
       "Index(['customerid', 'gender', 'seniorcitizen', 'partner', 'dependents',\n",
       "       'tenure', 'phoneservice', 'multiplelines', 'internetservice',\n",
       "       'onlinesecurity', 'onlinebackup', 'deviceprotection', 'techsupport',\n",
       "       'streamingtv', 'streamingmovies', 'contract', 'paperlessbilling',\n",
       "       'paymentmethod', 'monthlycharges', 'totalcharges', 'churn'],\n",
       "      dtype='object')"
      ]
     },
     "execution_count": 7,
     "metadata": {},
     "output_type": "execute_result"
    }
   ],
   "source": [
    "df.columns = df.columns.str.lower().str.replace(\" \", \"_\")\n",
    "df.columns"
   ]
  },
  {
   "cell_type": "code",
   "execution_count": 8,
   "id": "77278797-d72b-4a3d-b250-6260bbc4b3c2",
   "metadata": {},
   "outputs": [
    {
     "data": {
      "text/plain": [
       "Index(['customerid', 'gender', 'partner', 'dependents', 'phoneservice',\n",
       "       'multiplelines', 'internetservice', 'onlinesecurity', 'onlinebackup',\n",
       "       'deviceprotection', 'techsupport', 'streamingtv', 'streamingmovies',\n",
       "       'contract', 'paperlessbilling', 'paymentmethod', 'totalcharges',\n",
       "       'churn'],\n",
       "      dtype='object')"
      ]
     },
     "execution_count": 8,
     "metadata": {},
     "output_type": "execute_result"
    }
   ],
   "source": [
    "categorical_columns = df.dtypes[df.dtypes == 'object'].index\n",
    "categorical_columns"
   ]
  },
  {
   "cell_type": "code",
   "execution_count": 9,
   "id": "6255e9fd-7e37-4ed1-ad7c-453f4ccc683b",
   "metadata": {},
   "outputs": [],
   "source": [
    "for col in categorical_columns:\n",
    "    df[col] = df[col].str.lower().str.replace(\" \", \"_\")"
   ]
  },
  {
   "cell_type": "code",
   "execution_count": 10,
   "id": "3ba05bdb-7317-4828-97cd-339ea4088daf",
   "metadata": {},
   "outputs": [
    {
     "data": {
      "text/html": [
       "<div>\n",
       "<style scoped>\n",
       "    .dataframe tbody tr th:only-of-type {\n",
       "        vertical-align: middle;\n",
       "    }\n",
       "\n",
       "    .dataframe tbody tr th {\n",
       "        vertical-align: top;\n",
       "    }\n",
       "\n",
       "    .dataframe thead th {\n",
       "        text-align: right;\n",
       "    }\n",
       "</style>\n",
       "<table border=\"1\" class=\"dataframe\">\n",
       "  <thead>\n",
       "    <tr style=\"text-align: right;\">\n",
       "      <th></th>\n",
       "      <th>0</th>\n",
       "      <th>1</th>\n",
       "      <th>2</th>\n",
       "      <th>3</th>\n",
       "      <th>4</th>\n",
       "    </tr>\n",
       "  </thead>\n",
       "  <tbody>\n",
       "    <tr>\n",
       "      <th>customerid</th>\n",
       "      <td>7590-vhveg</td>\n",
       "      <td>5575-gnvde</td>\n",
       "      <td>3668-qpybk</td>\n",
       "      <td>7795-cfocw</td>\n",
       "      <td>9237-hqitu</td>\n",
       "    </tr>\n",
       "    <tr>\n",
       "      <th>gender</th>\n",
       "      <td>female</td>\n",
       "      <td>male</td>\n",
       "      <td>male</td>\n",
       "      <td>male</td>\n",
       "      <td>female</td>\n",
       "    </tr>\n",
       "    <tr>\n",
       "      <th>seniorcitizen</th>\n",
       "      <td>0</td>\n",
       "      <td>0</td>\n",
       "      <td>0</td>\n",
       "      <td>0</td>\n",
       "      <td>0</td>\n",
       "    </tr>\n",
       "    <tr>\n",
       "      <th>partner</th>\n",
       "      <td>yes</td>\n",
       "      <td>no</td>\n",
       "      <td>no</td>\n",
       "      <td>no</td>\n",
       "      <td>no</td>\n",
       "    </tr>\n",
       "    <tr>\n",
       "      <th>dependents</th>\n",
       "      <td>no</td>\n",
       "      <td>no</td>\n",
       "      <td>no</td>\n",
       "      <td>no</td>\n",
       "      <td>no</td>\n",
       "    </tr>\n",
       "    <tr>\n",
       "      <th>tenure</th>\n",
       "      <td>1</td>\n",
       "      <td>34</td>\n",
       "      <td>2</td>\n",
       "      <td>45</td>\n",
       "      <td>2</td>\n",
       "    </tr>\n",
       "    <tr>\n",
       "      <th>phoneservice</th>\n",
       "      <td>no</td>\n",
       "      <td>yes</td>\n",
       "      <td>yes</td>\n",
       "      <td>no</td>\n",
       "      <td>yes</td>\n",
       "    </tr>\n",
       "    <tr>\n",
       "      <th>multiplelines</th>\n",
       "      <td>no_phone_service</td>\n",
       "      <td>no</td>\n",
       "      <td>no</td>\n",
       "      <td>no_phone_service</td>\n",
       "      <td>no</td>\n",
       "    </tr>\n",
       "    <tr>\n",
       "      <th>internetservice</th>\n",
       "      <td>dsl</td>\n",
       "      <td>dsl</td>\n",
       "      <td>dsl</td>\n",
       "      <td>dsl</td>\n",
       "      <td>fiber_optic</td>\n",
       "    </tr>\n",
       "    <tr>\n",
       "      <th>onlinesecurity</th>\n",
       "      <td>no</td>\n",
       "      <td>yes</td>\n",
       "      <td>yes</td>\n",
       "      <td>yes</td>\n",
       "      <td>no</td>\n",
       "    </tr>\n",
       "    <tr>\n",
       "      <th>onlinebackup</th>\n",
       "      <td>yes</td>\n",
       "      <td>no</td>\n",
       "      <td>yes</td>\n",
       "      <td>no</td>\n",
       "      <td>no</td>\n",
       "    </tr>\n",
       "    <tr>\n",
       "      <th>deviceprotection</th>\n",
       "      <td>no</td>\n",
       "      <td>yes</td>\n",
       "      <td>no</td>\n",
       "      <td>yes</td>\n",
       "      <td>no</td>\n",
       "    </tr>\n",
       "    <tr>\n",
       "      <th>techsupport</th>\n",
       "      <td>no</td>\n",
       "      <td>no</td>\n",
       "      <td>no</td>\n",
       "      <td>yes</td>\n",
       "      <td>no</td>\n",
       "    </tr>\n",
       "    <tr>\n",
       "      <th>streamingtv</th>\n",
       "      <td>no</td>\n",
       "      <td>no</td>\n",
       "      <td>no</td>\n",
       "      <td>no</td>\n",
       "      <td>no</td>\n",
       "    </tr>\n",
       "    <tr>\n",
       "      <th>streamingmovies</th>\n",
       "      <td>no</td>\n",
       "      <td>no</td>\n",
       "      <td>no</td>\n",
       "      <td>no</td>\n",
       "      <td>no</td>\n",
       "    </tr>\n",
       "    <tr>\n",
       "      <th>contract</th>\n",
       "      <td>month-to-month</td>\n",
       "      <td>one_year</td>\n",
       "      <td>month-to-month</td>\n",
       "      <td>one_year</td>\n",
       "      <td>month-to-month</td>\n",
       "    </tr>\n",
       "    <tr>\n",
       "      <th>paperlessbilling</th>\n",
       "      <td>yes</td>\n",
       "      <td>no</td>\n",
       "      <td>yes</td>\n",
       "      <td>no</td>\n",
       "      <td>yes</td>\n",
       "    </tr>\n",
       "    <tr>\n",
       "      <th>paymentmethod</th>\n",
       "      <td>electronic_check</td>\n",
       "      <td>mailed_check</td>\n",
       "      <td>mailed_check</td>\n",
       "      <td>bank_transfer_(automatic)</td>\n",
       "      <td>electronic_check</td>\n",
       "    </tr>\n",
       "    <tr>\n",
       "      <th>monthlycharges</th>\n",
       "      <td>29.85</td>\n",
       "      <td>56.95</td>\n",
       "      <td>53.85</td>\n",
       "      <td>42.3</td>\n",
       "      <td>70.7</td>\n",
       "    </tr>\n",
       "    <tr>\n",
       "      <th>totalcharges</th>\n",
       "      <td>29.85</td>\n",
       "      <td>1889.5</td>\n",
       "      <td>108.15</td>\n",
       "      <td>1840.75</td>\n",
       "      <td>151.65</td>\n",
       "    </tr>\n",
       "    <tr>\n",
       "      <th>churn</th>\n",
       "      <td>no</td>\n",
       "      <td>no</td>\n",
       "      <td>yes</td>\n",
       "      <td>no</td>\n",
       "      <td>yes</td>\n",
       "    </tr>\n",
       "  </tbody>\n",
       "</table>\n",
       "</div>"
      ],
      "text/plain": [
       "                                 0             1               2  \\\n",
       "customerid              7590-vhveg    5575-gnvde      3668-qpybk   \n",
       "gender                      female          male            male   \n",
       "seniorcitizen                    0             0               0   \n",
       "partner                        yes            no              no   \n",
       "dependents                      no            no              no   \n",
       "tenure                           1            34               2   \n",
       "phoneservice                    no           yes             yes   \n",
       "multiplelines     no_phone_service            no              no   \n",
       "internetservice                dsl           dsl             dsl   \n",
       "onlinesecurity                  no           yes             yes   \n",
       "onlinebackup                   yes            no             yes   \n",
       "deviceprotection                no           yes              no   \n",
       "techsupport                     no            no              no   \n",
       "streamingtv                     no            no              no   \n",
       "streamingmovies                 no            no              no   \n",
       "contract            month-to-month      one_year  month-to-month   \n",
       "paperlessbilling               yes            no             yes   \n",
       "paymentmethod     electronic_check  mailed_check    mailed_check   \n",
       "monthlycharges               29.85         56.95           53.85   \n",
       "totalcharges                 29.85        1889.5          108.15   \n",
       "churn                           no            no             yes   \n",
       "\n",
       "                                          3                 4  \n",
       "customerid                       7795-cfocw        9237-hqitu  \n",
       "gender                                 male            female  \n",
       "seniorcitizen                             0                 0  \n",
       "partner                                  no                no  \n",
       "dependents                               no                no  \n",
       "tenure                                   45                 2  \n",
       "phoneservice                             no               yes  \n",
       "multiplelines              no_phone_service                no  \n",
       "internetservice                         dsl       fiber_optic  \n",
       "onlinesecurity                          yes                no  \n",
       "onlinebackup                             no                no  \n",
       "deviceprotection                        yes                no  \n",
       "techsupport                             yes                no  \n",
       "streamingtv                              no                no  \n",
       "streamingmovies                          no                no  \n",
       "contract                           one_year    month-to-month  \n",
       "paperlessbilling                         no               yes  \n",
       "paymentmethod     bank_transfer_(automatic)  electronic_check  \n",
       "monthlycharges                         42.3              70.7  \n",
       "totalcharges                        1840.75            151.65  \n",
       "churn                                    no               yes  "
      ]
     },
     "execution_count": 10,
     "metadata": {},
     "output_type": "execute_result"
    }
   ],
   "source": [
    "df.head().T"
   ]
  },
  {
   "cell_type": "markdown",
   "id": "b550ade7-66b8-41a7-8bd0-32215adf155b",
   "metadata": {},
   "source": [
    "### Look Data Types"
   ]
  },
  {
   "cell_type": "code",
   "execution_count": 11,
   "id": "633e3bc6-9b82-4259-9c63-380d5eb4e98d",
   "metadata": {},
   "outputs": [
    {
     "data": {
      "text/plain": [
       "customerid           object\n",
       "gender               object\n",
       "seniorcitizen         int64\n",
       "partner              object\n",
       "dependents           object\n",
       "tenure                int64\n",
       "phoneservice         object\n",
       "multiplelines        object\n",
       "internetservice      object\n",
       "onlinesecurity       object\n",
       "onlinebackup         object\n",
       "deviceprotection     object\n",
       "techsupport          object\n",
       "streamingtv          object\n",
       "streamingmovies      object\n",
       "contract             object\n",
       "paperlessbilling     object\n",
       "paymentmethod        object\n",
       "monthlycharges      float64\n",
       "totalcharges         object\n",
       "churn                object\n",
       "dtype: object"
      ]
     },
     "execution_count": 11,
     "metadata": {},
     "output_type": "execute_result"
    }
   ],
   "source": [
    "df.dtypes"
   ]
  },
  {
   "cell_type": "markdown",
   "id": "87cba214-6e94-41f1-b25a-4ecc60a50e00",
   "metadata": {},
   "source": [
    "#### Total Charges should be a number"
   ]
  },
  {
   "cell_type": "code",
   "execution_count": 12,
   "id": "420027bc-618f-4b1f-897a-6f0d0b3b6ad5",
   "metadata": {},
   "outputs": [],
   "source": [
    "# pd.to_numeric(df.totalcharges)"
   ]
  },
  {
   "cell_type": "code",
   "execution_count": 13,
   "id": "23c52839-e1d3-4951-82ed-1be9c46972a8",
   "metadata": {},
   "outputs": [
    {
     "data": {
      "text/plain": [
       "'_'"
      ]
     },
     "execution_count": 13,
     "metadata": {},
     "output_type": "execute_result"
    }
   ],
   "source": [
    "df.totalcharges.iloc[488] # Spaces denote no charge. this was replaced"
   ]
  },
  {
   "cell_type": "code",
   "execution_count": 14,
   "id": "ac1b3ded-2597-4a81-b0ca-db30d7bc01d8",
   "metadata": {},
   "outputs": [],
   "source": [
    "tc = pd.to_numeric(df.totalcharges, errors='coerce')"
   ]
  },
  {
   "cell_type": "code",
   "execution_count": 15,
   "id": "ed1963c5-e84c-412c-8c48-75ea39329e12",
   "metadata": {},
   "outputs": [
    {
     "data": {
      "text/html": [
       "<div>\n",
       "<style scoped>\n",
       "    .dataframe tbody tr th:only-of-type {\n",
       "        vertical-align: middle;\n",
       "    }\n",
       "\n",
       "    .dataframe tbody tr th {\n",
       "        vertical-align: top;\n",
       "    }\n",
       "\n",
       "    .dataframe thead th {\n",
       "        text-align: right;\n",
       "    }\n",
       "</style>\n",
       "<table border=\"1\" class=\"dataframe\">\n",
       "  <thead>\n",
       "    <tr style=\"text-align: right;\">\n",
       "      <th></th>\n",
       "      <th>customerid</th>\n",
       "      <th>totalcharges</th>\n",
       "    </tr>\n",
       "  </thead>\n",
       "  <tbody>\n",
       "    <tr>\n",
       "      <th>488</th>\n",
       "      <td>4472-lvygi</td>\n",
       "      <td>_</td>\n",
       "    </tr>\n",
       "    <tr>\n",
       "      <th>753</th>\n",
       "      <td>3115-czmzd</td>\n",
       "      <td>_</td>\n",
       "    </tr>\n",
       "    <tr>\n",
       "      <th>936</th>\n",
       "      <td>5709-lvoeq</td>\n",
       "      <td>_</td>\n",
       "    </tr>\n",
       "    <tr>\n",
       "      <th>1082</th>\n",
       "      <td>4367-nuyao</td>\n",
       "      <td>_</td>\n",
       "    </tr>\n",
       "    <tr>\n",
       "      <th>1340</th>\n",
       "      <td>1371-dwpaz</td>\n",
       "      <td>_</td>\n",
       "    </tr>\n",
       "    <tr>\n",
       "      <th>3331</th>\n",
       "      <td>7644-omvmy</td>\n",
       "      <td>_</td>\n",
       "    </tr>\n",
       "    <tr>\n",
       "      <th>3826</th>\n",
       "      <td>3213-vvolg</td>\n",
       "      <td>_</td>\n",
       "    </tr>\n",
       "    <tr>\n",
       "      <th>4380</th>\n",
       "      <td>2520-sgtta</td>\n",
       "      <td>_</td>\n",
       "    </tr>\n",
       "    <tr>\n",
       "      <th>5218</th>\n",
       "      <td>2923-arzlg</td>\n",
       "      <td>_</td>\n",
       "    </tr>\n",
       "    <tr>\n",
       "      <th>6670</th>\n",
       "      <td>4075-wkniu</td>\n",
       "      <td>_</td>\n",
       "    </tr>\n",
       "    <tr>\n",
       "      <th>6754</th>\n",
       "      <td>2775-sefee</td>\n",
       "      <td>_</td>\n",
       "    </tr>\n",
       "  </tbody>\n",
       "</table>\n",
       "</div>"
      ],
      "text/plain": [
       "      customerid totalcharges\n",
       "488   4472-lvygi            _\n",
       "753   3115-czmzd            _\n",
       "936   5709-lvoeq            _\n",
       "1082  4367-nuyao            _\n",
       "1340  1371-dwpaz            _\n",
       "3331  7644-omvmy            _\n",
       "3826  3213-vvolg            _\n",
       "4380  2520-sgtta            _\n",
       "5218  2923-arzlg            _\n",
       "6670  4075-wkniu            _\n",
       "6754  2775-sefee            _"
      ]
     },
     "execution_count": 15,
     "metadata": {},
     "output_type": "execute_result"
    }
   ],
   "source": [
    "df[tc.isnull()][['customerid', 'totalcharges']]"
   ]
  },
  {
   "cell_type": "code",
   "execution_count": 16,
   "id": "f791e0d8-319d-4865-b8ad-162e6f347edb",
   "metadata": {},
   "outputs": [
    {
     "data": {
      "text/html": [
       "<div>\n",
       "<style scoped>\n",
       "    .dataframe tbody tr th:only-of-type {\n",
       "        vertical-align: middle;\n",
       "    }\n",
       "\n",
       "    .dataframe tbody tr th {\n",
       "        vertical-align: top;\n",
       "    }\n",
       "\n",
       "    .dataframe thead th {\n",
       "        text-align: right;\n",
       "    }\n",
       "</style>\n",
       "<table border=\"1\" class=\"dataframe\">\n",
       "  <thead>\n",
       "    <tr style=\"text-align: right;\">\n",
       "      <th></th>\n",
       "      <th>0</th>\n",
       "      <th>1</th>\n",
       "      <th>2</th>\n",
       "      <th>3</th>\n",
       "      <th>4</th>\n",
       "    </tr>\n",
       "  </thead>\n",
       "  <tbody>\n",
       "    <tr>\n",
       "      <th>customerid</th>\n",
       "      <td>7590-vhveg</td>\n",
       "      <td>5575-gnvde</td>\n",
       "      <td>3668-qpybk</td>\n",
       "      <td>7795-cfocw</td>\n",
       "      <td>9237-hqitu</td>\n",
       "    </tr>\n",
       "    <tr>\n",
       "      <th>gender</th>\n",
       "      <td>female</td>\n",
       "      <td>male</td>\n",
       "      <td>male</td>\n",
       "      <td>male</td>\n",
       "      <td>female</td>\n",
       "    </tr>\n",
       "    <tr>\n",
       "      <th>seniorcitizen</th>\n",
       "      <td>0</td>\n",
       "      <td>0</td>\n",
       "      <td>0</td>\n",
       "      <td>0</td>\n",
       "      <td>0</td>\n",
       "    </tr>\n",
       "    <tr>\n",
       "      <th>partner</th>\n",
       "      <td>yes</td>\n",
       "      <td>no</td>\n",
       "      <td>no</td>\n",
       "      <td>no</td>\n",
       "      <td>no</td>\n",
       "    </tr>\n",
       "    <tr>\n",
       "      <th>dependents</th>\n",
       "      <td>no</td>\n",
       "      <td>no</td>\n",
       "      <td>no</td>\n",
       "      <td>no</td>\n",
       "      <td>no</td>\n",
       "    </tr>\n",
       "    <tr>\n",
       "      <th>tenure</th>\n",
       "      <td>1</td>\n",
       "      <td>34</td>\n",
       "      <td>2</td>\n",
       "      <td>45</td>\n",
       "      <td>2</td>\n",
       "    </tr>\n",
       "    <tr>\n",
       "      <th>phoneservice</th>\n",
       "      <td>no</td>\n",
       "      <td>yes</td>\n",
       "      <td>yes</td>\n",
       "      <td>no</td>\n",
       "      <td>yes</td>\n",
       "    </tr>\n",
       "    <tr>\n",
       "      <th>multiplelines</th>\n",
       "      <td>no_phone_service</td>\n",
       "      <td>no</td>\n",
       "      <td>no</td>\n",
       "      <td>no_phone_service</td>\n",
       "      <td>no</td>\n",
       "    </tr>\n",
       "    <tr>\n",
       "      <th>internetservice</th>\n",
       "      <td>dsl</td>\n",
       "      <td>dsl</td>\n",
       "      <td>dsl</td>\n",
       "      <td>dsl</td>\n",
       "      <td>fiber_optic</td>\n",
       "    </tr>\n",
       "    <tr>\n",
       "      <th>onlinesecurity</th>\n",
       "      <td>no</td>\n",
       "      <td>yes</td>\n",
       "      <td>yes</td>\n",
       "      <td>yes</td>\n",
       "      <td>no</td>\n",
       "    </tr>\n",
       "    <tr>\n",
       "      <th>onlinebackup</th>\n",
       "      <td>yes</td>\n",
       "      <td>no</td>\n",
       "      <td>yes</td>\n",
       "      <td>no</td>\n",
       "      <td>no</td>\n",
       "    </tr>\n",
       "    <tr>\n",
       "      <th>deviceprotection</th>\n",
       "      <td>no</td>\n",
       "      <td>yes</td>\n",
       "      <td>no</td>\n",
       "      <td>yes</td>\n",
       "      <td>no</td>\n",
       "    </tr>\n",
       "    <tr>\n",
       "      <th>techsupport</th>\n",
       "      <td>no</td>\n",
       "      <td>no</td>\n",
       "      <td>no</td>\n",
       "      <td>yes</td>\n",
       "      <td>no</td>\n",
       "    </tr>\n",
       "    <tr>\n",
       "      <th>streamingtv</th>\n",
       "      <td>no</td>\n",
       "      <td>no</td>\n",
       "      <td>no</td>\n",
       "      <td>no</td>\n",
       "      <td>no</td>\n",
       "    </tr>\n",
       "    <tr>\n",
       "      <th>streamingmovies</th>\n",
       "      <td>no</td>\n",
       "      <td>no</td>\n",
       "      <td>no</td>\n",
       "      <td>no</td>\n",
       "      <td>no</td>\n",
       "    </tr>\n",
       "    <tr>\n",
       "      <th>contract</th>\n",
       "      <td>month-to-month</td>\n",
       "      <td>one_year</td>\n",
       "      <td>month-to-month</td>\n",
       "      <td>one_year</td>\n",
       "      <td>month-to-month</td>\n",
       "    </tr>\n",
       "    <tr>\n",
       "      <th>paperlessbilling</th>\n",
       "      <td>yes</td>\n",
       "      <td>no</td>\n",
       "      <td>yes</td>\n",
       "      <td>no</td>\n",
       "      <td>yes</td>\n",
       "    </tr>\n",
       "    <tr>\n",
       "      <th>paymentmethod</th>\n",
       "      <td>electronic_check</td>\n",
       "      <td>mailed_check</td>\n",
       "      <td>mailed_check</td>\n",
       "      <td>bank_transfer_(automatic)</td>\n",
       "      <td>electronic_check</td>\n",
       "    </tr>\n",
       "    <tr>\n",
       "      <th>monthlycharges</th>\n",
       "      <td>29.85</td>\n",
       "      <td>56.95</td>\n",
       "      <td>53.85</td>\n",
       "      <td>42.3</td>\n",
       "      <td>70.7</td>\n",
       "    </tr>\n",
       "    <tr>\n",
       "      <th>totalcharges</th>\n",
       "      <td>29.85</td>\n",
       "      <td>1889.5</td>\n",
       "      <td>108.15</td>\n",
       "      <td>1840.75</td>\n",
       "      <td>151.65</td>\n",
       "    </tr>\n",
       "    <tr>\n",
       "      <th>churn</th>\n",
       "      <td>no</td>\n",
       "      <td>no</td>\n",
       "      <td>yes</td>\n",
       "      <td>no</td>\n",
       "      <td>yes</td>\n",
       "    </tr>\n",
       "  </tbody>\n",
       "</table>\n",
       "</div>"
      ],
      "text/plain": [
       "                                 0             1               2  \\\n",
       "customerid              7590-vhveg    5575-gnvde      3668-qpybk   \n",
       "gender                      female          male            male   \n",
       "seniorcitizen                    0             0               0   \n",
       "partner                        yes            no              no   \n",
       "dependents                      no            no              no   \n",
       "tenure                           1            34               2   \n",
       "phoneservice                    no           yes             yes   \n",
       "multiplelines     no_phone_service            no              no   \n",
       "internetservice                dsl           dsl             dsl   \n",
       "onlinesecurity                  no           yes             yes   \n",
       "onlinebackup                   yes            no             yes   \n",
       "deviceprotection                no           yes              no   \n",
       "techsupport                     no            no              no   \n",
       "streamingtv                     no            no              no   \n",
       "streamingmovies                 no            no              no   \n",
       "contract            month-to-month      one_year  month-to-month   \n",
       "paperlessbilling               yes            no             yes   \n",
       "paymentmethod     electronic_check  mailed_check    mailed_check   \n",
       "monthlycharges               29.85         56.95           53.85   \n",
       "totalcharges                 29.85        1889.5          108.15   \n",
       "churn                           no            no             yes   \n",
       "\n",
       "                                          3                 4  \n",
       "customerid                       7795-cfocw        9237-hqitu  \n",
       "gender                                 male            female  \n",
       "seniorcitizen                             0                 0  \n",
       "partner                                  no                no  \n",
       "dependents                               no                no  \n",
       "tenure                                   45                 2  \n",
       "phoneservice                             no               yes  \n",
       "multiplelines              no_phone_service                no  \n",
       "internetservice                         dsl       fiber_optic  \n",
       "onlinesecurity                          yes                no  \n",
       "onlinebackup                             no                no  \n",
       "deviceprotection                        yes                no  \n",
       "techsupport                             yes                no  \n",
       "streamingtv                              no                no  \n",
       "streamingmovies                          no                no  \n",
       "contract                           one_year    month-to-month  \n",
       "paperlessbilling                         no               yes  \n",
       "paymentmethod     bank_transfer_(automatic)  electronic_check  \n",
       "monthlycharges                         42.3              70.7  \n",
       "totalcharges                        1840.75            151.65  \n",
       "churn                                    no               yes  "
      ]
     },
     "execution_count": 16,
     "metadata": {},
     "output_type": "execute_result"
    }
   ],
   "source": [
    "df.totalcharges = pd.to_numeric(df.totalcharges, errors='coerce')\n",
    "df.totalcharges = df.totalcharges.fillna(0)\n",
    "df.head().T"
   ]
  },
  {
   "cell_type": "markdown",
   "id": "3dbe27c1-8825-4c82-9a46-7f6656980ccc",
   "metadata": {},
   "source": [
    "#### Churn Should be 1 or 0"
   ]
  },
  {
   "cell_type": "code",
   "execution_count": 17,
   "id": "b9352ed9-497c-4a08-9205-f660755bbcca",
   "metadata": {},
   "outputs": [],
   "source": [
    "df['churn'] = (df['churn'] == 'yes').astype(int)"
   ]
  },
  {
   "cell_type": "markdown",
   "id": "90b1e47d-f8a3-457e-9550-a3e33aaccc24",
   "metadata": {},
   "source": [
    "## Setting Up Validation Framework"
   ]
  },
  {
   "cell_type": "code",
   "execution_count": 18,
   "id": "9d97e3bb-fa55-475e-8ad8-b9c7a9777c5e",
   "metadata": {},
   "outputs": [],
   "source": [
    "from sklearn.model_selection import train_test_split"
   ]
  },
  {
   "cell_type": "markdown",
   "id": "9a386ab7-5099-4d03-8eb8-0ec8c360721e",
   "metadata": {},
   "source": [
    "#### Split the dataset"
   ]
  },
  {
   "cell_type": "code",
   "execution_count": 19,
   "id": "d8b25bbc-a3b0-41d9-a5ab-1ac7da7f423f",
   "metadata": {},
   "outputs": [],
   "source": [
    "# Split the data set into 60, 20, 20 train test and validate"
   ]
  },
  {
   "cell_type": "code",
   "execution_count": 20,
   "id": "0ccbc879-fdd5-471a-addf-2b2722429a42",
   "metadata": {},
   "outputs": [],
   "source": [
    "df_full_train, df_test = train_test_split(df, test_size=0.2, random_state=1)"
   ]
  },
  {
   "cell_type": "code",
   "execution_count": 21,
   "id": "ba5c85a7-5865-443e-b132-c31ef190be2f",
   "metadata": {},
   "outputs": [],
   "source": [
    "# 20% of df = 25% of df_full_train\n",
    "df_train, df_val = train_test_split(df_full_train, test_size=0.25, random_state=1)"
   ]
  },
  {
   "cell_type": "code",
   "execution_count": 22,
   "id": "bcb9511f-222c-4db9-98cf-cb943aae8bc2",
   "metadata": {},
   "outputs": [],
   "source": [
    "assert len(df_val) == len(df_test)"
   ]
  },
  {
   "cell_type": "markdown",
   "id": "b57a2302-f690-4544-87ea-416785c4fc8d",
   "metadata": {},
   "source": [
    "#### Reset the indices"
   ]
  },
  {
   "cell_type": "code",
   "execution_count": 23,
   "id": "d33dfba4-ff9a-4a0f-9362-2dd4cb2c31b4",
   "metadata": {},
   "outputs": [],
   "source": [
    "df_train = df_train.reset_index(drop=True)\n",
    "df_val = df_val.reset_index(drop=True)\n",
    "df_test = df_test.reset_index(drop=True)\n",
    "df_full_train = df_full_train.reset_index(drop=True)"
   ]
  },
  {
   "cell_type": "markdown",
   "id": "6ad0f08f-7028-4bdb-8c1e-210e5c516e8d",
   "metadata": {},
   "source": [
    "#### Split Y from features"
   ]
  },
  {
   "cell_type": "code",
   "execution_count": 24,
   "id": "1d0cda16-9421-43bd-85f8-dd728d66969f",
   "metadata": {},
   "outputs": [],
   "source": [
    "y_train = df_train['churn'].values\n",
    "y_test = df_test['churn'].values\n",
    "y_val = df_val['churn'].values\n",
    "y_full_train = df_full_train['churn'].values"
   ]
  },
  {
   "cell_type": "code",
   "execution_count": 25,
   "id": "373ccc1f-98c9-4ff9-86a2-9e210c065a66",
   "metadata": {},
   "outputs": [],
   "source": [
    "del df_train['churn']\n",
    "del df_test['churn']\n",
    "del df_val['churn']"
   ]
  },
  {
   "cell_type": "markdown",
   "id": "24faee6a-88b5-4cb1-ade6-2cdff12e08db",
   "metadata": {},
   "source": [
    "## EDA"
   ]
  },
  {
   "cell_type": "markdown",
   "id": "bdae233d-e92a-4640-9ac1-97d7ffe8d34e",
   "metadata": {},
   "source": [
    "- Check Missing values\n",
    "- Look at target Variables\n",
    "- Look at numerical and categorical variables"
   ]
  },
  {
   "cell_type": "code",
   "execution_count": 26,
   "id": "099659bf-a5d9-488e-8ccc-551f5fbe4b8f",
   "metadata": {},
   "outputs": [
    {
     "data": {
      "text/html": [
       "<div>\n",
       "<style scoped>\n",
       "    .dataframe tbody tr th:only-of-type {\n",
       "        vertical-align: middle;\n",
       "    }\n",
       "\n",
       "    .dataframe tbody tr th {\n",
       "        vertical-align: top;\n",
       "    }\n",
       "\n",
       "    .dataframe thead th {\n",
       "        text-align: right;\n",
       "    }\n",
       "</style>\n",
       "<table border=\"1\" class=\"dataframe\">\n",
       "  <thead>\n",
       "    <tr style=\"text-align: right;\">\n",
       "      <th></th>\n",
       "      <th>customerid</th>\n",
       "      <th>gender</th>\n",
       "      <th>seniorcitizen</th>\n",
       "      <th>partner</th>\n",
       "      <th>dependents</th>\n",
       "      <th>tenure</th>\n",
       "      <th>phoneservice</th>\n",
       "      <th>multiplelines</th>\n",
       "      <th>internetservice</th>\n",
       "      <th>onlinesecurity</th>\n",
       "      <th>...</th>\n",
       "      <th>deviceprotection</th>\n",
       "      <th>techsupport</th>\n",
       "      <th>streamingtv</th>\n",
       "      <th>streamingmovies</th>\n",
       "      <th>contract</th>\n",
       "      <th>paperlessbilling</th>\n",
       "      <th>paymentmethod</th>\n",
       "      <th>monthlycharges</th>\n",
       "      <th>totalcharges</th>\n",
       "      <th>churn</th>\n",
       "    </tr>\n",
       "  </thead>\n",
       "  <tbody>\n",
       "    <tr>\n",
       "      <th>0</th>\n",
       "      <td>5442-pptjy</td>\n",
       "      <td>male</td>\n",
       "      <td>0</td>\n",
       "      <td>yes</td>\n",
       "      <td>yes</td>\n",
       "      <td>12</td>\n",
       "      <td>yes</td>\n",
       "      <td>no</td>\n",
       "      <td>no</td>\n",
       "      <td>no_internet_service</td>\n",
       "      <td>...</td>\n",
       "      <td>no_internet_service</td>\n",
       "      <td>no_internet_service</td>\n",
       "      <td>no_internet_service</td>\n",
       "      <td>no_internet_service</td>\n",
       "      <td>two_year</td>\n",
       "      <td>no</td>\n",
       "      <td>mailed_check</td>\n",
       "      <td>19.70</td>\n",
       "      <td>258.35</td>\n",
       "      <td>0</td>\n",
       "    </tr>\n",
       "    <tr>\n",
       "      <th>1</th>\n",
       "      <td>6261-rcvns</td>\n",
       "      <td>female</td>\n",
       "      <td>0</td>\n",
       "      <td>no</td>\n",
       "      <td>no</td>\n",
       "      <td>42</td>\n",
       "      <td>yes</td>\n",
       "      <td>no</td>\n",
       "      <td>dsl</td>\n",
       "      <td>yes</td>\n",
       "      <td>...</td>\n",
       "      <td>yes</td>\n",
       "      <td>yes</td>\n",
       "      <td>no</td>\n",
       "      <td>yes</td>\n",
       "      <td>one_year</td>\n",
       "      <td>no</td>\n",
       "      <td>credit_card_(automatic)</td>\n",
       "      <td>73.90</td>\n",
       "      <td>3160.55</td>\n",
       "      <td>1</td>\n",
       "    </tr>\n",
       "    <tr>\n",
       "      <th>2</th>\n",
       "      <td>2176-osjuv</td>\n",
       "      <td>male</td>\n",
       "      <td>0</td>\n",
       "      <td>yes</td>\n",
       "      <td>no</td>\n",
       "      <td>71</td>\n",
       "      <td>yes</td>\n",
       "      <td>yes</td>\n",
       "      <td>dsl</td>\n",
       "      <td>yes</td>\n",
       "      <td>...</td>\n",
       "      <td>no</td>\n",
       "      <td>yes</td>\n",
       "      <td>no</td>\n",
       "      <td>no</td>\n",
       "      <td>two_year</td>\n",
       "      <td>no</td>\n",
       "      <td>bank_transfer_(automatic)</td>\n",
       "      <td>65.15</td>\n",
       "      <td>4681.75</td>\n",
       "      <td>0</td>\n",
       "    </tr>\n",
       "    <tr>\n",
       "      <th>3</th>\n",
       "      <td>6161-erdgd</td>\n",
       "      <td>male</td>\n",
       "      <td>0</td>\n",
       "      <td>yes</td>\n",
       "      <td>yes</td>\n",
       "      <td>71</td>\n",
       "      <td>yes</td>\n",
       "      <td>yes</td>\n",
       "      <td>dsl</td>\n",
       "      <td>yes</td>\n",
       "      <td>...</td>\n",
       "      <td>yes</td>\n",
       "      <td>yes</td>\n",
       "      <td>yes</td>\n",
       "      <td>yes</td>\n",
       "      <td>one_year</td>\n",
       "      <td>no</td>\n",
       "      <td>electronic_check</td>\n",
       "      <td>85.45</td>\n",
       "      <td>6300.85</td>\n",
       "      <td>0</td>\n",
       "    </tr>\n",
       "    <tr>\n",
       "      <th>4</th>\n",
       "      <td>2364-ufrom</td>\n",
       "      <td>male</td>\n",
       "      <td>0</td>\n",
       "      <td>no</td>\n",
       "      <td>no</td>\n",
       "      <td>30</td>\n",
       "      <td>yes</td>\n",
       "      <td>no</td>\n",
       "      <td>dsl</td>\n",
       "      <td>yes</td>\n",
       "      <td>...</td>\n",
       "      <td>no</td>\n",
       "      <td>yes</td>\n",
       "      <td>yes</td>\n",
       "      <td>no</td>\n",
       "      <td>one_year</td>\n",
       "      <td>no</td>\n",
       "      <td>electronic_check</td>\n",
       "      <td>70.40</td>\n",
       "      <td>2044.75</td>\n",
       "      <td>0</td>\n",
       "    </tr>\n",
       "    <tr>\n",
       "      <th>...</th>\n",
       "      <td>...</td>\n",
       "      <td>...</td>\n",
       "      <td>...</td>\n",
       "      <td>...</td>\n",
       "      <td>...</td>\n",
       "      <td>...</td>\n",
       "      <td>...</td>\n",
       "      <td>...</td>\n",
       "      <td>...</td>\n",
       "      <td>...</td>\n",
       "      <td>...</td>\n",
       "      <td>...</td>\n",
       "      <td>...</td>\n",
       "      <td>...</td>\n",
       "      <td>...</td>\n",
       "      <td>...</td>\n",
       "      <td>...</td>\n",
       "      <td>...</td>\n",
       "      <td>...</td>\n",
       "      <td>...</td>\n",
       "      <td>...</td>\n",
       "    </tr>\n",
       "    <tr>\n",
       "      <th>5629</th>\n",
       "      <td>0781-lkxbr</td>\n",
       "      <td>male</td>\n",
       "      <td>1</td>\n",
       "      <td>no</td>\n",
       "      <td>no</td>\n",
       "      <td>9</td>\n",
       "      <td>yes</td>\n",
       "      <td>yes</td>\n",
       "      <td>fiber_optic</td>\n",
       "      <td>no</td>\n",
       "      <td>...</td>\n",
       "      <td>yes</td>\n",
       "      <td>no</td>\n",
       "      <td>yes</td>\n",
       "      <td>yes</td>\n",
       "      <td>month-to-month</td>\n",
       "      <td>yes</td>\n",
       "      <td>electronic_check</td>\n",
       "      <td>100.50</td>\n",
       "      <td>918.60</td>\n",
       "      <td>1</td>\n",
       "    </tr>\n",
       "    <tr>\n",
       "      <th>5630</th>\n",
       "      <td>3507-gasnp</td>\n",
       "      <td>male</td>\n",
       "      <td>0</td>\n",
       "      <td>no</td>\n",
       "      <td>yes</td>\n",
       "      <td>60</td>\n",
       "      <td>yes</td>\n",
       "      <td>no</td>\n",
       "      <td>no</td>\n",
       "      <td>no_internet_service</td>\n",
       "      <td>...</td>\n",
       "      <td>no_internet_service</td>\n",
       "      <td>no_internet_service</td>\n",
       "      <td>no_internet_service</td>\n",
       "      <td>no_internet_service</td>\n",
       "      <td>two_year</td>\n",
       "      <td>no</td>\n",
       "      <td>mailed_check</td>\n",
       "      <td>19.95</td>\n",
       "      <td>1189.90</td>\n",
       "      <td>0</td>\n",
       "    </tr>\n",
       "    <tr>\n",
       "      <th>5631</th>\n",
       "      <td>8868-wozgu</td>\n",
       "      <td>male</td>\n",
       "      <td>0</td>\n",
       "      <td>no</td>\n",
       "      <td>no</td>\n",
       "      <td>28</td>\n",
       "      <td>yes</td>\n",
       "      <td>yes</td>\n",
       "      <td>fiber_optic</td>\n",
       "      <td>no</td>\n",
       "      <td>...</td>\n",
       "      <td>yes</td>\n",
       "      <td>no</td>\n",
       "      <td>yes</td>\n",
       "      <td>yes</td>\n",
       "      <td>month-to-month</td>\n",
       "      <td>yes</td>\n",
       "      <td>electronic_check</td>\n",
       "      <td>105.70</td>\n",
       "      <td>2979.50</td>\n",
       "      <td>1</td>\n",
       "    </tr>\n",
       "    <tr>\n",
       "      <th>5632</th>\n",
       "      <td>1251-krreg</td>\n",
       "      <td>male</td>\n",
       "      <td>0</td>\n",
       "      <td>no</td>\n",
       "      <td>no</td>\n",
       "      <td>2</td>\n",
       "      <td>yes</td>\n",
       "      <td>yes</td>\n",
       "      <td>dsl</td>\n",
       "      <td>no</td>\n",
       "      <td>...</td>\n",
       "      <td>no</td>\n",
       "      <td>no</td>\n",
       "      <td>no</td>\n",
       "      <td>no</td>\n",
       "      <td>month-to-month</td>\n",
       "      <td>yes</td>\n",
       "      <td>mailed_check</td>\n",
       "      <td>54.40</td>\n",
       "      <td>114.10</td>\n",
       "      <td>1</td>\n",
       "    </tr>\n",
       "    <tr>\n",
       "      <th>5633</th>\n",
       "      <td>5840-nvdcg</td>\n",
       "      <td>female</td>\n",
       "      <td>0</td>\n",
       "      <td>yes</td>\n",
       "      <td>yes</td>\n",
       "      <td>16</td>\n",
       "      <td>yes</td>\n",
       "      <td>no</td>\n",
       "      <td>dsl</td>\n",
       "      <td>yes</td>\n",
       "      <td>...</td>\n",
       "      <td>no</td>\n",
       "      <td>yes</td>\n",
       "      <td>no</td>\n",
       "      <td>yes</td>\n",
       "      <td>two_year</td>\n",
       "      <td>no</td>\n",
       "      <td>bank_transfer_(automatic)</td>\n",
       "      <td>68.25</td>\n",
       "      <td>1114.85</td>\n",
       "      <td>0</td>\n",
       "    </tr>\n",
       "  </tbody>\n",
       "</table>\n",
       "<p>5634 rows × 21 columns</p>\n",
       "</div>"
      ],
      "text/plain": [
       "      customerid  gender  seniorcitizen partner dependents  tenure  \\\n",
       "0     5442-pptjy    male              0     yes        yes      12   \n",
       "1     6261-rcvns  female              0      no         no      42   \n",
       "2     2176-osjuv    male              0     yes         no      71   \n",
       "3     6161-erdgd    male              0     yes        yes      71   \n",
       "4     2364-ufrom    male              0      no         no      30   \n",
       "...          ...     ...            ...     ...        ...     ...   \n",
       "5629  0781-lkxbr    male              1      no         no       9   \n",
       "5630  3507-gasnp    male              0      no        yes      60   \n",
       "5631  8868-wozgu    male              0      no         no      28   \n",
       "5632  1251-krreg    male              0      no         no       2   \n",
       "5633  5840-nvdcg  female              0     yes        yes      16   \n",
       "\n",
       "     phoneservice multiplelines internetservice       onlinesecurity  ...  \\\n",
       "0             yes            no              no  no_internet_service  ...   \n",
       "1             yes            no             dsl                  yes  ...   \n",
       "2             yes           yes             dsl                  yes  ...   \n",
       "3             yes           yes             dsl                  yes  ...   \n",
       "4             yes            no             dsl                  yes  ...   \n",
       "...           ...           ...             ...                  ...  ...   \n",
       "5629          yes           yes     fiber_optic                   no  ...   \n",
       "5630          yes            no              no  no_internet_service  ...   \n",
       "5631          yes           yes     fiber_optic                   no  ...   \n",
       "5632          yes           yes             dsl                   no  ...   \n",
       "5633          yes            no             dsl                  yes  ...   \n",
       "\n",
       "         deviceprotection          techsupport          streamingtv  \\\n",
       "0     no_internet_service  no_internet_service  no_internet_service   \n",
       "1                     yes                  yes                   no   \n",
       "2                      no                  yes                   no   \n",
       "3                     yes                  yes                  yes   \n",
       "4                      no                  yes                  yes   \n",
       "...                   ...                  ...                  ...   \n",
       "5629                  yes                   no                  yes   \n",
       "5630  no_internet_service  no_internet_service  no_internet_service   \n",
       "5631                  yes                   no                  yes   \n",
       "5632                   no                   no                   no   \n",
       "5633                   no                  yes                   no   \n",
       "\n",
       "          streamingmovies        contract paperlessbilling  \\\n",
       "0     no_internet_service        two_year               no   \n",
       "1                     yes        one_year               no   \n",
       "2                      no        two_year               no   \n",
       "3                     yes        one_year               no   \n",
       "4                      no        one_year               no   \n",
       "...                   ...             ...              ...   \n",
       "5629                  yes  month-to-month              yes   \n",
       "5630  no_internet_service        two_year               no   \n",
       "5631                  yes  month-to-month              yes   \n",
       "5632                   no  month-to-month              yes   \n",
       "5633                  yes        two_year               no   \n",
       "\n",
       "                  paymentmethod monthlycharges  totalcharges  churn  \n",
       "0                  mailed_check          19.70        258.35      0  \n",
       "1       credit_card_(automatic)          73.90       3160.55      1  \n",
       "2     bank_transfer_(automatic)          65.15       4681.75      0  \n",
       "3              electronic_check          85.45       6300.85      0  \n",
       "4              electronic_check          70.40       2044.75      0  \n",
       "...                         ...            ...           ...    ...  \n",
       "5629           electronic_check         100.50        918.60      1  \n",
       "5630               mailed_check          19.95       1189.90      0  \n",
       "5631           electronic_check         105.70       2979.50      1  \n",
       "5632               mailed_check          54.40        114.10      1  \n",
       "5633  bank_transfer_(automatic)          68.25       1114.85      0  \n",
       "\n",
       "[5634 rows x 21 columns]"
      ]
     },
     "execution_count": 26,
     "metadata": {},
     "output_type": "execute_result"
    }
   ],
   "source": [
    "df_full_train"
   ]
  },
  {
   "cell_type": "markdown",
   "id": "134740e4-4c8d-42f1-85be-efd265625318",
   "metadata": {},
   "source": [
    "### Missing Values"
   ]
  },
  {
   "cell_type": "code",
   "execution_count": 27,
   "id": "e2feb10f-d33e-4a8e-949e-e644c16a2e7f",
   "metadata": {},
   "outputs": [
    {
     "data": {
      "text/plain": [
       "customerid          0\n",
       "gender              0\n",
       "seniorcitizen       0\n",
       "partner             0\n",
       "dependents          0\n",
       "tenure              0\n",
       "phoneservice        0\n",
       "multiplelines       0\n",
       "internetservice     0\n",
       "onlinesecurity      0\n",
       "onlinebackup        0\n",
       "deviceprotection    0\n",
       "techsupport         0\n",
       "streamingtv         0\n",
       "streamingmovies     0\n",
       "contract            0\n",
       "paperlessbilling    0\n",
       "paymentmethod       0\n",
       "monthlycharges      0\n",
       "totalcharges        0\n",
       "churn               0\n",
       "dtype: int64"
      ]
     },
     "execution_count": 27,
     "metadata": {},
     "output_type": "execute_result"
    }
   ],
   "source": [
    "df_full_train.isna().sum()"
   ]
  },
  {
   "cell_type": "markdown",
   "id": "bfd8cf38-1c0f-4eb0-be20-955cd88871c6",
   "metadata": {},
   "source": [
    "### Target Variable"
   ]
  },
  {
   "cell_type": "code",
   "execution_count": 28,
   "id": "acaaf688-78db-46e9-b10f-1c5d1dd1749d",
   "metadata": {},
   "outputs": [
    {
     "data": {
      "text/plain": [
       "0    0.730032\n",
       "1    0.269968\n",
       "Name: churn, dtype: float64"
      ]
     },
     "execution_count": 28,
     "metadata": {},
     "output_type": "execute_result"
    }
   ],
   "source": [
    "df_full_train['churn'].value_counts(normalize=True) # This is called churn rate"
   ]
  },
  {
   "cell_type": "code",
   "execution_count": 29,
   "id": "2195e7f5-c9a3-499f-af5e-097fec41e205",
   "metadata": {},
   "outputs": [
    {
     "data": {
      "text/plain": [
       "0.27"
      ]
     },
     "execution_count": 29,
     "metadata": {},
     "output_type": "execute_result"
    }
   ],
   "source": [
    "global_churn_rate = df_full_train[\"churn\"].mean()\n",
    "global_churn_rate = round(global_churn_rate, 2)\n",
    "global_churn_rate"
   ]
  },
  {
   "cell_type": "markdown",
   "id": "d153fd17-6fc5-4d79-b6bf-49c440e65c45",
   "metadata": {},
   "source": [
    "### Seperate Categorical Variables"
   ]
  },
  {
   "cell_type": "code",
   "execution_count": 30,
   "id": "11b11691-ed17-4b1e-a88a-2a0208b8556f",
   "metadata": {},
   "outputs": [
    {
     "data": {
      "text/plain": [
       "['tenure', 'monthlycharges', 'totalcharges']"
      ]
     },
     "execution_count": 30,
     "metadata": {},
     "output_type": "execute_result"
    }
   ],
   "source": [
    "numeric_variables = list(df_train.dtypes[df_train.dtypes != 'object'].index)\n",
    "numeric_variables.remove('seniorcitizen') # Senior citizen is just a flag\n",
    "numeric_variables"
   ]
  },
  {
   "cell_type": "code",
   "execution_count": 31,
   "id": "f8da94d1-6269-42f3-8169-0c34bd191710",
   "metadata": {},
   "outputs": [
    {
     "data": {
      "text/plain": [
       "['multiplelines',\n",
       " 'partner',\n",
       " 'seniorcitizen',\n",
       " 'dependents',\n",
       " 'onlinebackup',\n",
       " 'onlinesecurity',\n",
       " 'paymentmethod',\n",
       " 'gender',\n",
       " 'streamingmovies',\n",
       " 'contract',\n",
       " 'paperlessbilling',\n",
       " 'phoneservice',\n",
       " 'streamingtv',\n",
       " 'deviceprotection',\n",
       " 'techsupport',\n",
       " 'internetservice']"
      ]
     },
     "execution_count": 31,
     "metadata": {},
     "output_type": "execute_result"
    }
   ],
   "source": [
    "categorical_variables = list(set(df_train.dtypes.index) - set(numeric_variables))\n",
    "categorical_variables.remove('customerid')\n",
    "categorical_variables"
   ]
  },
  {
   "cell_type": "markdown",
   "id": "1572eeeb-8475-4ae6-8621-bd6e39afd8d2",
   "metadata": {},
   "source": [
    "### Check the unique counts of Categorical Variables"
   ]
  },
  {
   "cell_type": "code",
   "execution_count": 32,
   "id": "8196a800-df78-420f-8b4a-797c84fe618e",
   "metadata": {},
   "outputs": [
    {
     "data": {
      "text/plain": [
       "multiplelines       3\n",
       "partner             2\n",
       "seniorcitizen       2\n",
       "dependents          2\n",
       "onlinebackup        3\n",
       "onlinesecurity      3\n",
       "paymentmethod       4\n",
       "gender              2\n",
       "streamingmovies     3\n",
       "contract            3\n",
       "paperlessbilling    2\n",
       "phoneservice        2\n",
       "streamingtv         3\n",
       "deviceprotection    3\n",
       "techsupport         3\n",
       "internetservice     3\n",
       "dtype: int64"
      ]
     },
     "execution_count": 32,
     "metadata": {},
     "output_type": "execute_result"
    }
   ],
   "source": [
    "df_full_train[categorical_variables].nunique()"
   ]
  },
  {
   "cell_type": "markdown",
   "id": "c61c0aee-e407-49dd-a2b4-93a338301018",
   "metadata": {},
   "source": [
    "## Feature Importance: Categorical Variables"
   ]
  },
  {
   "cell_type": "markdown",
   "id": "7855e461-45ab-49f2-92c5-ae7c75c7000e",
   "metadata": {},
   "source": [
    "### Churn Rate within each Group"
   ]
  },
  {
   "cell_type": "markdown",
   "id": "f49729f8-39c3-4d16-9ce6-b83b04664f45",
   "metadata": {},
   "source": [
    "#### Gender"
   ]
  },
  {
   "cell_type": "code",
   "execution_count": 33,
   "id": "ac00e0b3-810e-4be0-b612-5b1a28278cb2",
   "metadata": {},
   "outputs": [
    {
     "data": {
      "text/html": [
       "<div>\n",
       "<style scoped>\n",
       "    .dataframe tbody tr th:only-of-type {\n",
       "        vertical-align: middle;\n",
       "    }\n",
       "\n",
       "    .dataframe tbody tr th {\n",
       "        vertical-align: top;\n",
       "    }\n",
       "\n",
       "    .dataframe thead th {\n",
       "        text-align: right;\n",
       "    }\n",
       "</style>\n",
       "<table border=\"1\" class=\"dataframe\">\n",
       "  <thead>\n",
       "    <tr style=\"text-align: right;\">\n",
       "      <th></th>\n",
       "      <th>churn</th>\n",
       "    </tr>\n",
       "    <tr>\n",
       "      <th>gender</th>\n",
       "      <th></th>\n",
       "    </tr>\n",
       "  </thead>\n",
       "  <tbody>\n",
       "    <tr>\n",
       "      <th>female</th>\n",
       "      <td>0.276824</td>\n",
       "    </tr>\n",
       "    <tr>\n",
       "      <th>male</th>\n",
       "      <td>0.263214</td>\n",
       "    </tr>\n",
       "  </tbody>\n",
       "</table>\n",
       "</div>"
      ],
      "text/plain": [
       "           churn\n",
       "gender          \n",
       "female  0.276824\n",
       "male    0.263214"
      ]
     },
     "execution_count": 33,
     "metadata": {},
     "output_type": "execute_result"
    }
   ],
   "source": [
    "df_full_train[['gender', 'churn']].groupby(by=['gender']).mean()"
   ]
  },
  {
   "cell_type": "code",
   "execution_count": 34,
   "id": "3b8132e0-d337-43ee-ac37-83ba91e8199e",
   "metadata": {},
   "outputs": [
    {
     "data": {
      "text/plain": [
       "0.27"
      ]
     },
     "execution_count": 34,
     "metadata": {},
     "output_type": "execute_result"
    }
   ],
   "source": [
    "global_churn_rate"
   ]
  },
  {
   "cell_type": "markdown",
   "id": "e2b69033-bac7-40f0-893e-8b946710fda0",
   "metadata": {},
   "source": [
    "#### Partner"
   ]
  },
  {
   "cell_type": "code",
   "execution_count": 35,
   "id": "95a22836-6898-4088-af28-bbdc2e98b475",
   "metadata": {},
   "outputs": [
    {
     "data": {
      "text/html": [
       "<div>\n",
       "<style scoped>\n",
       "    .dataframe tbody tr th:only-of-type {\n",
       "        vertical-align: middle;\n",
       "    }\n",
       "\n",
       "    .dataframe tbody tr th {\n",
       "        vertical-align: top;\n",
       "    }\n",
       "\n",
       "    .dataframe thead th {\n",
       "        text-align: right;\n",
       "    }\n",
       "</style>\n",
       "<table border=\"1\" class=\"dataframe\">\n",
       "  <thead>\n",
       "    <tr style=\"text-align: right;\">\n",
       "      <th></th>\n",
       "      <th>churn</th>\n",
       "    </tr>\n",
       "    <tr>\n",
       "      <th>partner</th>\n",
       "      <th></th>\n",
       "    </tr>\n",
       "  </thead>\n",
       "  <tbody>\n",
       "    <tr>\n",
       "      <th>no</th>\n",
       "      <td>0.329809</td>\n",
       "    </tr>\n",
       "    <tr>\n",
       "      <th>yes</th>\n",
       "      <td>0.205033</td>\n",
       "    </tr>\n",
       "  </tbody>\n",
       "</table>\n",
       "</div>"
      ],
      "text/plain": [
       "            churn\n",
       "partner          \n",
       "no       0.329809\n",
       "yes      0.205033"
      ]
     },
     "execution_count": 35,
     "metadata": {},
     "output_type": "execute_result"
    }
   ],
   "source": [
    "df_full_train[['partner', 'churn']].groupby(by='partner').mean()"
   ]
  },
  {
   "cell_type": "code",
   "execution_count": 36,
   "id": "c5c5699c-5d31-4376-a39f-c9923c45b27a",
   "metadata": {},
   "outputs": [
    {
     "data": {
      "text/html": [
       "<div>\n",
       "<style scoped>\n",
       "    .dataframe tbody tr th:only-of-type {\n",
       "        vertical-align: middle;\n",
       "    }\n",
       "\n",
       "    .dataframe tbody tr th {\n",
       "        vertical-align: top;\n",
       "    }\n",
       "\n",
       "    .dataframe thead th {\n",
       "        text-align: right;\n",
       "    }\n",
       "</style>\n",
       "<table border=\"1\" class=\"dataframe\">\n",
       "  <thead>\n",
       "    <tr style=\"text-align: right;\">\n",
       "      <th></th>\n",
       "      <th>churn</th>\n",
       "      <th>deviation_from_global</th>\n",
       "    </tr>\n",
       "    <tr>\n",
       "      <th>partner</th>\n",
       "      <th></th>\n",
       "      <th></th>\n",
       "    </tr>\n",
       "  </thead>\n",
       "  <tbody>\n",
       "    <tr>\n",
       "      <th>no</th>\n",
       "      <td>0.329809</td>\n",
       "      <td>5.980900</td>\n",
       "    </tr>\n",
       "    <tr>\n",
       "      <th>yes</th>\n",
       "      <td>0.205033</td>\n",
       "      <td>-6.496669</td>\n",
       "    </tr>\n",
       "  </tbody>\n",
       "</table>\n",
       "</div>"
      ],
      "text/plain": [
       "            churn  deviation_from_global\n",
       "partner                                 \n",
       "no       0.329809               5.980900\n",
       "yes      0.205033              -6.496669"
      ]
     },
     "execution_count": 36,
     "metadata": {},
     "output_type": "execute_result"
    }
   ],
   "source": [
    "churn_partner = df_full_train[['partner', 'churn']].groupby(by='partner').mean()\n",
    "churn_partner['deviation_from_global'] = (churn_partner['churn'] - global_churn_rate) * 100\n",
    "churn_partner"
   ]
  },
  {
   "cell_type": "markdown",
   "id": "bf788d57-4b0d-4089-a7c8-825fe8d08a4c",
   "metadata": {},
   "source": [
    "### Feature Importance"
   ]
  },
  {
   "cell_type": "markdown",
   "id": "4777f0db-1ae8-4c02-89fc-79113e7c2336",
   "metadata": {},
   "source": [
    "#### Difference"
   ]
  },
  {
   "cell_type": "markdown",
   "id": "5b3ed0dd-b7b2-46e8-82bf-55661ae94965",
   "metadata": {},
   "source": [
    "- Group data\n",
    "- Calculate churn rate in each group\n",
    "- Get the difference between group churn and global churn\n",
    "- If there is significant variation then that feature is more important"
   ]
  },
  {
   "cell_type": "markdown",
   "id": "5a51b262-f30e-4d40-a223-5803cad50be2",
   "metadata": {},
   "source": [
    "#### Risk Ratio"
   ]
  },
  {
   "cell_type": "markdown",
   "id": "2c501133-27ac-43ea-92de-361ef06ab16e",
   "metadata": {},
   "source": [
    "- Group data\n",
    "- Calculate churn rate in each group\n",
    "- Ratio of group churn to global churn\n",
    "- $R = \\frac{GROUP}{GLOBAL}$\n",
    "- \\> 1 More likely to churn\n",
    "- \\< 1 Less likely to churn"
   ]
  },
  {
   "cell_type": "markdown",
   "id": "3b8f376a-9454-4391-b460-64226e356235",
   "metadata": {},
   "source": [
    "#### Feature Importance for each category"
   ]
  },
  {
   "cell_type": "code",
   "execution_count": 37,
   "id": "cfdda5ad-60c0-431b-828a-03af03d86384",
   "metadata": {},
   "outputs": [
    {
     "data": {
      "text/html": [
       "<div>\n",
       "<style scoped>\n",
       "    .dataframe tbody tr th:only-of-type {\n",
       "        vertical-align: middle;\n",
       "    }\n",
       "\n",
       "    .dataframe tbody tr th {\n",
       "        vertical-align: top;\n",
       "    }\n",
       "\n",
       "    .dataframe thead th {\n",
       "        text-align: right;\n",
       "    }\n",
       "</style>\n",
       "<table border=\"1\" class=\"dataframe\">\n",
       "  <thead>\n",
       "    <tr style=\"text-align: right;\">\n",
       "      <th></th>\n",
       "      <th>mean</th>\n",
       "      <th>count</th>\n",
       "      <th>diff</th>\n",
       "      <th>risk</th>\n",
       "    </tr>\n",
       "    <tr>\n",
       "      <th>multiplelines</th>\n",
       "      <th></th>\n",
       "      <th></th>\n",
       "      <th></th>\n",
       "      <th></th>\n",
       "    </tr>\n",
       "  </thead>\n",
       "  <tbody>\n",
       "    <tr>\n",
       "      <th>no</th>\n",
       "      <td>0.257407</td>\n",
       "      <td>2700</td>\n",
       "      <td>-0.012593</td>\n",
       "      <td>0.953361</td>\n",
       "    </tr>\n",
       "    <tr>\n",
       "      <th>no_phone_service</th>\n",
       "      <td>0.241316</td>\n",
       "      <td>547</td>\n",
       "      <td>-0.028684</td>\n",
       "      <td>0.893764</td>\n",
       "    </tr>\n",
       "    <tr>\n",
       "      <th>yes</th>\n",
       "      <td>0.290742</td>\n",
       "      <td>2387</td>\n",
       "      <td>0.020742</td>\n",
       "      <td>1.076820</td>\n",
       "    </tr>\n",
       "  </tbody>\n",
       "</table>\n",
       "</div>"
      ],
      "text/plain": [
       "                      mean  count      diff      risk\n",
       "multiplelines                                        \n",
       "no                0.257407   2700 -0.012593  0.953361\n",
       "no_phone_service  0.241316    547 -0.028684  0.893764\n",
       "yes               0.290742   2387  0.020742  1.076820"
      ]
     },
     "metadata": {},
     "output_type": "display_data"
    },
    {
     "data": {
      "text/html": [
       "<div>\n",
       "<style scoped>\n",
       "    .dataframe tbody tr th:only-of-type {\n",
       "        vertical-align: middle;\n",
       "    }\n",
       "\n",
       "    .dataframe tbody tr th {\n",
       "        vertical-align: top;\n",
       "    }\n",
       "\n",
       "    .dataframe thead th {\n",
       "        text-align: right;\n",
       "    }\n",
       "</style>\n",
       "<table border=\"1\" class=\"dataframe\">\n",
       "  <thead>\n",
       "    <tr style=\"text-align: right;\">\n",
       "      <th></th>\n",
       "      <th>mean</th>\n",
       "      <th>count</th>\n",
       "      <th>diff</th>\n",
       "      <th>risk</th>\n",
       "    </tr>\n",
       "    <tr>\n",
       "      <th>partner</th>\n",
       "      <th></th>\n",
       "      <th></th>\n",
       "      <th></th>\n",
       "      <th></th>\n",
       "    </tr>\n",
       "  </thead>\n",
       "  <tbody>\n",
       "    <tr>\n",
       "      <th>no</th>\n",
       "      <td>0.329809</td>\n",
       "      <td>2932</td>\n",
       "      <td>0.059809</td>\n",
       "      <td>1.221515</td>\n",
       "    </tr>\n",
       "    <tr>\n",
       "      <th>yes</th>\n",
       "      <td>0.205033</td>\n",
       "      <td>2702</td>\n",
       "      <td>-0.064967</td>\n",
       "      <td>0.759383</td>\n",
       "    </tr>\n",
       "  </tbody>\n",
       "</table>\n",
       "</div>"
      ],
      "text/plain": [
       "             mean  count      diff      risk\n",
       "partner                                     \n",
       "no       0.329809   2932  0.059809  1.221515\n",
       "yes      0.205033   2702 -0.064967  0.759383"
      ]
     },
     "metadata": {},
     "output_type": "display_data"
    },
    {
     "data": {
      "text/html": [
       "<div>\n",
       "<style scoped>\n",
       "    .dataframe tbody tr th:only-of-type {\n",
       "        vertical-align: middle;\n",
       "    }\n",
       "\n",
       "    .dataframe tbody tr th {\n",
       "        vertical-align: top;\n",
       "    }\n",
       "\n",
       "    .dataframe thead th {\n",
       "        text-align: right;\n",
       "    }\n",
       "</style>\n",
       "<table border=\"1\" class=\"dataframe\">\n",
       "  <thead>\n",
       "    <tr style=\"text-align: right;\">\n",
       "      <th></th>\n",
       "      <th>mean</th>\n",
       "      <th>count</th>\n",
       "      <th>diff</th>\n",
       "      <th>risk</th>\n",
       "    </tr>\n",
       "    <tr>\n",
       "      <th>seniorcitizen</th>\n",
       "      <th></th>\n",
       "      <th></th>\n",
       "      <th></th>\n",
       "      <th></th>\n",
       "    </tr>\n",
       "  </thead>\n",
       "  <tbody>\n",
       "    <tr>\n",
       "      <th>0</th>\n",
       "      <td>0.242270</td>\n",
       "      <td>4722</td>\n",
       "      <td>-0.027730</td>\n",
       "      <td>0.897297</td>\n",
       "    </tr>\n",
       "    <tr>\n",
       "      <th>1</th>\n",
       "      <td>0.413377</td>\n",
       "      <td>912</td>\n",
       "      <td>0.143377</td>\n",
       "      <td>1.531027</td>\n",
       "    </tr>\n",
       "  </tbody>\n",
       "</table>\n",
       "</div>"
      ],
      "text/plain": [
       "                   mean  count      diff      risk\n",
       "seniorcitizen                                     \n",
       "0              0.242270   4722 -0.027730  0.897297\n",
       "1              0.413377    912  0.143377  1.531027"
      ]
     },
     "metadata": {},
     "output_type": "display_data"
    },
    {
     "data": {
      "text/html": [
       "<div>\n",
       "<style scoped>\n",
       "    .dataframe tbody tr th:only-of-type {\n",
       "        vertical-align: middle;\n",
       "    }\n",
       "\n",
       "    .dataframe tbody tr th {\n",
       "        vertical-align: top;\n",
       "    }\n",
       "\n",
       "    .dataframe thead th {\n",
       "        text-align: right;\n",
       "    }\n",
       "</style>\n",
       "<table border=\"1\" class=\"dataframe\">\n",
       "  <thead>\n",
       "    <tr style=\"text-align: right;\">\n",
       "      <th></th>\n",
       "      <th>mean</th>\n",
       "      <th>count</th>\n",
       "      <th>diff</th>\n",
       "      <th>risk</th>\n",
       "    </tr>\n",
       "    <tr>\n",
       "      <th>dependents</th>\n",
       "      <th></th>\n",
       "      <th></th>\n",
       "      <th></th>\n",
       "      <th></th>\n",
       "    </tr>\n",
       "  </thead>\n",
       "  <tbody>\n",
       "    <tr>\n",
       "      <th>no</th>\n",
       "      <td>0.313760</td>\n",
       "      <td>3968</td>\n",
       "      <td>0.043760</td>\n",
       "      <td>1.162074</td>\n",
       "    </tr>\n",
       "    <tr>\n",
       "      <th>yes</th>\n",
       "      <td>0.165666</td>\n",
       "      <td>1666</td>\n",
       "      <td>-0.104334</td>\n",
       "      <td>0.613579</td>\n",
       "    </tr>\n",
       "  </tbody>\n",
       "</table>\n",
       "</div>"
      ],
      "text/plain": [
       "                mean  count      diff      risk\n",
       "dependents                                     \n",
       "no          0.313760   3968  0.043760  1.162074\n",
       "yes         0.165666   1666 -0.104334  0.613579"
      ]
     },
     "metadata": {},
     "output_type": "display_data"
    },
    {
     "data": {
      "text/html": [
       "<div>\n",
       "<style scoped>\n",
       "    .dataframe tbody tr th:only-of-type {\n",
       "        vertical-align: middle;\n",
       "    }\n",
       "\n",
       "    .dataframe tbody tr th {\n",
       "        vertical-align: top;\n",
       "    }\n",
       "\n",
       "    .dataframe thead th {\n",
       "        text-align: right;\n",
       "    }\n",
       "</style>\n",
       "<table border=\"1\" class=\"dataframe\">\n",
       "  <thead>\n",
       "    <tr style=\"text-align: right;\">\n",
       "      <th></th>\n",
       "      <th>mean</th>\n",
       "      <th>count</th>\n",
       "      <th>diff</th>\n",
       "      <th>risk</th>\n",
       "    </tr>\n",
       "    <tr>\n",
       "      <th>onlinebackup</th>\n",
       "      <th></th>\n",
       "      <th></th>\n",
       "      <th></th>\n",
       "      <th></th>\n",
       "    </tr>\n",
       "  </thead>\n",
       "  <tbody>\n",
       "    <tr>\n",
       "      <th>no</th>\n",
       "      <td>0.404323</td>\n",
       "      <td>2498</td>\n",
       "      <td>0.134323</td>\n",
       "      <td>1.497494</td>\n",
       "    </tr>\n",
       "    <tr>\n",
       "      <th>no_internet_service</th>\n",
       "      <td>0.077805</td>\n",
       "      <td>1221</td>\n",
       "      <td>-0.192195</td>\n",
       "      <td>0.288167</td>\n",
       "    </tr>\n",
       "    <tr>\n",
       "      <th>yes</th>\n",
       "      <td>0.217232</td>\n",
       "      <td>1915</td>\n",
       "      <td>-0.052768</td>\n",
       "      <td>0.804564</td>\n",
       "    </tr>\n",
       "  </tbody>\n",
       "</table>\n",
       "</div>"
      ],
      "text/plain": [
       "                         mean  count      diff      risk\n",
       "onlinebackup                                            \n",
       "no                   0.404323   2498  0.134323  1.497494\n",
       "no_internet_service  0.077805   1221 -0.192195  0.288167\n",
       "yes                  0.217232   1915 -0.052768  0.804564"
      ]
     },
     "metadata": {},
     "output_type": "display_data"
    },
    {
     "data": {
      "text/html": [
       "<div>\n",
       "<style scoped>\n",
       "    .dataframe tbody tr th:only-of-type {\n",
       "        vertical-align: middle;\n",
       "    }\n",
       "\n",
       "    .dataframe tbody tr th {\n",
       "        vertical-align: top;\n",
       "    }\n",
       "\n",
       "    .dataframe thead th {\n",
       "        text-align: right;\n",
       "    }\n",
       "</style>\n",
       "<table border=\"1\" class=\"dataframe\">\n",
       "  <thead>\n",
       "    <tr style=\"text-align: right;\">\n",
       "      <th></th>\n",
       "      <th>mean</th>\n",
       "      <th>count</th>\n",
       "      <th>diff</th>\n",
       "      <th>risk</th>\n",
       "    </tr>\n",
       "    <tr>\n",
       "      <th>onlinesecurity</th>\n",
       "      <th></th>\n",
       "      <th></th>\n",
       "      <th></th>\n",
       "      <th></th>\n",
       "    </tr>\n",
       "  </thead>\n",
       "  <tbody>\n",
       "    <tr>\n",
       "      <th>no</th>\n",
       "      <td>0.420921</td>\n",
       "      <td>2801</td>\n",
       "      <td>0.150921</td>\n",
       "      <td>1.558967</td>\n",
       "    </tr>\n",
       "    <tr>\n",
       "      <th>no_internet_service</th>\n",
       "      <td>0.077805</td>\n",
       "      <td>1221</td>\n",
       "      <td>-0.192195</td>\n",
       "      <td>0.288167</td>\n",
       "    </tr>\n",
       "    <tr>\n",
       "      <th>yes</th>\n",
       "      <td>0.153226</td>\n",
       "      <td>1612</td>\n",
       "      <td>-0.116774</td>\n",
       "      <td>0.567503</td>\n",
       "    </tr>\n",
       "  </tbody>\n",
       "</table>\n",
       "</div>"
      ],
      "text/plain": [
       "                         mean  count      diff      risk\n",
       "onlinesecurity                                          \n",
       "no                   0.420921   2801  0.150921  1.558967\n",
       "no_internet_service  0.077805   1221 -0.192195  0.288167\n",
       "yes                  0.153226   1612 -0.116774  0.567503"
      ]
     },
     "metadata": {},
     "output_type": "display_data"
    },
    {
     "data": {
      "text/html": [
       "<div>\n",
       "<style scoped>\n",
       "    .dataframe tbody tr th:only-of-type {\n",
       "        vertical-align: middle;\n",
       "    }\n",
       "\n",
       "    .dataframe tbody tr th {\n",
       "        vertical-align: top;\n",
       "    }\n",
       "\n",
       "    .dataframe thead th {\n",
       "        text-align: right;\n",
       "    }\n",
       "</style>\n",
       "<table border=\"1\" class=\"dataframe\">\n",
       "  <thead>\n",
       "    <tr style=\"text-align: right;\">\n",
       "      <th></th>\n",
       "      <th>mean</th>\n",
       "      <th>count</th>\n",
       "      <th>diff</th>\n",
       "      <th>risk</th>\n",
       "    </tr>\n",
       "    <tr>\n",
       "      <th>paymentmethod</th>\n",
       "      <th></th>\n",
       "      <th></th>\n",
       "      <th></th>\n",
       "      <th></th>\n",
       "    </tr>\n",
       "  </thead>\n",
       "  <tbody>\n",
       "    <tr>\n",
       "      <th>bank_transfer_(automatic)</th>\n",
       "      <td>0.168171</td>\n",
       "      <td>1219</td>\n",
       "      <td>-0.101829</td>\n",
       "      <td>0.622854</td>\n",
       "    </tr>\n",
       "    <tr>\n",
       "      <th>credit_card_(automatic)</th>\n",
       "      <td>0.164339</td>\n",
       "      <td>1217</td>\n",
       "      <td>-0.105661</td>\n",
       "      <td>0.608661</td>\n",
       "    </tr>\n",
       "    <tr>\n",
       "      <th>electronic_check</th>\n",
       "      <td>0.455890</td>\n",
       "      <td>1893</td>\n",
       "      <td>0.185890</td>\n",
       "      <td>1.688482</td>\n",
       "    </tr>\n",
       "    <tr>\n",
       "      <th>mailed_check</th>\n",
       "      <td>0.193870</td>\n",
       "      <td>1305</td>\n",
       "      <td>-0.076130</td>\n",
       "      <td>0.718036</td>\n",
       "    </tr>\n",
       "  </tbody>\n",
       "</table>\n",
       "</div>"
      ],
      "text/plain": [
       "                               mean  count      diff      risk\n",
       "paymentmethod                                                 \n",
       "bank_transfer_(automatic)  0.168171   1219 -0.101829  0.622854\n",
       "credit_card_(automatic)    0.164339   1217 -0.105661  0.608661\n",
       "electronic_check           0.455890   1893  0.185890  1.688482\n",
       "mailed_check               0.193870   1305 -0.076130  0.718036"
      ]
     },
     "metadata": {},
     "output_type": "display_data"
    },
    {
     "data": {
      "text/html": [
       "<div>\n",
       "<style scoped>\n",
       "    .dataframe tbody tr th:only-of-type {\n",
       "        vertical-align: middle;\n",
       "    }\n",
       "\n",
       "    .dataframe tbody tr th {\n",
       "        vertical-align: top;\n",
       "    }\n",
       "\n",
       "    .dataframe thead th {\n",
       "        text-align: right;\n",
       "    }\n",
       "</style>\n",
       "<table border=\"1\" class=\"dataframe\">\n",
       "  <thead>\n",
       "    <tr style=\"text-align: right;\">\n",
       "      <th></th>\n",
       "      <th>mean</th>\n",
       "      <th>count</th>\n",
       "      <th>diff</th>\n",
       "      <th>risk</th>\n",
       "    </tr>\n",
       "    <tr>\n",
       "      <th>gender</th>\n",
       "      <th></th>\n",
       "      <th></th>\n",
       "      <th></th>\n",
       "      <th></th>\n",
       "    </tr>\n",
       "  </thead>\n",
       "  <tbody>\n",
       "    <tr>\n",
       "      <th>female</th>\n",
       "      <td>0.276824</td>\n",
       "      <td>2796</td>\n",
       "      <td>0.006824</td>\n",
       "      <td>1.025274</td>\n",
       "    </tr>\n",
       "    <tr>\n",
       "      <th>male</th>\n",
       "      <td>0.263214</td>\n",
       "      <td>2838</td>\n",
       "      <td>-0.006786</td>\n",
       "      <td>0.974865</td>\n",
       "    </tr>\n",
       "  </tbody>\n",
       "</table>\n",
       "</div>"
      ],
      "text/plain": [
       "            mean  count      diff      risk\n",
       "gender                                     \n",
       "female  0.276824   2796  0.006824  1.025274\n",
       "male    0.263214   2838 -0.006786  0.974865"
      ]
     },
     "metadata": {},
     "output_type": "display_data"
    },
    {
     "data": {
      "text/html": [
       "<div>\n",
       "<style scoped>\n",
       "    .dataframe tbody tr th:only-of-type {\n",
       "        vertical-align: middle;\n",
       "    }\n",
       "\n",
       "    .dataframe tbody tr th {\n",
       "        vertical-align: top;\n",
       "    }\n",
       "\n",
       "    .dataframe thead th {\n",
       "        text-align: right;\n",
       "    }\n",
       "</style>\n",
       "<table border=\"1\" class=\"dataframe\">\n",
       "  <thead>\n",
       "    <tr style=\"text-align: right;\">\n",
       "      <th></th>\n",
       "      <th>mean</th>\n",
       "      <th>count</th>\n",
       "      <th>diff</th>\n",
       "      <th>risk</th>\n",
       "    </tr>\n",
       "    <tr>\n",
       "      <th>streamingmovies</th>\n",
       "      <th></th>\n",
       "      <th></th>\n",
       "      <th></th>\n",
       "      <th></th>\n",
       "    </tr>\n",
       "  </thead>\n",
       "  <tbody>\n",
       "    <tr>\n",
       "      <th>no</th>\n",
       "      <td>0.338906</td>\n",
       "      <td>2213</td>\n",
       "      <td>0.068906</td>\n",
       "      <td>1.255209</td>\n",
       "    </tr>\n",
       "    <tr>\n",
       "      <th>no_internet_service</th>\n",
       "      <td>0.077805</td>\n",
       "      <td>1221</td>\n",
       "      <td>-0.192195</td>\n",
       "      <td>0.288167</td>\n",
       "    </tr>\n",
       "    <tr>\n",
       "      <th>yes</th>\n",
       "      <td>0.307273</td>\n",
       "      <td>2200</td>\n",
       "      <td>0.037273</td>\n",
       "      <td>1.138047</td>\n",
       "    </tr>\n",
       "  </tbody>\n",
       "</table>\n",
       "</div>"
      ],
      "text/plain": [
       "                         mean  count      diff      risk\n",
       "streamingmovies                                         \n",
       "no                   0.338906   2213  0.068906  1.255209\n",
       "no_internet_service  0.077805   1221 -0.192195  0.288167\n",
       "yes                  0.307273   2200  0.037273  1.138047"
      ]
     },
     "metadata": {},
     "output_type": "display_data"
    },
    {
     "data": {
      "text/html": [
       "<div>\n",
       "<style scoped>\n",
       "    .dataframe tbody tr th:only-of-type {\n",
       "        vertical-align: middle;\n",
       "    }\n",
       "\n",
       "    .dataframe tbody tr th {\n",
       "        vertical-align: top;\n",
       "    }\n",
       "\n",
       "    .dataframe thead th {\n",
       "        text-align: right;\n",
       "    }\n",
       "</style>\n",
       "<table border=\"1\" class=\"dataframe\">\n",
       "  <thead>\n",
       "    <tr style=\"text-align: right;\">\n",
       "      <th></th>\n",
       "      <th>mean</th>\n",
       "      <th>count</th>\n",
       "      <th>diff</th>\n",
       "      <th>risk</th>\n",
       "    </tr>\n",
       "    <tr>\n",
       "      <th>contract</th>\n",
       "      <th></th>\n",
       "      <th></th>\n",
       "      <th></th>\n",
       "      <th></th>\n",
       "    </tr>\n",
       "  </thead>\n",
       "  <tbody>\n",
       "    <tr>\n",
       "      <th>month-to-month</th>\n",
       "      <td>0.431701</td>\n",
       "      <td>3104</td>\n",
       "      <td>0.161701</td>\n",
       "      <td>1.598893</td>\n",
       "    </tr>\n",
       "    <tr>\n",
       "      <th>one_year</th>\n",
       "      <td>0.120573</td>\n",
       "      <td>1186</td>\n",
       "      <td>-0.149427</td>\n",
       "      <td>0.446568</td>\n",
       "    </tr>\n",
       "    <tr>\n",
       "      <th>two_year</th>\n",
       "      <td>0.028274</td>\n",
       "      <td>1344</td>\n",
       "      <td>-0.241726</td>\n",
       "      <td>0.104718</td>\n",
       "    </tr>\n",
       "  </tbody>\n",
       "</table>\n",
       "</div>"
      ],
      "text/plain": [
       "                    mean  count      diff      risk\n",
       "contract                                           \n",
       "month-to-month  0.431701   3104  0.161701  1.598893\n",
       "one_year        0.120573   1186 -0.149427  0.446568\n",
       "two_year        0.028274   1344 -0.241726  0.104718"
      ]
     },
     "metadata": {},
     "output_type": "display_data"
    },
    {
     "data": {
      "text/html": [
       "<div>\n",
       "<style scoped>\n",
       "    .dataframe tbody tr th:only-of-type {\n",
       "        vertical-align: middle;\n",
       "    }\n",
       "\n",
       "    .dataframe tbody tr th {\n",
       "        vertical-align: top;\n",
       "    }\n",
       "\n",
       "    .dataframe thead th {\n",
       "        text-align: right;\n",
       "    }\n",
       "</style>\n",
       "<table border=\"1\" class=\"dataframe\">\n",
       "  <thead>\n",
       "    <tr style=\"text-align: right;\">\n",
       "      <th></th>\n",
       "      <th>mean</th>\n",
       "      <th>count</th>\n",
       "      <th>diff</th>\n",
       "      <th>risk</th>\n",
       "    </tr>\n",
       "    <tr>\n",
       "      <th>paperlessbilling</th>\n",
       "      <th></th>\n",
       "      <th></th>\n",
       "      <th></th>\n",
       "      <th></th>\n",
       "    </tr>\n",
       "  </thead>\n",
       "  <tbody>\n",
       "    <tr>\n",
       "      <th>no</th>\n",
       "      <td>0.172071</td>\n",
       "      <td>2313</td>\n",
       "      <td>-0.097929</td>\n",
       "      <td>0.637300</td>\n",
       "    </tr>\n",
       "    <tr>\n",
       "      <th>yes</th>\n",
       "      <td>0.338151</td>\n",
       "      <td>3321</td>\n",
       "      <td>0.068151</td>\n",
       "      <td>1.252412</td>\n",
       "    </tr>\n",
       "  </tbody>\n",
       "</table>\n",
       "</div>"
      ],
      "text/plain": [
       "                      mean  count      diff      risk\n",
       "paperlessbilling                                     \n",
       "no                0.172071   2313 -0.097929  0.637300\n",
       "yes               0.338151   3321  0.068151  1.252412"
      ]
     },
     "metadata": {},
     "output_type": "display_data"
    },
    {
     "data": {
      "text/html": [
       "<div>\n",
       "<style scoped>\n",
       "    .dataframe tbody tr th:only-of-type {\n",
       "        vertical-align: middle;\n",
       "    }\n",
       "\n",
       "    .dataframe tbody tr th {\n",
       "        vertical-align: top;\n",
       "    }\n",
       "\n",
       "    .dataframe thead th {\n",
       "        text-align: right;\n",
       "    }\n",
       "</style>\n",
       "<table border=\"1\" class=\"dataframe\">\n",
       "  <thead>\n",
       "    <tr style=\"text-align: right;\">\n",
       "      <th></th>\n",
       "      <th>mean</th>\n",
       "      <th>count</th>\n",
       "      <th>diff</th>\n",
       "      <th>risk</th>\n",
       "    </tr>\n",
       "    <tr>\n",
       "      <th>phoneservice</th>\n",
       "      <th></th>\n",
       "      <th></th>\n",
       "      <th></th>\n",
       "      <th></th>\n",
       "    </tr>\n",
       "  </thead>\n",
       "  <tbody>\n",
       "    <tr>\n",
       "      <th>no</th>\n",
       "      <td>0.241316</td>\n",
       "      <td>547</td>\n",
       "      <td>-0.028684</td>\n",
       "      <td>0.893764</td>\n",
       "    </tr>\n",
       "    <tr>\n",
       "      <th>yes</th>\n",
       "      <td>0.273049</td>\n",
       "      <td>5087</td>\n",
       "      <td>0.003049</td>\n",
       "      <td>1.011292</td>\n",
       "    </tr>\n",
       "  </tbody>\n",
       "</table>\n",
       "</div>"
      ],
      "text/plain": [
       "                  mean  count      diff      risk\n",
       "phoneservice                                     \n",
       "no            0.241316    547 -0.028684  0.893764\n",
       "yes           0.273049   5087  0.003049  1.011292"
      ]
     },
     "metadata": {},
     "output_type": "display_data"
    },
    {
     "data": {
      "text/html": [
       "<div>\n",
       "<style scoped>\n",
       "    .dataframe tbody tr th:only-of-type {\n",
       "        vertical-align: middle;\n",
       "    }\n",
       "\n",
       "    .dataframe tbody tr th {\n",
       "        vertical-align: top;\n",
       "    }\n",
       "\n",
       "    .dataframe thead th {\n",
       "        text-align: right;\n",
       "    }\n",
       "</style>\n",
       "<table border=\"1\" class=\"dataframe\">\n",
       "  <thead>\n",
       "    <tr style=\"text-align: right;\">\n",
       "      <th></th>\n",
       "      <th>mean</th>\n",
       "      <th>count</th>\n",
       "      <th>diff</th>\n",
       "      <th>risk</th>\n",
       "    </tr>\n",
       "    <tr>\n",
       "      <th>streamingtv</th>\n",
       "      <th></th>\n",
       "      <th></th>\n",
       "      <th></th>\n",
       "      <th></th>\n",
       "    </tr>\n",
       "  </thead>\n",
       "  <tbody>\n",
       "    <tr>\n",
       "      <th>no</th>\n",
       "      <td>0.342832</td>\n",
       "      <td>2246</td>\n",
       "      <td>0.072832</td>\n",
       "      <td>1.269747</td>\n",
       "    </tr>\n",
       "    <tr>\n",
       "      <th>no_internet_service</th>\n",
       "      <td>0.077805</td>\n",
       "      <td>1221</td>\n",
       "      <td>-0.192195</td>\n",
       "      <td>0.288167</td>\n",
       "    </tr>\n",
       "    <tr>\n",
       "      <th>yes</th>\n",
       "      <td>0.302723</td>\n",
       "      <td>2167</td>\n",
       "      <td>0.032723</td>\n",
       "      <td>1.121195</td>\n",
       "    </tr>\n",
       "  </tbody>\n",
       "</table>\n",
       "</div>"
      ],
      "text/plain": [
       "                         mean  count      diff      risk\n",
       "streamingtv                                             \n",
       "no                   0.342832   2246  0.072832  1.269747\n",
       "no_internet_service  0.077805   1221 -0.192195  0.288167\n",
       "yes                  0.302723   2167  0.032723  1.121195"
      ]
     },
     "metadata": {},
     "output_type": "display_data"
    },
    {
     "data": {
      "text/html": [
       "<div>\n",
       "<style scoped>\n",
       "    .dataframe tbody tr th:only-of-type {\n",
       "        vertical-align: middle;\n",
       "    }\n",
       "\n",
       "    .dataframe tbody tr th {\n",
       "        vertical-align: top;\n",
       "    }\n",
       "\n",
       "    .dataframe thead th {\n",
       "        text-align: right;\n",
       "    }\n",
       "</style>\n",
       "<table border=\"1\" class=\"dataframe\">\n",
       "  <thead>\n",
       "    <tr style=\"text-align: right;\">\n",
       "      <th></th>\n",
       "      <th>mean</th>\n",
       "      <th>count</th>\n",
       "      <th>diff</th>\n",
       "      <th>risk</th>\n",
       "    </tr>\n",
       "    <tr>\n",
       "      <th>deviceprotection</th>\n",
       "      <th></th>\n",
       "      <th></th>\n",
       "      <th></th>\n",
       "      <th></th>\n",
       "    </tr>\n",
       "  </thead>\n",
       "  <tbody>\n",
       "    <tr>\n",
       "      <th>no</th>\n",
       "      <td>0.395875</td>\n",
       "      <td>2473</td>\n",
       "      <td>0.125875</td>\n",
       "      <td>1.466205</td>\n",
       "    </tr>\n",
       "    <tr>\n",
       "      <th>no_internet_service</th>\n",
       "      <td>0.077805</td>\n",
       "      <td>1221</td>\n",
       "      <td>-0.192195</td>\n",
       "      <td>0.288167</td>\n",
       "    </tr>\n",
       "    <tr>\n",
       "      <th>yes</th>\n",
       "      <td>0.230412</td>\n",
       "      <td>1940</td>\n",
       "      <td>-0.039588</td>\n",
       "      <td>0.853379</td>\n",
       "    </tr>\n",
       "  </tbody>\n",
       "</table>\n",
       "</div>"
      ],
      "text/plain": [
       "                         mean  count      diff      risk\n",
       "deviceprotection                                        \n",
       "no                   0.395875   2473  0.125875  1.466205\n",
       "no_internet_service  0.077805   1221 -0.192195  0.288167\n",
       "yes                  0.230412   1940 -0.039588  0.853379"
      ]
     },
     "metadata": {},
     "output_type": "display_data"
    },
    {
     "data": {
      "text/html": [
       "<div>\n",
       "<style scoped>\n",
       "    .dataframe tbody tr th:only-of-type {\n",
       "        vertical-align: middle;\n",
       "    }\n",
       "\n",
       "    .dataframe tbody tr th {\n",
       "        vertical-align: top;\n",
       "    }\n",
       "\n",
       "    .dataframe thead th {\n",
       "        text-align: right;\n",
       "    }\n",
       "</style>\n",
       "<table border=\"1\" class=\"dataframe\">\n",
       "  <thead>\n",
       "    <tr style=\"text-align: right;\">\n",
       "      <th></th>\n",
       "      <th>mean</th>\n",
       "      <th>count</th>\n",
       "      <th>diff</th>\n",
       "      <th>risk</th>\n",
       "    </tr>\n",
       "    <tr>\n",
       "      <th>techsupport</th>\n",
       "      <th></th>\n",
       "      <th></th>\n",
       "      <th></th>\n",
       "      <th></th>\n",
       "    </tr>\n",
       "  </thead>\n",
       "  <tbody>\n",
       "    <tr>\n",
       "      <th>no</th>\n",
       "      <td>0.418914</td>\n",
       "      <td>2781</td>\n",
       "      <td>0.148914</td>\n",
       "      <td>1.551534</td>\n",
       "    </tr>\n",
       "    <tr>\n",
       "      <th>no_internet_service</th>\n",
       "      <td>0.077805</td>\n",
       "      <td>1221</td>\n",
       "      <td>-0.192195</td>\n",
       "      <td>0.288167</td>\n",
       "    </tr>\n",
       "    <tr>\n",
       "      <th>yes</th>\n",
       "      <td>0.159926</td>\n",
       "      <td>1632</td>\n",
       "      <td>-0.110074</td>\n",
       "      <td>0.592320</td>\n",
       "    </tr>\n",
       "  </tbody>\n",
       "</table>\n",
       "</div>"
      ],
      "text/plain": [
       "                         mean  count      diff      risk\n",
       "techsupport                                             \n",
       "no                   0.418914   2781  0.148914  1.551534\n",
       "no_internet_service  0.077805   1221 -0.192195  0.288167\n",
       "yes                  0.159926   1632 -0.110074  0.592320"
      ]
     },
     "metadata": {},
     "output_type": "display_data"
    },
    {
     "data": {
      "text/html": [
       "<div>\n",
       "<style scoped>\n",
       "    .dataframe tbody tr th:only-of-type {\n",
       "        vertical-align: middle;\n",
       "    }\n",
       "\n",
       "    .dataframe tbody tr th {\n",
       "        vertical-align: top;\n",
       "    }\n",
       "\n",
       "    .dataframe thead th {\n",
       "        text-align: right;\n",
       "    }\n",
       "</style>\n",
       "<table border=\"1\" class=\"dataframe\">\n",
       "  <thead>\n",
       "    <tr style=\"text-align: right;\">\n",
       "      <th></th>\n",
       "      <th>mean</th>\n",
       "      <th>count</th>\n",
       "      <th>diff</th>\n",
       "      <th>risk</th>\n",
       "    </tr>\n",
       "    <tr>\n",
       "      <th>internetservice</th>\n",
       "      <th></th>\n",
       "      <th></th>\n",
       "      <th></th>\n",
       "      <th></th>\n",
       "    </tr>\n",
       "  </thead>\n",
       "  <tbody>\n",
       "    <tr>\n",
       "      <th>dsl</th>\n",
       "      <td>0.192347</td>\n",
       "      <td>1934</td>\n",
       "      <td>-0.077653</td>\n",
       "      <td>0.712398</td>\n",
       "    </tr>\n",
       "    <tr>\n",
       "      <th>fiber_optic</th>\n",
       "      <td>0.425171</td>\n",
       "      <td>2479</td>\n",
       "      <td>0.155171</td>\n",
       "      <td>1.574709</td>\n",
       "    </tr>\n",
       "    <tr>\n",
       "      <th>no</th>\n",
       "      <td>0.077805</td>\n",
       "      <td>1221</td>\n",
       "      <td>-0.192195</td>\n",
       "      <td>0.288167</td>\n",
       "    </tr>\n",
       "  </tbody>\n",
       "</table>\n",
       "</div>"
      ],
      "text/plain": [
       "                     mean  count      diff      risk\n",
       "internetservice                                     \n",
       "dsl              0.192347   1934 -0.077653  0.712398\n",
       "fiber_optic      0.425171   2479  0.155171  1.574709\n",
       "no               0.077805   1221 -0.192195  0.288167"
      ]
     },
     "metadata": {},
     "output_type": "display_data"
    }
   ],
   "source": [
    "for category in categorical_variables:\n",
    "    df_group = df_full_train.groupby(category).churn.agg(['mean', 'count'])\n",
    "    df_group['diff'] = df_group['mean'] - global_churn_rate\n",
    "    df_group['risk'] = df_group['mean'] / global_churn_rate\n",
    "    display(df_group)"
   ]
  },
  {
   "cell_type": "markdown",
   "id": "30297b90-9ef0-413e-b0b7-dab0f5a46c1f",
   "metadata": {},
   "source": [
    "### Mutual Information"
   ]
  },
  {
   "cell_type": "markdown",
   "id": "cb0eb3cc-055e-4fb0-a24f-43991d137791",
   "metadata": {},
   "source": [
    "- It is a measure of mutual dependence between two random variables\n",
    "- It quantifies the amount of information obtained about one random variable through the other random variable\n",
    "- It tells us how much knowing one of these variables reduces uncertainty about the other\n",
    "- Given entropy $$H(X) = \\sum_{x \\epsilon X}{p(x)\\log{p(x)}}$$\n",
    "- Mutual Information can be given as $$ I(X;Y) = H(X) + H(Y) - H(X|Y)$$"
   ]
  },
  {
   "cell_type": "code",
   "execution_count": 38,
   "id": "63bb18ee-ffe4-4510-ae54-3f72487f6069",
   "metadata": {},
   "outputs": [],
   "source": [
    "from sklearn.metrics import mutual_info_score"
   ]
  },
  {
   "cell_type": "code",
   "execution_count": 39,
   "id": "f73814d6-6668-4b26-9fe6-6fb90d9026b3",
   "metadata": {},
   "outputs": [
    {
     "data": {
      "text/plain": [
       "contract            0.098\n",
       "onlinesecurity      0.063\n",
       "techsupport         0.061\n",
       "internetservice     0.056\n",
       "onlinebackup        0.047\n",
       "paymentmethod       0.043\n",
       "deviceprotection    0.043\n",
       "streamingmovies     0.032\n",
       "streamingtv         0.032\n",
       "paperlessbilling    0.018\n",
       "dependents          0.012\n",
       "partner             0.010\n",
       "seniorcitizen       0.009\n",
       "multiplelines       0.001\n",
       "gender              0.000\n",
       "phoneservice        0.000\n",
       "dtype: float64"
      ]
     },
     "execution_count": 39,
     "metadata": {},
     "output_type": "execute_result"
    }
   ],
   "source": [
    "mi = df_full_train[categorical_variables].apply(lambda x: round(mutual_info_score(x, df_full_train.churn), 3))\n",
    "mi.sort_values(ascending=False)"
   ]
  },
  {
   "cell_type": "markdown",
   "id": "1f7115fa-3e32-419b-9256-c024f60400f9",
   "metadata": {},
   "source": [
    "Interpretation\n",
    "- High = above 0.5 nearing 1. This means that the variables are highly related\n",
    "- Moderate = between 0.1 and 0.5.\n",
    "- Low = Near 0. This means that the variables are independent "
   ]
  },
  {
   "cell_type": "markdown",
   "id": "eb56a115-f64a-4032-ad7f-f98b937d4a8f",
   "metadata": {},
   "source": [
    "## Feature Importance: Numerical Variables"
   ]
  },
  {
   "cell_type": "markdown",
   "id": "88a5633c-4867-4569-a941-56f79e7c6ff4",
   "metadata": {},
   "source": [
    "### Pearson Coorelation Coefficient"
   ]
  },
  {
   "cell_type": "markdown",
   "id": "7503186c-a48d-4d56-a7dc-3061207f6b2e",
   "metadata": {},
   "source": [
    "- Indicates the linear relationship between two variables\n",
    "- Varies from -1 to 1\n",
    "- Negative values implies that as one variable increases other decreases\n",
    "- $ 0.0 < |r| < 0.1 $ : Very weak or no linear relationship.\n",
    "- $ 0.1 ≤ |r| < 0.3 $ : Weak linear relationship.\n",
    "- $ 0.3 ≤ |r| < 0.5 $ : Moderate linear relationship.\n",
    "- $ 0.5 ≤ |r| < 0.7 $ : Strong linear relationship.\n",
    "- $ 0.7 ≤ |r| < 1.0 $ : Very strong linear relationship"
   ]
  },
  {
   "cell_type": "code",
   "execution_count": 40,
   "id": "d45c6de1-9252-4fab-afa2-74e9732ac4e8",
   "metadata": {},
   "outputs": [
    {
     "data": {
      "text/plain": [
       "tenure           -0.351885\n",
       "monthlycharges    0.196805\n",
       "totalcharges     -0.196353\n",
       "dtype: float64"
      ]
     },
     "execution_count": 40,
     "metadata": {},
     "output_type": "execute_result"
    }
   ],
   "source": [
    "df_full_train[numeric_variables].corrwith(df_full_train['churn'])"
   ]
  },
  {
   "cell_type": "markdown",
   "id": "2d2537c2-bbf4-4b76-9ea5-9dc275146a1a",
   "metadata": {},
   "source": [
    "## One Hot Encoding"
   ]
  },
  {
   "cell_type": "markdown",
   "id": "7c31c58c-b80e-47f5-a404-ef36f87ef568",
   "metadata": {},
   "source": [
    "Converts Categorical Variables into a binary vector format"
   ]
  },
  {
   "cell_type": "markdown",
   "id": "08ce8661-1e61-442c-b9eb-89bc8155375c",
   "metadata": {},
   "source": [
    "#### Sample"
   ]
  },
  {
   "cell_type": "code",
   "execution_count": 41,
   "id": "ada4d207-5cca-4698-b124-563e4d006a8a",
   "metadata": {},
   "outputs": [],
   "source": [
    "from sklearn.feature_extraction import DictVectorizer"
   ]
  },
  {
   "cell_type": "code",
   "execution_count": 42,
   "id": "d145ff10-0ca9-4d99-87d7-e367c73b41df",
   "metadata": {},
   "outputs": [],
   "source": [
    "dicts = df_train[['gender', 'contract']].iloc[:100].to_dict(orient='records')"
   ]
  },
  {
   "cell_type": "code",
   "execution_count": 43,
   "id": "b63dffc3-bec2-4456-b3c7-d87f5fd21379",
   "metadata": {},
   "outputs": [
    {
     "data": {
      "text/plain": [
       "array([[0., 0., 1., 1., 0.],\n",
       "       [1., 0., 0., 0., 1.],\n",
       "       [1., 0., 0., 1., 0.],\n",
       "       [1., 0., 0., 1., 0.],\n",
       "       [0., 0., 1., 1., 0.],\n",
       "       [1., 0., 0., 0., 1.],\n",
       "       [1., 0., 0., 0., 1.],\n",
       "       [1., 0., 0., 1., 0.],\n",
       "       [0., 0., 1., 1., 0.],\n",
       "       [1., 0., 0., 1., 0.]])"
      ]
     },
     "execution_count": 43,
     "metadata": {},
     "output_type": "execute_result"
    }
   ],
   "source": [
    "dv = DictVectorizer(sparse=False)\n",
    "dv.fit(dicts)\n",
    "dv.transform(dicts)[:10]"
   ]
  },
  {
   "cell_type": "code",
   "execution_count": 44,
   "id": "2f142b4c-8512-4326-9c60-4e0219202d96",
   "metadata": {},
   "outputs": [
    {
     "data": {
      "text/plain": [
       "['contract=month-to-month',\n",
       " 'contract=one_year',\n",
       " 'contract=two_year',\n",
       " 'gender=female',\n",
       " 'gender=male']"
      ]
     },
     "execution_count": 44,
     "metadata": {},
     "output_type": "execute_result"
    }
   ],
   "source": [
    "dv.get_feature_names()"
   ]
  },
  {
   "cell_type": "markdown",
   "id": "1193c8cb-80e9-45d8-9ee5-b9f82862415b",
   "metadata": {},
   "source": [
    "#### Implementation"
   ]
  },
  {
   "cell_type": "code",
   "execution_count": 45,
   "id": "b3743658-9d41-4af0-9d1c-adcd9711a213",
   "metadata": {},
   "outputs": [],
   "source": [
    "df_train_dict = df_train[categorical_variables + numeric_variables].to_dict(orient='records')"
   ]
  },
  {
   "cell_type": "code",
   "execution_count": 46,
   "id": "b49c0a80-8078-4b27-8f79-0986bfbe1f89",
   "metadata": {},
   "outputs": [
    {
     "data": {
      "text/plain": [
       "(3, 16)"
      ]
     },
     "execution_count": 46,
     "metadata": {},
     "output_type": "execute_result"
    }
   ],
   "source": [
    "len(numeric_variables) , len(categorical_variables)"
   ]
  },
  {
   "cell_type": "code",
   "execution_count": 47,
   "id": "7597a55b-e04b-4409-b128-9df5d1846b53",
   "metadata": {},
   "outputs": [],
   "source": [
    "dv = DictVectorizer(sparse=False)\n",
    "X_train = dv.fit_transform(df_train_dict)"
   ]
  },
  {
   "cell_type": "code",
   "execution_count": 48,
   "id": "a5cd10e1-d9bb-47c6-9d07-a79b516ef625",
   "metadata": {},
   "outputs": [
    {
     "data": {
      "text/plain": [
       "(4225, 45)"
      ]
     },
     "execution_count": 48,
     "metadata": {},
     "output_type": "execute_result"
    }
   ],
   "source": [
    "X_train.shape"
   ]
  },
  {
   "cell_type": "markdown",
   "id": "acb17aa8-8480-4d53-a465-35760ff6e915",
   "metadata": {},
   "source": [
    "Use the same vectoriser but just transform the validation data set"
   ]
  },
  {
   "cell_type": "code",
   "execution_count": 49,
   "id": "7fb05dcb-0535-47b6-9b20-c24ae1393617",
   "metadata": {},
   "outputs": [],
   "source": [
    "df_val_dict = df_val[categorical_variables + numeric_variables].to_dict(orient='records')\n",
    "X_val = dv.transform(df_val_dict) "
   ]
  },
  {
   "cell_type": "code",
   "execution_count": 50,
   "id": "9ef1edac-82d2-4d34-98ee-5c476928a54d",
   "metadata": {},
   "outputs": [
    {
     "data": {
      "text/plain": [
       "(1409, 45)"
      ]
     },
     "execution_count": 50,
     "metadata": {},
     "output_type": "execute_result"
    }
   ],
   "source": [
    "X_val.shape"
   ]
  },
  {
   "cell_type": "markdown",
   "id": "bba0daf9-4b6e-4636-adc4-f9998924584b",
   "metadata": {},
   "source": [
    "## Binary Classification"
   ]
  },
  {
   "cell_type": "markdown",
   "id": "21f21009-b615-4a73-b6a7-69427f93b8fe",
   "metadata": {},
   "source": [
    "$g(x_i) = y_i$\n",
    "\n",
    "In Binary classification\n",
    "\n",
    "$y_i   \\epsilon   \\{0,1\\}$"
   ]
  },
  {
   "cell_type": "markdown",
   "id": "3ea7aed7-d76b-485e-a291-da04289c743b",
   "metadata": {},
   "source": [
    "1 = Positive (Churn, default)"
   ]
  },
  {
   "cell_type": "markdown",
   "id": "94fc1251-75d3-4aff-9ae6-0bf866d8b87a",
   "metadata": {},
   "source": [
    "$g(x_i)$ is the probability of positive class"
   ]
  },
  {
   "cell_type": "markdown",
   "id": "0a559ec2-5baa-4413-8238-70fe990ab762",
   "metadata": {},
   "source": [
    "### Logistic Regression"
   ]
  },
  {
   "cell_type": "markdown",
   "id": "9bc8f5d9-ab25-4dce-9baf-aa710b0ecfff",
   "metadata": {},
   "source": [
    "$$ g(x_i) = \\frac{1}{1 + e^{- W_i \\dot X_I}}$$"
   ]
  },
  {
   "cell_type": "markdown",
   "id": "11a853ba-c253-47d1-bc5c-87464f93a007",
   "metadata": {},
   "source": [
    "- Sigmoid function always between 0 and 1.\n",
    "- As the exponent increases the function reaches 1\n",
    "- As the exponent decreases the function reaches 0"
   ]
  },
  {
   "cell_type": "code",
   "execution_count": 51,
   "id": "a4401bfa-859c-4bce-bf21-e20e519cda3b",
   "metadata": {},
   "outputs": [],
   "source": [
    "def sigmoid(x):\n",
    "    return 1/(1 + np.exp(-x))"
   ]
  },
  {
   "cell_type": "code",
   "execution_count": 52,
   "id": "d715905e-fae2-417a-9953-c68cb5e6addc",
   "metadata": {},
   "outputs": [
    {
     "data": {
      "text/plain": [
       "[<matplotlib.lines.Line2D at 0x7a6c3d8366d0>]"
      ]
     },
     "execution_count": 52,
     "metadata": {},
     "output_type": "execute_result"
    },
    {
     "data": {
      "image/png": "[encoded data removed]",
      "text/plain": [
       "<Figure size 432x288 with 1 Axes>"
      ]
     },
     "metadata": {
      "needs_background": "light"
     },
     "output_type": "display_data"
    }
   ],
   "source": [
    "z = np.linspace(-7, 7, 100)\n",
    "sig = sigmoid(z)\n",
    "plt.plot(z, sig)"
   ]
  },
  {
   "cell_type": "code",
   "execution_count": 53,
   "id": "c7714c2f-333e-4acc-9b3c-ffcf1a3b9bc9",
   "metadata": {},
   "outputs": [],
   "source": [
    "def logistic_regresson(x, w):\n",
    "    score = np.dot(x, w)\n",
    "    return sigmoid(score)"
   ]
  },
  {
   "cell_type": "markdown",
   "id": "19493c49-a3f2-4d7d-baa6-3409949ee77e",
   "metadata": {},
   "source": [
    "## Training Logistic Regression with sklearn"
   ]
  },
  {
   "cell_type": "code",
   "execution_count": 54,
   "id": "2a39c26d-13a9-48af-8fd0-721a092ce360",
   "metadata": {},
   "outputs": [],
   "source": [
    "from sklearn.linear_model import LogisticRegression"
   ]
  },
  {
   "cell_type": "code",
   "execution_count": 55,
   "id": "bb5f8731-fa8a-4bf9-9b37-ca8810250e20",
   "metadata": {},
   "outputs": [
    {
     "data": {
      "text/plain": [
       "LogisticRegression()"
      ]
     },
     "execution_count": 55,
     "metadata": {},
     "output_type": "execute_result"
    }
   ],
   "source": [
    "model = LogisticRegression()\n",
    "model.fit(X_train, y_train)"
   ]
  },
  {
   "cell_type": "code",
   "execution_count": 56,
   "id": "54f4d45d-e9eb-47ba-acfd-de7bbeb19e14",
   "metadata": {},
   "outputs": [
    {
     "data": {
      "text/plain": [
       "array([ 0.475, -0.175, -0.408, -0.03 , -0.078,  0.063, -0.089, -0.081,\n",
       "       -0.034, -0.073, -0.335,  0.316, -0.089,  0.004, -0.258,  0.141,\n",
       "        0.009,  0.063, -0.089, -0.081,  0.266, -0.089, -0.284, -0.231,\n",
       "        0.124, -0.166,  0.058, -0.087, -0.032,  0.07 , -0.059,  0.141,\n",
       "       -0.249,  0.215, -0.12 , -0.089,  0.102, -0.071, -0.089,  0.052,\n",
       "        0.213, -0.089, -0.232, -0.07 ,  0.   ])"
      ]
     },
     "execution_count": 56,
     "metadata": {},
     "output_type": "execute_result"
    }
   ],
   "source": [
    "model.coef_[0].round(3)"
   ]
  },
  {
   "cell_type": "code",
   "execution_count": 57,
   "id": "96dc39f2-316d-4edf-88ae-f8c8d0faa6f0",
   "metadata": {},
   "outputs": [
    {
     "data": {
      "text/plain": [
       "array([[0.90451419, 0.09548581],\n",
       "       [0.32066662, 0.67933338],\n",
       "       [0.36631791, 0.63368209],\n",
       "       ...,\n",
       "       [0.46836442, 0.53163558],\n",
       "       [0.95745706, 0.04254294],\n",
       "       [0.30126876, 0.69873124]])"
      ]
     },
     "execution_count": 57,
     "metadata": {},
     "output_type": "execute_result"
    }
   ],
   "source": [
    "model.predict_proba(X_train)\n",
    "# First element is probability of not churning\n",
    "# Second probability of churning"
   ]
  },
  {
   "cell_type": "markdown",
   "id": "ccf70769-736f-4214-964d-6affc81cd6d5",
   "metadata": {},
   "source": [
    "### Making and Using Predictions"
   ]
  },
  {
   "cell_type": "code",
   "execution_count": 58,
   "id": "d2506b66-cd9e-4a5c-9e5b-051da2601d28",
   "metadata": {},
   "outputs": [
    {
     "data": {
      "text/plain": [
       "array([0.00899715, 0.20452667, 0.21222504, ..., 0.13639377, 0.79977245,\n",
       "       0.83740873])"
      ]
     },
     "execution_count": 58,
     "metadata": {},
     "output_type": "execute_result"
    }
   ],
   "source": [
    "y_pred = model.predict_proba(X_val)[:, 1]\n",
    "y_pred"
   ]
  },
  {
   "cell_type": "code",
   "execution_count": 59,
   "id": "026af084-a8f4-4346-8675-e152d44d38f0",
   "metadata": {},
   "outputs": [],
   "source": [
    "churn_decision = (y_pred >= 0.5)"
   ]
  },
  {
   "cell_type": "code",
   "execution_count": 60,
   "id": "a67c8825-8f16-4471-a676-8596921d7320",
   "metadata": {},
   "outputs": [
    {
     "data": {
      "text/plain": [
       "3       8433-wxgna\n",
       "8       3440-jpscl\n",
       "11      2637-fkfsy\n",
       "12      7228-omtpn\n",
       "19      6711-fldfb\n",
       "           ...    \n",
       "1397    5976-jcjrh\n",
       "1398    2034-cgrhz\n",
       "1399    5276-kqwhg\n",
       "1407    6521-yytyi\n",
       "1408    3049-solay\n",
       "Name: customerid, Length: 311, dtype: object"
      ]
     },
     "execution_count": 60,
     "metadata": {},
     "output_type": "execute_result"
    }
   ],
   "source": [
    "df_val[churn_decision]['customerid'] # Send promotional offers to these customers"
   ]
  },
  {
   "cell_type": "markdown",
   "id": "05a140f4-3a68-47a1-9930-00f8e369add3",
   "metadata": {},
   "source": [
    "### Model Accuracy"
   ]
  },
  {
   "cell_type": "code",
   "execution_count": 61,
   "id": "bbb6ad46-5dff-4409-9a92-f52e6c8c5fd5",
   "metadata": {},
   "outputs": [
    {
     "data": {
      "text/plain": [
       "0.8034066713981547"
      ]
     },
     "execution_count": 61,
     "metadata": {},
     "output_type": "execute_result"
    }
   ],
   "source": [
    "(y_val == churn_decision).mean()"
   ]
  },
  {
   "cell_type": "code",
   "execution_count": 62,
   "id": "364e7083-9c9e-445a-b6e2-31da6723176f",
   "metadata": {},
   "outputs": [],
   "source": [
    "df_pred = pd.DataFrame()\n",
    "df_pred['probability'] = y_pred\n",
    "df_pred['prediction'] = churn_decision.astype('int')\n",
    "df_pred['actual'] = y_val"
   ]
  },
  {
   "cell_type": "code",
   "execution_count": 63,
   "id": "f6aa6692-27d9-449f-a775-a1255599677e",
   "metadata": {},
   "outputs": [
    {
     "data": {
      "text/html": [
       "<div>\n",
       "<style scoped>\n",
       "    .dataframe tbody tr th:only-of-type {\n",
       "        vertical-align: middle;\n",
       "    }\n",
       "\n",
       "    .dataframe tbody tr th {\n",
       "        vertical-align: top;\n",
       "    }\n",
       "\n",
       "    .dataframe thead th {\n",
       "        text-align: right;\n",
       "    }\n",
       "</style>\n",
       "<table border=\"1\" class=\"dataframe\">\n",
       "  <thead>\n",
       "    <tr style=\"text-align: right;\">\n",
       "      <th></th>\n",
       "      <th>probability</th>\n",
       "      <th>prediction</th>\n",
       "      <th>actual</th>\n",
       "    </tr>\n",
       "  </thead>\n",
       "  <tbody>\n",
       "    <tr>\n",
       "      <th>0</th>\n",
       "      <td>0.008997</td>\n",
       "      <td>0</td>\n",
       "      <td>0</td>\n",
       "    </tr>\n",
       "    <tr>\n",
       "      <th>1</th>\n",
       "      <td>0.204527</td>\n",
       "      <td>0</td>\n",
       "      <td>0</td>\n",
       "    </tr>\n",
       "    <tr>\n",
       "      <th>2</th>\n",
       "      <td>0.212225</td>\n",
       "      <td>0</td>\n",
       "      <td>0</td>\n",
       "    </tr>\n",
       "    <tr>\n",
       "      <th>3</th>\n",
       "      <td>0.543053</td>\n",
       "      <td>1</td>\n",
       "      <td>1</td>\n",
       "    </tr>\n",
       "    <tr>\n",
       "      <th>4</th>\n",
       "      <td>0.213787</td>\n",
       "      <td>0</td>\n",
       "      <td>0</td>\n",
       "    </tr>\n",
       "    <tr>\n",
       "      <th>...</th>\n",
       "      <td>...</td>\n",
       "      <td>...</td>\n",
       "      <td>...</td>\n",
       "    </tr>\n",
       "    <tr>\n",
       "      <th>1404</th>\n",
       "      <td>0.313674</td>\n",
       "      <td>0</td>\n",
       "      <td>0</td>\n",
       "    </tr>\n",
       "    <tr>\n",
       "      <th>1405</th>\n",
       "      <td>0.039360</td>\n",
       "      <td>0</td>\n",
       "      <td>1</td>\n",
       "    </tr>\n",
       "    <tr>\n",
       "      <th>1406</th>\n",
       "      <td>0.136394</td>\n",
       "      <td>0</td>\n",
       "      <td>0</td>\n",
       "    </tr>\n",
       "    <tr>\n",
       "      <th>1407</th>\n",
       "      <td>0.799772</td>\n",
       "      <td>1</td>\n",
       "      <td>1</td>\n",
       "    </tr>\n",
       "    <tr>\n",
       "      <th>1408</th>\n",
       "      <td>0.837409</td>\n",
       "      <td>1</td>\n",
       "      <td>1</td>\n",
       "    </tr>\n",
       "  </tbody>\n",
       "</table>\n",
       "<p>1409 rows × 3 columns</p>\n",
       "</div>"
      ],
      "text/plain": [
       "      probability  prediction  actual\n",
       "0        0.008997           0       0\n",
       "1        0.204527           0       0\n",
       "2        0.212225           0       0\n",
       "3        0.543053           1       1\n",
       "4        0.213787           0       0\n",
       "...           ...         ...     ...\n",
       "1404     0.313674           0       0\n",
       "1405     0.039360           0       1\n",
       "1406     0.136394           0       0\n",
       "1407     0.799772           1       1\n",
       "1408     0.837409           1       1\n",
       "\n",
       "[1409 rows x 3 columns]"
      ]
     },
     "execution_count": 63,
     "metadata": {},
     "output_type": "execute_result"
    }
   ],
   "source": [
    "df_pred"
   ]
  },
  {
   "cell_type": "code",
   "execution_count": 64,
   "id": "f7df3e7e-57de-4cba-b891-8af68c0a5cf1",
   "metadata": {},
   "outputs": [
    {
     "data": {
      "text/html": [
       "<div>\n",
       "<style scoped>\n",
       "    .dataframe tbody tr th:only-of-type {\n",
       "        vertical-align: middle;\n",
       "    }\n",
       "\n",
       "    .dataframe tbody tr th {\n",
       "        vertical-align: top;\n",
       "    }\n",
       "\n",
       "    .dataframe thead th {\n",
       "        text-align: right;\n",
       "    }\n",
       "</style>\n",
       "<table border=\"1\" class=\"dataframe\">\n",
       "  <thead>\n",
       "    <tr style=\"text-align: right;\">\n",
       "      <th></th>\n",
       "      <th>probability</th>\n",
       "      <th>prediction</th>\n",
       "      <th>actual</th>\n",
       "      <th>correct</th>\n",
       "    </tr>\n",
       "  </thead>\n",
       "  <tbody>\n",
       "    <tr>\n",
       "      <th>9</th>\n",
       "      <td>0.461702</td>\n",
       "      <td>0</td>\n",
       "      <td>1</td>\n",
       "      <td>False</td>\n",
       "    </tr>\n",
       "    <tr>\n",
       "      <th>11</th>\n",
       "      <td>0.500721</td>\n",
       "      <td>1</td>\n",
       "      <td>0</td>\n",
       "      <td>False</td>\n",
       "    </tr>\n",
       "    <tr>\n",
       "      <th>14</th>\n",
       "      <td>0.065811</td>\n",
       "      <td>0</td>\n",
       "      <td>1</td>\n",
       "      <td>False</td>\n",
       "    </tr>\n",
       "    <tr>\n",
       "      <th>22</th>\n",
       "      <td>0.247374</td>\n",
       "      <td>0</td>\n",
       "      <td>1</td>\n",
       "      <td>False</td>\n",
       "    </tr>\n",
       "    <tr>\n",
       "      <th>27</th>\n",
       "      <td>0.212089</td>\n",
       "      <td>0</td>\n",
       "      <td>1</td>\n",
       "      <td>False</td>\n",
       "    </tr>\n",
       "    <tr>\n",
       "      <th>...</th>\n",
       "      <td>...</td>\n",
       "      <td>...</td>\n",
       "      <td>...</td>\n",
       "      <td>...</td>\n",
       "    </tr>\n",
       "    <tr>\n",
       "      <th>1391</th>\n",
       "      <td>0.443951</td>\n",
       "      <td>0</td>\n",
       "      <td>1</td>\n",
       "      <td>False</td>\n",
       "    </tr>\n",
       "    <tr>\n",
       "      <th>1392</th>\n",
       "      <td>0.505488</td>\n",
       "      <td>1</td>\n",
       "      <td>0</td>\n",
       "      <td>False</td>\n",
       "    </tr>\n",
       "    <tr>\n",
       "      <th>1393</th>\n",
       "      <td>0.628414</td>\n",
       "      <td>1</td>\n",
       "      <td>0</td>\n",
       "      <td>False</td>\n",
       "    </tr>\n",
       "    <tr>\n",
       "      <th>1394</th>\n",
       "      <td>0.494453</td>\n",
       "      <td>0</td>\n",
       "      <td>1</td>\n",
       "      <td>False</td>\n",
       "    </tr>\n",
       "    <tr>\n",
       "      <th>1405</th>\n",
       "      <td>0.039360</td>\n",
       "      <td>0</td>\n",
       "      <td>1</td>\n",
       "      <td>False</td>\n",
       "    </tr>\n",
       "  </tbody>\n",
       "</table>\n",
       "<p>277 rows × 4 columns</p>\n",
       "</div>"
      ],
      "text/plain": [
       "      probability  prediction  actual  correct\n",
       "9        0.461702           0       1    False\n",
       "11       0.500721           1       0    False\n",
       "14       0.065811           0       1    False\n",
       "22       0.247374           0       1    False\n",
       "27       0.212089           0       1    False\n",
       "...           ...         ...     ...      ...\n",
       "1391     0.443951           0       1    False\n",
       "1392     0.505488           1       0    False\n",
       "1393     0.628414           1       0    False\n",
       "1394     0.494453           0       1    False\n",
       "1405     0.039360           0       1    False\n",
       "\n",
       "[277 rows x 4 columns]"
      ]
     },
     "execution_count": 64,
     "metadata": {},
     "output_type": "execute_result"
    }
   ],
   "source": [
    "df_pred['correct'] = (df_pred.prediction == df_pred.actual)\n",
    "df_pred[~df_pred['correct']]"
   ]
  },
  {
   "cell_type": "code",
   "execution_count": 65,
   "id": "6debf2c6-647b-4299-b491-c00e09c0e9ca",
   "metadata": {},
   "outputs": [
    {
     "data": {
      "text/plain": [
       "0.8034066713981547"
      ]
     },
     "execution_count": 65,
     "metadata": {},
     "output_type": "execute_result"
    }
   ],
   "source": [
    "df_pred.correct.mean()"
   ]
  },
  {
   "cell_type": "markdown",
   "id": "9cab59c1-685a-4836-8cea-1c8eb4ae0732",
   "metadata": {},
   "source": [
    "### Model Interpretation"
   ]
  },
  {
   "cell_type": "markdown",
   "id": "76b257b1-062b-431a-b14b-dafad46fd8ce",
   "metadata": {},
   "source": [
    "#### Join DV Feature Names and Coefficients"
   ]
  },
  {
   "cell_type": "code",
   "execution_count": 66,
   "id": "332786f8-1631-4b81-87af-bca8232f3c6b",
   "metadata": {},
   "outputs": [
    {
     "data": {
      "text/html": [
       "<div>\n",
       "<style scoped>\n",
       "    .dataframe tbody tr th:only-of-type {\n",
       "        vertical-align: middle;\n",
       "    }\n",
       "\n",
       "    .dataframe tbody tr th {\n",
       "        vertical-align: top;\n",
       "    }\n",
       "\n",
       "    .dataframe thead th {\n",
       "        text-align: right;\n",
       "    }\n",
       "</style>\n",
       "<table border=\"1\" class=\"dataframe\">\n",
       "  <thead>\n",
       "    <tr style=\"text-align: right;\">\n",
       "      <th></th>\n",
       "      <th>feature_name</th>\n",
       "      <th>coeff</th>\n",
       "    </tr>\n",
       "  </thead>\n",
       "  <tbody>\n",
       "    <tr>\n",
       "      <th>0</th>\n",
       "      <td>contract=month-to-month</td>\n",
       "      <td>0.475</td>\n",
       "    </tr>\n",
       "    <tr>\n",
       "      <th>1</th>\n",
       "      <td>contract=one_year</td>\n",
       "      <td>-0.175</td>\n",
       "    </tr>\n",
       "    <tr>\n",
       "      <th>2</th>\n",
       "      <td>contract=two_year</td>\n",
       "      <td>-0.408</td>\n",
       "    </tr>\n",
       "    <tr>\n",
       "      <th>3</th>\n",
       "      <td>dependents=no</td>\n",
       "      <td>-0.030</td>\n",
       "    </tr>\n",
       "    <tr>\n",
       "      <th>4</th>\n",
       "      <td>dependents=yes</td>\n",
       "      <td>-0.078</td>\n",
       "    </tr>\n",
       "  </tbody>\n",
       "</table>\n",
       "</div>"
      ],
      "text/plain": [
       "              feature_name  coeff\n",
       "0  contract=month-to-month  0.475\n",
       "1        contract=one_year -0.175\n",
       "2        contract=two_year -0.408\n",
       "3            dependents=no -0.030\n",
       "4           dependents=yes -0.078"
      ]
     },
     "execution_count": 66,
     "metadata": {},
     "output_type": "execute_result"
    }
   ],
   "source": [
    "weights_full = pd.DataFrame(columns=['feature_name', 'coeff'], data=list(zip(dv.get_feature_names(), model.coef_[0].round(3))))\n",
    "weights_full.head()"
   ]
  },
  {
   "cell_type": "markdown",
   "id": "c040588b-f505-429b-8db4-9548fcc19533",
   "metadata": {},
   "source": [
    "#### Create a Smaller Model"
   ]
  },
  {
   "cell_type": "code",
   "execution_count": 67,
   "id": "1020a816-a107-47fc-a44c-f99f6274450a",
   "metadata": {},
   "outputs": [],
   "source": [
    "small = ['contract', 'tenure', 'monthlycharges']"
   ]
  },
  {
   "cell_type": "code",
   "execution_count": 68,
   "id": "6ffa03a4-d294-41ff-854f-a22fd2194803",
   "metadata": {},
   "outputs": [],
   "source": [
    "dicts_train_small = df_train[small].to_dict(orient='records')"
   ]
  },
  {
   "cell_type": "code",
   "execution_count": 69,
   "id": "fe8e4115-6680-458e-9f1f-095e9838e83e",
   "metadata": {},
   "outputs": [
    {
     "data": {
      "text/plain": [
       "DictVectorizer(sparse=False)"
      ]
     },
     "execution_count": 69,
     "metadata": {},
     "output_type": "execute_result"
    }
   ],
   "source": [
    "dv_small = DictVectorizer(sparse=False)\n",
    "dv_small.fit(dicts_train_small)"
   ]
  },
  {
   "cell_type": "code",
   "execution_count": 70,
   "id": "dab2e666-2e09-462b-ad76-63b173570fe0",
   "metadata": {},
   "outputs": [
    {
     "data": {
      "text/plain": [
       "['contract=month-to-month',\n",
       " 'contract=one_year',\n",
       " 'contract=two_year',\n",
       " 'monthlycharges',\n",
       " 'tenure']"
      ]
     },
     "execution_count": 70,
     "metadata": {},
     "output_type": "execute_result"
    }
   ],
   "source": [
    "dv_small.get_feature_names()"
   ]
  },
  {
   "cell_type": "code",
   "execution_count": 71,
   "id": "69653813-b074-4920-9a9f-1503a59bab6d",
   "metadata": {},
   "outputs": [],
   "source": [
    "X_small_train =  dv_small.transform(dicts_train_small)"
   ]
  },
  {
   "cell_type": "code",
   "execution_count": 72,
   "id": "d45704d5-24b4-4dac-a42e-1240a86d7cd1",
   "metadata": {},
   "outputs": [
    {
     "data": {
      "text/plain": [
       "LogisticRegression()"
      ]
     },
     "execution_count": 72,
     "metadata": {},
     "output_type": "execute_result"
    }
   ],
   "source": [
    "model_small = LogisticRegression()\n",
    "model_small.fit(X_small_train, y_train)"
   ]
  },
  {
   "cell_type": "markdown",
   "id": "65c14ba7-be8e-4f1e-bdf2-78a42c0a85f5",
   "metadata": {},
   "source": [
    "#### Interpret Smaller model Coeff"
   ]
  },
  {
   "cell_type": "code",
   "execution_count": 73,
   "id": "d1f58b0f-3ee3-460d-ba4b-251523dca384",
   "metadata": {},
   "outputs": [],
   "source": [
    "w0 = model_small.intercept_[0]\n",
    "w = model_small.coef_[0].round(3)"
   ]
  },
  {
   "cell_type": "markdown",
   "id": "aa14861c-2bb4-4203-9f1f-add5ad619059",
   "metadata": {},
   "source": [
    "##### Interpreting Bias"
   ]
  },
  {
   "cell_type": "code",
   "execution_count": 74,
   "id": "bf25aef3-fd85-4e66-b0fb-6f2bde316805",
   "metadata": {},
   "outputs": [
    {
     "data": {
      "text/plain": [
       "0.07750241488090633"
      ]
     },
     "execution_count": 74,
     "metadata": {},
     "output_type": "execute_result"
    }
   ],
   "source": [
    "sigmoid(w0)"
   ]
  },
  {
   "cell_type": "markdown",
   "id": "43f46df9-eb2e-4701-a79b-796b544caea1",
   "metadata": {},
   "source": [
    "- This intercept means that if we know nothing about the customer our default position is that they will not churn\n",
    "- As more information is gained, probability of churn is increased or decreased"
   ]
  },
  {
   "cell_type": "markdown",
   "id": "415f8627-6a51-4725-a7ad-71d5554121a6",
   "metadata": {},
   "source": [
    "##### Interpreting Weights"
   ]
  },
  {
   "cell_type": "code",
   "execution_count": 75,
   "id": "f49290e5-0381-40ea-b11e-8584283cd9e4",
   "metadata": {},
   "outputs": [],
   "source": [
    "weights = pd.DataFrame(columns=['feature_name', 'coeff'], data=list(zip(dv_small.get_feature_names(), w)))"
   ]
  },
  {
   "cell_type": "code",
   "execution_count": 76,
   "id": "a563c669-d378-41c8-9998-7ff96d5d74b0",
   "metadata": {},
   "outputs": [
    {
     "data": {
      "text/html": [
       "<div>\n",
       "<style scoped>\n",
       "    .dataframe tbody tr th:only-of-type {\n",
       "        vertical-align: middle;\n",
       "    }\n",
       "\n",
       "    .dataframe tbody tr th {\n",
       "        vertical-align: top;\n",
       "    }\n",
       "\n",
       "    .dataframe thead th {\n",
       "        text-align: right;\n",
       "    }\n",
       "</style>\n",
       "<table border=\"1\" class=\"dataframe\">\n",
       "  <thead>\n",
       "    <tr style=\"text-align: right;\">\n",
       "      <th></th>\n",
       "      <th>feature_name</th>\n",
       "      <th>coeff</th>\n",
       "    </tr>\n",
       "  </thead>\n",
       "  <tbody>\n",
       "    <tr>\n",
       "      <th>0</th>\n",
       "      <td>contract=month-to-month</td>\n",
       "      <td>0.970</td>\n",
       "    </tr>\n",
       "    <tr>\n",
       "      <th>3</th>\n",
       "      <td>monthlycharges</td>\n",
       "      <td>0.027</td>\n",
       "    </tr>\n",
       "    <tr>\n",
       "      <th>1</th>\n",
       "      <td>contract=one_year</td>\n",
       "      <td>-0.025</td>\n",
       "    </tr>\n",
       "    <tr>\n",
       "      <th>4</th>\n",
       "      <td>tenure</td>\n",
       "      <td>-0.036</td>\n",
       "    </tr>\n",
       "    <tr>\n",
       "      <th>2</th>\n",
       "      <td>contract=two_year</td>\n",
       "      <td>-0.949</td>\n",
       "    </tr>\n",
       "  </tbody>\n",
       "</table>\n",
       "</div>"
      ],
      "text/plain": [
       "              feature_name  coeff\n",
       "0  contract=month-to-month  0.970\n",
       "3           monthlycharges  0.027\n",
       "1        contract=one_year -0.025\n",
       "4                   tenure -0.036\n",
       "2        contract=two_year -0.949"
      ]
     },
     "execution_count": 76,
     "metadata": {},
     "output_type": "execute_result"
    }
   ],
   "source": [
    "weights.sort_values('coeff', ascending=False)"
   ]
  },
  {
   "cell_type": "markdown",
   "id": "03a6c33c-eeb2-4657-8fee-26ecd77e9da4",
   "metadata": {},
   "source": [
    "- Sigmoid zero is 0.5\n",
    "- High value means that the feature will increase probability of churn\n",
    "- Low value means that the feature will decrease probability of churn"
   ]
  },
  {
   "cell_type": "markdown",
   "id": "5d95c9e9-9806-4ed2-9436-08a1a0eda1e1",
   "metadata": {},
   "source": [
    "## Using The Model"
   ]
  },
  {
   "cell_type": "markdown",
   "id": "91806131-5254-42c1-8bb7-4fcdeb8f5dda",
   "metadata": {},
   "source": [
    "### Full train"
   ]
  },
  {
   "cell_type": "markdown",
   "id": "32a4d5dc-193b-466f-ba70-cdc13dbe2e83",
   "metadata": {},
   "source": [
    "Create the feature vector using dictionary vectorizer"
   ]
  },
  {
   "cell_type": "code",
   "execution_count": 77,
   "id": "1183a6db-d5db-47fb-acd7-bb75d3625b5e",
   "metadata": {},
   "outputs": [],
   "source": [
    "dict_full_train = df_full_train.to_dict(orient='records')\n",
    "dv_full = DictVectorizer(sparse=False)\n",
    "X_full_train = dv_full.fit_transform(dict_full_train)"
   ]
  },
  {
   "cell_type": "markdown",
   "id": "0b4d5eb0-3e0b-4aa3-be54-4e9b900f52d9",
   "metadata": {},
   "source": [
    "Train the model"
   ]
  },
  {
   "cell_type": "code",
   "execution_count": 78,
   "id": "d6e1b7c4-ef09-4916-ac2c-87528f5e71b6",
   "metadata": {},
   "outputs": [
    {
     "name": "stderr",
     "output_type": "stream",
     "text": [
      "/opt/conda/lib/python3.8/site-packages/sklearn/linear_model/_logistic.py:763: ConvergenceWarning: lbfgs failed to converge (status=1):\n",
      "STOP: TOTAL NO. of ITERATIONS REACHED LIMIT.\n",
      "\n",
      "Increase the number of iterations (max_iter) or scale the data as shown in:\n",
      "    https://scikit-learn.org/stable/modules/preprocessing.html\n",
      "Please also refer to the documentation for alternative solver options:\n",
      "    https://scikit-learn.org/stable/modules/linear_model.html#logistic-regression\n",
      "  n_iter_i = _check_optimize_result(\n"
     ]
    },
    {
     "data": {
      "text/plain": [
       "LogisticRegression()"
      ]
     },
     "execution_count": 78,
     "metadata": {},
     "output_type": "execute_result"
    }
   ],
   "source": [
    "model_full = LogisticRegression(max_iter=500)\n",
    "model.fit(X_full_train, y_full_train)"
   ]
  },
  {
   "cell_type": "markdown",
   "id": "de8b776f-a53f-457d-9392-40cf40b93cd1",
   "metadata": {},
   "source": [
    "The model did not converge. We need to scale the numerical values"
   ]
  },
  {
   "cell_type": "markdown",
   "id": "04e2d07d-28eb-4f62-8aee-4235f2fb41f7",
   "metadata": {},
   "source": [
    "### Scaling Numerical Features"
   ]
  },
  {
   "cell_type": "code",
   "execution_count": 79,
   "id": "98e1b257-3d67-48ff-9d10-6b15535e5ab7",
   "metadata": {},
   "outputs": [],
   "source": [
    "from sklearn.preprocessing import StandardScaler, MinMaxScaler"
   ]
  },
  {
   "cell_type": "code",
   "execution_count": 80,
   "id": "f8479616-b1ae-4746-82eb-7ec0158f191b",
   "metadata": {},
   "outputs": [],
   "source": [
    "X_full_train_num = df_full_train[numeric_variables].values\n",
    "\n",
    "# scaler = StandardScaler()\n",
    "scaler = MinMaxScaler()\n",
    "\n",
    "X_full_train_num = scaler.fit_transform(X_full_train_num)"
   ]
  },
  {
   "cell_type": "markdown",
   "id": "8527ddf2-10cf-41c2-a4df-e7cc03fa72a2",
   "metadata": {},
   "source": [
    "Check the difference between the features after scaling"
   ]
  },
  {
   "cell_type": "code",
   "execution_count": 81,
   "id": "3b0db1b5-694a-4edc-9e58-7c96df9e15ef",
   "metadata": {},
   "outputs": [
    {
     "data": {
      "text/plain": [
       "0    12\n",
       "1    42\n",
       "2    71\n",
       "3    71\n",
       "4    30\n",
       "Name: tenure, dtype: int64"
      ]
     },
     "execution_count": 81,
     "metadata": {},
     "output_type": "execute_result"
    }
   ],
   "source": [
    "df_full_train[numeric_variables[0]].head()"
   ]
  },
  {
   "cell_type": "code",
   "execution_count": 82,
   "id": "95aadd21-1c22-4185-8071-ad943a91574b",
   "metadata": {},
   "outputs": [
    {
     "data": {
      "text/plain": [
       "array([0.16666667, 0.58333333, 0.98611111, 0.98611111, 0.41666667])"
      ]
     },
     "execution_count": 82,
     "metadata": {},
     "output_type": "execute_result"
    }
   ],
   "source": [
    "X_full_train_num[:5, 0]"
   ]
  },
  {
   "cell_type": "code",
   "execution_count": 83,
   "id": "1339f5a2-ca27-459d-b1a9-921e492fb014",
   "metadata": {},
   "outputs": [
    {
     "data": {
      "text/plain": [
       "(5634, 3)"
      ]
     },
     "execution_count": 83,
     "metadata": {},
     "output_type": "execute_result"
    }
   ],
   "source": [
    "X_full_train_num.shape"
   ]
  },
  {
   "cell_type": "markdown",
   "id": "e55a3946-0daf-44d5-bd46-b97ea9285463",
   "metadata": {},
   "source": [
    "### OHE Categorical Variables"
   ]
  },
  {
   "cell_type": "code",
   "execution_count": 84,
   "id": "a24c4e60-493e-4452-98c1-9519e0b7d5a8",
   "metadata": {},
   "outputs": [],
   "source": [
    "from sklearn.preprocessing import OneHotEncoder"
   ]
  },
  {
   "cell_type": "code",
   "execution_count": 85,
   "id": "45ce9255-2bc6-4e86-8523-f6575d6cd098",
   "metadata": {},
   "outputs": [],
   "source": [
    "# X_full_train_cat = df_full_train[categorical_variables].values\n",
    "# ohe =  OneHotEncoder(sparse=False, handle_unknown='ignore')\n",
    "# X_full_train_cat = ohe.fit_transform(X_full_train_cat)\n",
    "\n",
    "dict_full_train_cat = df_full_train[categorical_variables].to_dict(orient='records')\n",
    "dv_full = DictVectorizer(sparse=False)\n",
    "X_full_train_cat = dv_full.fit_transform(dict_full_train_cat)"
   ]
  },
  {
   "cell_type": "code",
   "execution_count": 86,
   "id": "fb0f6e00-27e6-4cb6-89ac-bad6a4f3804f",
   "metadata": {},
   "outputs": [
    {
     "data": {
      "text/plain": [
       "(5634, 42)"
      ]
     },
     "execution_count": 86,
     "metadata": {},
     "output_type": "execute_result"
    }
   ],
   "source": [
    "X_full_train_cat.shape"
   ]
  },
  {
   "cell_type": "markdown",
   "id": "94221f2b-9327-4886-9ee3-535e05a7c835",
   "metadata": {},
   "source": [
    "### Combine the features"
   ]
  },
  {
   "cell_type": "code",
   "execution_count": 87,
   "id": "8e73f5cb-9a10-415b-87b6-32c72a1a1b57",
   "metadata": {},
   "outputs": [],
   "source": [
    "X_full_train = np.column_stack([X_full_train_num, X_full_train_cat])"
   ]
  },
  {
   "cell_type": "code",
   "execution_count": 88,
   "id": "1d21175e-08e7-4a9e-a303-90cb6b24ef80",
   "metadata": {},
   "outputs": [
    {
     "data": {
      "text/plain": [
       "(5634, 45)"
      ]
     },
     "execution_count": 88,
     "metadata": {},
     "output_type": "execute_result"
    }
   ],
   "source": [
    "X_full_train.shape"
   ]
  },
  {
   "cell_type": "markdown",
   "id": "33d7a17e-bf50-4fe0-99d6-ec927677f19c",
   "metadata": {},
   "source": [
    "### Retrain the model"
   ]
  },
  {
   "cell_type": "code",
   "execution_count": 89,
   "id": "6cc7b8b6-ccfe-4a39-840d-3a7db78550e6",
   "metadata": {},
   "outputs": [
    {
     "data": {
      "text/plain": [
       "LogisticRegression(max_iter=500, random_state=42)"
      ]
     },
     "execution_count": 89,
     "metadata": {},
     "output_type": "execute_result"
    }
   ],
   "source": [
    "model_full = LogisticRegression(solver='lbfgs', C=1.0, random_state=42, max_iter=500)\n",
    "model_full.fit(X_full_train, y_full_train)"
   ]
  },
  {
   "cell_type": "markdown",
   "id": "b489a121-c4ef-4587-886c-7bc6e5da9ff6",
   "metadata": {},
   "source": [
    "### Test the model"
   ]
  },
  {
   "cell_type": "code",
   "execution_count": 90,
   "id": "7661bedc-e8ca-431b-9523-4d3376f758bd",
   "metadata": {},
   "outputs": [],
   "source": [
    "X_test_num = df_test[numeric_variables].values\n",
    "X_test_num = scaler.transform(X_test_num)\n",
    "\n",
    "dict_test_cat = df_test[categorical_variables].to_dict(orient='records')\n",
    "X_test_cat = dv_full.transform(dict_test_cat)\n",
    "\n",
    "X_test = np.column_stack([X_test_num, X_test_cat])"
   ]
  },
  {
   "cell_type": "code",
   "execution_count": 91,
   "id": "d6d1aa08-7acb-4370-a705-b69003e358b0",
   "metadata": {},
   "outputs": [
    {
     "data": {
      "text/plain": [
       "(1409, 45)"
      ]
     },
     "execution_count": 91,
     "metadata": {},
     "output_type": "execute_result"
    }
   ],
   "source": [
    "X_test.shape"
   ]
  },
  {
   "cell_type": "code",
   "execution_count": 92,
   "id": "4f626f36-a378-4dc5-b166-f88209df6054",
   "metadata": {},
   "outputs": [],
   "source": [
    "y_pred = model_full.predict_proba(X_test)[:, 1]"
   ]
  },
  {
   "cell_type": "code",
   "execution_count": 93,
   "id": "e3c5982e-630b-45bb-b2bb-513ed85eaf5e",
   "metadata": {},
   "outputs": [],
   "source": [
    "churn_decision = (y_pred >= 0.5)"
   ]
  },
  {
   "cell_type": "code",
   "execution_count": 94,
   "id": "df3629ce-c0a5-489e-848f-c61a4ba3086c",
   "metadata": {},
   "outputs": [
    {
     "data": {
      "text/plain": [
       "0.8112136266855926"
      ]
     },
     "execution_count": 94,
     "metadata": {},
     "output_type": "execute_result"
    }
   ],
   "source": [
    "(y_test == churn_decision).mean()"
   ]
  },
  {
   "cell_type": "markdown",
   "id": "fe0c9f89-221b-44da-961b-a9f20ab4ac9d",
   "metadata": {},
   "source": [
    "### Using the model"
   ]
  },
  {
   "cell_type": "code",
   "execution_count": 95,
   "id": "c893088f-92dc-4bb0-a7f5-3727818727a4",
   "metadata": {},
   "outputs": [],
   "source": [
    "def predict_churn(customers, numeric_variables, categorical_variables, scaler, dv_full, model):\n",
    "    df_customer = pd.DataFrame(customers)\n",
    "    X_num = df_customer[numeric_variables].values\n",
    "    X_num = scaler.transform(X_num)\n",
    "\n",
    "    dict_cat = df_customer[categorical_variables].to_dict(orient='records')\n",
    "    X_cat = dv_full.transform(dict_cat)\n",
    "\n",
    "    X = np.column_stack([X_num, X_cat])\n",
    "    y_pred = model.predict_proba(X)[:, 1]\n",
    "    churn_decision = (y_pred >= 0.5)\n",
    "    return churn_decision"
   ]
  },
  {
   "cell_type": "code",
   "execution_count": 97,
   "id": "33d770ca-592e-45c1-97d8-7ff8bbe34927",
   "metadata": {},
   "outputs": [
    {
     "data": {
      "text/plain": [
       "array([False, False])"
      ]
     },
     "execution_count": 97,
     "metadata": {},
     "output_type": "execute_result"
    }
   ],
   "source": [
    "new_customers = df_test.to_dict(orient='records')[:2]\n",
    "\n",
    "predict_churn(\n",
    "    new_customers,\n",
    "    numeric_variables,\n",
    "    categorical_variables,\n",
    "    scaler,\n",
    "    dv_full,\n",
    "    model_full\n",
    ")"
   ]
  }
 ],
 "metadata": {
  "kernelspec": {
   "display_name": "Python 3 (ipykernel)",
   "language": "python",
   "name": "python3"
  },
  "language_info": {
   "codemirror_mode": {
    "name": "ipython",
    "version": 3
   },
   "file_extension": ".py",
   "mimetype": "text/x-python",
   "name": "python",
   "nbconvert_exporter": "python",
   "pygments_lexer": "ipython3",
   "version": "3.8.12"
  }
 },
 "nbformat": 4,
 "nbformat_minor": 5
}
