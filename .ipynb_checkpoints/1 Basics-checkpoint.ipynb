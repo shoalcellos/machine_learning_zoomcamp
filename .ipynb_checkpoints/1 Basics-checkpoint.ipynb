{
 "cells": [
  {
   "cell_type": "markdown",
   "id": "e1eede16-161c-4ab8-80e5-9f6005d8853c",
   "metadata": {
    "jp-MarkdownHeadingCollapsed": true
   },
   "source": [
    "# Introduction to Numpy"
   ]
  },
  {
   "cell_type": "markdown",
   "id": "acaa6a71-4ab7-41f9-80c9-d24c13e28dd3",
   "metadata": {},
   "source": [
    "## Import Numpy"
   ]
  },
  {
   "cell_type": "code",
   "execution_count": 1,
   "id": "21ee423e-88e5-490f-8064-126563454a46",
   "metadata": {},
   "outputs": [],
   "source": [
    "import numpy as np"
   ]
  },
  {
   "cell_type": "markdown",
   "id": "21322dd6-6d7e-498b-a91d-9d7f35320fcd",
   "metadata": {},
   "source": [
    "## Creating Arrays"
   ]
  },
  {
   "cell_type": "code",
   "execution_count": 2,
   "id": "a5c5466b-f74f-4a21-b246-f6327e876874",
   "metadata": {},
   "outputs": [
    {
     "data": {
      "text/plain": [
       "array([0., 0., 0., 0., 0., 0., 0., 0., 0., 0.])"
      ]
     },
     "execution_count": 2,
     "metadata": {},
     "output_type": "execute_result"
    }
   ],
   "source": [
    "zero_array = np.zeros(10)\n",
    "zero_array"
   ]
  },
  {
   "cell_type": "code",
   "execution_count": 3,
   "id": "e5fe5fc5-b48a-4eab-b93d-b6bfa3f8471c",
   "metadata": {},
   "outputs": [
    {
     "data": {
      "text/plain": [
       "array([1., 1., 1., 1., 1., 1., 1., 1., 1., 1.])"
      ]
     },
     "execution_count": 3,
     "metadata": {},
     "output_type": "execute_result"
    }
   ],
   "source": [
    "np.ones(10)"
   ]
  },
  {
   "cell_type": "code",
   "execution_count": 4,
   "id": "32be4c3e-5dfd-4d89-88a4-bcabbab70fb4",
   "metadata": {},
   "outputs": [
    {
     "data": {
      "text/plain": [
       "array([2.5, 2.5, 2.5, 2.5, 2.5, 2.5, 2.5, 2.5, 2.5, 2.5])"
      ]
     },
     "execution_count": 4,
     "metadata": {},
     "output_type": "execute_result"
    }
   ],
   "source": [
    "np.full(10, 2.5)"
   ]
  },
  {
   "cell_type": "code",
   "execution_count": 12,
   "id": "06bd8fe6-2ba6-47a3-bdf3-67c6352e94ae",
   "metadata": {},
   "outputs": [
    {
     "data": {
      "text/plain": [
       "array([0, 1, 2, 3, 4, 5, 6, 7, 8, 9])"
      ]
     },
     "execution_count": 12,
     "metadata": {},
     "output_type": "execute_result"
    }
   ],
   "source": [
    "np.arange(10)"
   ]
  },
  {
   "cell_type": "code",
   "execution_count": 15,
   "id": "3241d019-97d3-4ce1-8f68-bb4a500a686d",
   "metadata": {},
   "outputs": [
    {
     "data": {
      "text/plain": [
       "array([0. , 0.1, 0.2, 0.3, 0.4, 0.5, 0.6, 0.7, 0.8, 0.9, 1. ])"
      ]
     },
     "execution_count": 15,
     "metadata": {},
     "output_type": "execute_result"
    }
   ],
   "source": [
    "np.linspace(0, 1, 11) # linearly spaced array between start and stop. The length is the last"
   ]
  },
  {
   "cell_type": "code",
   "execution_count": 10,
   "id": "3059f691-898c-4097-8ea1-f41fc5837ddc",
   "metadata": {},
   "outputs": [
    {
     "data": {
      "text/plain": [
       "array([0, 2, 4, 6, 8])"
      ]
     },
     "execution_count": 10,
     "metadata": {},
     "output_type": "execute_result"
    }
   ],
   "source": [
    "l = [i for i in range(0, 10, 2)]\n",
    "a = np.array(l)\n",
    "a"
   ]
  },
  {
   "cell_type": "markdown",
   "id": "3b80c70e-5c88-4e4a-b357-d17da64292de",
   "metadata": {},
   "source": [
    "## Multidimensional Arrays"
   ]
  },
  {
   "cell_type": "code",
   "execution_count": 16,
   "id": "5c85ea76-27f0-44ec-8e67-4997d0d91c50",
   "metadata": {},
   "outputs": [
    {
     "data": {
      "text/plain": [
       "array([[1., 1., 1., 1., 1., 1., 1., 1., 1., 1.],\n",
       "       [1., 1., 1., 1., 1., 1., 1., 1., 1., 1.],\n",
       "       [1., 1., 1., 1., 1., 1., 1., 1., 1., 1.],\n",
       "       [1., 1., 1., 1., 1., 1., 1., 1., 1., 1.],\n",
       "       [1., 1., 1., 1., 1., 1., 1., 1., 1., 1.],\n",
       "       [1., 1., 1., 1., 1., 1., 1., 1., 1., 1.],\n",
       "       [1., 1., 1., 1., 1., 1., 1., 1., 1., 1.],\n",
       "       [1., 1., 1., 1., 1., 1., 1., 1., 1., 1.],\n",
       "       [1., 1., 1., 1., 1., 1., 1., 1., 1., 1.],\n",
       "       [1., 1., 1., 1., 1., 1., 1., 1., 1., 1.]])"
      ]
     },
     "execution_count": 16,
     "metadata": {},
     "output_type": "execute_result"
    }
   ],
   "source": [
    "np.ones((10, 10))"
   ]
  },
  {
   "cell_type": "code",
   "execution_count": 19,
   "id": "e080ac54-e662-46b2-b8a2-ad4302d0cbea",
   "metadata": {},
   "outputs": [],
   "source": [
    "m = np.linspace(0, 100, 50)\n",
    "m = m.reshape(5, 5, 2)"
   ]
  },
  {
   "cell_type": "markdown",
   "id": "f4ad59b3-51b2-47bb-ae9c-318504cb5271",
   "metadata": {},
   "source": [
    "## Indexing and Slicing"
   ]
  },
  {
   "cell_type": "code",
   "execution_count": 11,
   "id": "de852d2f-2a7d-4d81-9361-306ca161822b",
   "metadata": {},
   "outputs": [
    {
     "data": {
      "text/plain": [
       "0"
      ]
     },
     "execution_count": 11,
     "metadata": {},
     "output_type": "execute_result"
    }
   ],
   "source": [
    "a[0]"
   ]
  },
  {
   "cell_type": "code",
   "execution_count": 13,
   "id": "36a57c4d-4138-4f32-b147-3c1735bff2f8",
   "metadata": {},
   "outputs": [
    {
     "data": {
      "text/plain": [
       "array([0, 4])"
      ]
     },
     "execution_count": 13,
     "metadata": {},
     "output_type": "execute_result"
    }
   ],
   "source": [
    "a[0:3:2]"
   ]
  },
  {
   "cell_type": "code",
   "execution_count": 24,
   "id": "90b777ac-1c80-4270-b731-7bf7ad92875a",
   "metadata": {},
   "outputs": [
    {
     "data": {
      "text/plain": [
       "array([[  2.04081633,   6.12244898,  10.20408163,  14.28571429,\n",
       "         18.36734694],\n",
       "       [ 22.44897959,  26.53061224,  30.6122449 ,  34.69387755,\n",
       "         38.7755102 ],\n",
       "       [ 42.85714286,  46.93877551,  51.02040816,  55.10204082,\n",
       "         59.18367347],\n",
       "       [ 63.26530612,  67.34693878,  71.42857143,  75.51020408,\n",
       "         79.59183673],\n",
       "       [ 83.67346939,  87.75510204,  91.83673469,  95.91836735,\n",
       "        100.        ]])"
      ]
     },
     "execution_count": 24,
     "metadata": {},
     "output_type": "execute_result"
    }
   ],
   "source": [
    "# Multidimensional Arrays\n",
    "# only specific dim\n",
    "n = m[:, :, 1]\n",
    "n.reshape(5, 5)"
   ]
  },
  {
   "cell_type": "code",
   "execution_count": 25,
   "id": "6f3ec414-709e-4822-a467-247222c40beb",
   "metadata": {},
   "outputs": [
    {
     "data": {
      "text/plain": [
       "71.42857142857143"
      ]
     },
     "execution_count": 25,
     "metadata": {},
     "output_type": "execute_result"
    }
   ],
   "source": [
    "# Both Rows and Columns\n",
    "n[3, 2]"
   ]
  },
  {
   "cell_type": "code",
   "execution_count": 26,
   "id": "f4356e27-2fad-4edd-a03c-1869fdae193c",
   "metadata": {},
   "outputs": [
    {
     "data": {
      "text/plain": [
       "array([ 6.12244898, 26.53061224, 46.93877551, 67.34693878, 87.75510204])"
      ]
     },
     "execution_count": 26,
     "metadata": {},
     "output_type": "execute_result"
    }
   ],
   "source": [
    "# Only 1 column\n",
    "n[:, 1]"
   ]
  },
  {
   "cell_type": "code",
   "execution_count": 27,
   "id": "8cf669b7-a06e-4946-8d43-81a9e77c00b2",
   "metadata": {},
   "outputs": [
    {
     "data": {
      "text/plain": [
       "array([22.44897959, 26.53061224, 30.6122449 , 34.69387755, 38.7755102 ])"
      ]
     },
     "execution_count": 27,
     "metadata": {},
     "output_type": "execute_result"
    }
   ],
   "source": [
    "# only 1 row\n",
    "n[1, :]"
   ]
  },
  {
   "cell_type": "code",
   "execution_count": 67,
   "id": "12e3c2e6-9465-49ef-b2db-d4d53714d324",
   "metadata": {},
   "outputs": [
    {
     "data": {
      "text/plain": [
       "array([[ 2.04081633,  6.12244898, 10.20408163, 14.28571429, 18.36734694],\n",
       "       [42.85714286, 46.93877551, 51.02040816, 55.10204082, 59.18367347]])"
      ]
     },
     "execution_count": 67,
     "metadata": {},
     "output_type": "execute_result"
    }
   ],
   "source": [
    "n[[0,2]] # only first and third row"
   ]
  },
  {
   "cell_type": "code",
   "execution_count": 70,
   "id": "51c9522e-b241-430c-b649-9c45ffd2e0f8",
   "metadata": {},
   "outputs": [
    {
     "data": {
      "text/plain": [
       "array([18.36734694, 59.18367347])"
      ]
     },
     "execution_count": 70,
     "metadata": {},
     "output_type": "execute_result"
    }
   ],
   "source": [
    "n[[0,2], [4]] # only first and third row of the last column"
   ]
  },
  {
   "cell_type": "markdown",
   "id": "e3d390da-e34d-4960-baf9-38485102d146",
   "metadata": {},
   "source": [
    "## Randomly Generated Arrays"
   ]
  },
  {
   "cell_type": "code",
   "execution_count": 28,
   "id": "63f8f500-6492-4f49-8458-b7eb294a2375",
   "metadata": {},
   "outputs": [],
   "source": [
    "np.random.seed(12) # Numbers are pseudorandom. So same seed will produce same number"
   ]
  },
  {
   "cell_type": "code",
   "execution_count": 29,
   "id": "21d77801-15e9-4539-862c-861072972426",
   "metadata": {},
   "outputs": [
    {
     "data": {
      "text/plain": [
       "array([[0.15416284, 0.7400497 ],\n",
       "       [0.26331502, 0.53373939],\n",
       "       [0.01457496, 0.91874701],\n",
       "       [0.90071485, 0.03342143],\n",
       "       [0.95694934, 0.13720932]])"
      ]
     },
     "execution_count": 29,
     "metadata": {},
     "output_type": "execute_result"
    }
   ],
   "source": [
    "np.random.rand(5,2) # Uniformly distributed array of size 5,2 between 0 and 1"
   ]
  },
  {
   "cell_type": "code",
   "execution_count": 35,
   "id": "44ec77da-9175-4daf-9643-8ffef6991ced",
   "metadata": {},
   "outputs": [
    {
     "data": {
      "text/plain": [
       "array([[-2.26090795,  1.31316866],\n",
       "       [ 1.29948907,  0.48606528],\n",
       "       [-0.16382624,  0.30209188],\n",
       "       [ 1.07495638, -0.88582519],\n",
       "       [ 0.11260228,  0.69414995]])"
      ]
     },
     "execution_count": 35,
     "metadata": {},
     "output_type": "execute_result"
    }
   ],
   "source": [
    "np.random.randn(5,2) # Random sampling of normal distribution array of size 5,2 Normal dist = Mean 0 and standard deviation 1"
   ]
  },
  {
   "cell_type": "code",
   "execution_count": 33,
   "id": "f9383669-385b-424b-876a-f14e5fe8d74c",
   "metadata": {},
   "outputs": [
    {
     "data": {
      "text/plain": [
       "array([[89, 59],\n",
       "       [88, 79],\n",
       "       [25, 97],\n",
       "       [56,  4],\n",
       "       [96, 68]])"
      ]
     },
     "execution_count": 33,
     "metadata": {},
     "output_type": "execute_result"
    }
   ],
   "source": [
    "np.random.randint(low=0, high=100, size=(5,2)) # random integers from the \"discrete uniform\""
   ]
  },
  {
   "cell_type": "markdown",
   "id": "2e1e3b89-3cb7-4f66-8929-61ad9fa51074",
   "metadata": {},
   "source": [
    "## Element Wise Operations"
   ]
  },
  {
   "cell_type": "code",
   "execution_count": 40,
   "id": "4bf71791-1cc5-4429-9722-201da7318db8",
   "metadata": {},
   "outputs": [
    {
     "data": {
      "text/plain": [
       "array([  0,  60, 240, 540, 960])"
      ]
     },
     "execution_count": 40,
     "metadata": {},
     "output_type": "execute_result"
    }
   ],
   "source": [
    "x = (10 + 5) * (a ** 2)\n",
    "x"
   ]
  },
  {
   "cell_type": "code",
   "execution_count": 43,
   "id": "c72011d3-0b78-41c9-9693-26e6bb25ee78",
   "metadata": {},
   "outputs": [
    {
     "data": {
      "text/plain": [
       "array([[64.57394108, 23.32186657],\n",
       "       [ 6.1134856 , 59.18434925],\n",
       "       [55.19875155, 84.8015606 ],\n",
       "       [76.15399143, 37.39910543],\n",
       "       [54.33145987, 95.44911136]])"
      ]
     },
     "execution_count": 43,
     "metadata": {},
     "output_type": "execute_result"
    }
   ],
   "source": [
    "y = 100 * np.random.rand(5,2)\n",
    "y"
   ]
  },
  {
   "cell_type": "code",
   "execution_count": 44,
   "id": "3dd8a47b-ef18-4d55-b802-ee862525faea",
   "metadata": {},
   "outputs": [
    {
     "data": {
      "text/plain": [
       "array([64.57394108,  6.1134856 , 55.19875155, 76.15399143, 54.33145987])"
      ]
     },
     "execution_count": 44,
     "metadata": {},
     "output_type": "execute_result"
    }
   ],
   "source": [
    "y = y[:, 0]\n",
    "y"
   ]
  },
  {
   "cell_type": "code",
   "execution_count": 45,
   "id": "5bb0eb98-3d63-49eb-8110-9b43f9a06798",
   "metadata": {},
   "outputs": [
    {
     "data": {
      "text/plain": [
       "array([  64.57394108,   66.1134856 ,  295.19875155,  616.15399143,\n",
       "       1014.33145987])"
      ]
     },
     "execution_count": 45,
     "metadata": {},
     "output_type": "execute_result"
    }
   ],
   "source": [
    "x + y"
   ]
  },
  {
   "cell_type": "code",
   "execution_count": 46,
   "id": "5d0a3f99-2368-4def-9929-b2f7af9f059c",
   "metadata": {},
   "outputs": [
    {
     "data": {
      "text/plain": [
       "array([    0.        ,   366.80913627, 13247.70037088, 41123.15537011,\n",
       "       52158.20147835])"
      ]
     },
     "execution_count": 46,
     "metadata": {},
     "output_type": "execute_result"
    }
   ],
   "source": [
    "x * y"
   ]
  },
  {
   "cell_type": "markdown",
   "id": "0795dc79-6610-4221-9306-a31c30c4f74d",
   "metadata": {},
   "source": [
    "## Comparison Operations"
   ]
  },
  {
   "cell_type": "code",
   "execution_count": 47,
   "id": "a49d115f-ea5e-40e3-874a-dcb4968eded1",
   "metadata": {},
   "outputs": [
    {
     "data": {
      "text/plain": [
       "array([False,  True,  True,  True,  True])"
      ]
     },
     "execution_count": 47,
     "metadata": {},
     "output_type": "execute_result"
    }
   ],
   "source": [
    "x >= 2"
   ]
  },
  {
   "cell_type": "code",
   "execution_count": 48,
   "id": "63140a58-da00-4e50-96db-4fc69fd1a8ad",
   "metadata": {},
   "outputs": [
    {
     "data": {
      "text/plain": [
       "array([False,  True,  True,  True,  True])"
      ]
     },
     "execution_count": 48,
     "metadata": {},
     "output_type": "execute_result"
    }
   ],
   "source": [
    "x > y"
   ]
  },
  {
   "cell_type": "markdown",
   "id": "cddaa8bf-27a3-449c-8dff-4e8f007eb6e2",
   "metadata": {},
   "source": [
    "### Boolean Indexing"
   ]
  },
  {
   "cell_type": "code",
   "execution_count": 51,
   "id": "21931de3-4f8c-4996-a37a-fee5132ebfa2",
   "metadata": {},
   "outputs": [
    {
     "data": {
      "text/plain": [
       "array([0])"
      ]
     },
     "execution_count": 51,
     "metadata": {},
     "output_type": "execute_result"
    }
   ],
   "source": [
    "x[x < y]"
   ]
  },
  {
   "cell_type": "markdown",
   "id": "ac035bb7-d97f-4149-afdc-35f23b4a5f0b",
   "metadata": {},
   "source": [
    "## Summarizing Operation"
   ]
  },
  {
   "cell_type": "code",
   "execution_count": 53,
   "id": "6d993ff2-3147-4e31-b013-4844d2d7c1b4",
   "metadata": {},
   "outputs": [
    {
     "data": {
      "text/plain": [
       "6.113485604559465"
      ]
     },
     "execution_count": 53,
     "metadata": {},
     "output_type": "execute_result"
    }
   ],
   "source": [
    "y.min()"
   ]
  },
  {
   "cell_type": "code",
   "execution_count": 54,
   "id": "8849d167-20c7-4d48-866f-1cd56d83cf3a",
   "metadata": {},
   "outputs": [
    {
     "data": {
      "text/plain": [
       "76.15399142613265"
      ]
     },
     "execution_count": 54,
     "metadata": {},
     "output_type": "execute_result"
    }
   ],
   "source": [
    "y.max()"
   ]
  },
  {
   "cell_type": "code",
   "execution_count": 55,
   "id": "f9b5e04a-b41c-4288-a5bf-1993fc96e1ea",
   "metadata": {},
   "outputs": [
    {
     "data": {
      "text/plain": [
       "51.274325906712406"
      ]
     },
     "execution_count": 55,
     "metadata": {},
     "output_type": "execute_result"
    }
   ],
   "source": [
    "y.mean()"
   ]
  },
  {
   "cell_type": "code",
   "execution_count": 56,
   "id": "695adf4f-60f3-4859-be5f-c5bc19b8557e",
   "metadata": {},
   "outputs": [
    {
     "data": {
      "text/plain": [
       "23.91704915623274"
      ]
     },
     "execution_count": 56,
     "metadata": {},
     "output_type": "execute_result"
    }
   ],
   "source": [
    "y.std()"
   ]
  },
  {
   "cell_type": "markdown",
   "id": "caae0ef8-5a8b-4979-bdf1-a3fae0df2074",
   "metadata": {},
   "source": [
    "# Matrix Operations"
   ]
  },
  {
   "cell_type": "markdown",
   "id": "cfde6e56-76b6-4d5a-97a5-f01d1d19bb97",
   "metadata": {},
   "source": [
    "## Generating Matrices"
   ]
  },
  {
   "cell_type": "code",
   "execution_count": 58,
   "id": "581e7f25-dd02-485b-bd3f-3252e2927388",
   "metadata": {},
   "outputs": [
    {
     "data": {
      "text/plain": [
       "array([[1, 2, 3],\n",
       "       [4, 5, 6]])"
      ]
     },
     "execution_count": 58,
     "metadata": {},
     "output_type": "execute_result"
    }
   ],
   "source": [
    "a = np.arange(1, 7).reshape(2,3)\n",
    "a"
   ]
  },
  {
   "cell_type": "code",
   "execution_count": 60,
   "id": "2f328e18-1e05-43b0-bf93-a6b1dc27acbb",
   "metadata": {},
   "outputs": [
    {
     "data": {
      "text/plain": [
       "array([[ 9.        ,  9.54545455, 10.09090909, 10.63636364],\n",
       "       [11.18181818, 11.72727273, 12.27272727, 12.81818182],\n",
       "       [13.36363636, 13.90909091, 14.45454545, 15.        ]])"
      ]
     },
     "execution_count": 60,
     "metadata": {},
     "output_type": "execute_result"
    }
   ],
   "source": [
    "b = np.linspace(9, 15, 12).reshape(3, 4)\n",
    "b"
   ]
  },
  {
   "cell_type": "markdown",
   "id": "158eb255-cecd-43e8-9e7e-78e21cf34875",
   "metadata": {},
   "source": [
    "### Identity Matrix"
   ]
  },
  {
   "cell_type": "code",
   "execution_count": 75,
   "id": "d5cbd6d9-0c83-49fa-bd2a-a62022d354fe",
   "metadata": {},
   "outputs": [
    {
     "data": {
      "text/plain": [
       "array([[1., 0., 0., 0.],\n",
       "       [0., 1., 0., 0.],\n",
       "       [0., 0., 1., 0.],\n",
       "       [0., 0., 0., 1.]])"
      ]
     },
     "execution_count": 75,
     "metadata": {},
     "output_type": "execute_result"
    }
   ],
   "source": [
    "np.eye(4,4)"
   ]
  },
  {
   "cell_type": "markdown",
   "id": "b138d9f3-42ab-4617-a032-7fe8530d5b44",
   "metadata": {},
   "source": [
    "### Diagonal And Triangular Matrix"
   ]
  },
  {
   "cell_type": "code",
   "execution_count": 81,
   "id": "bb878492-3ab6-4407-adae-d000927ccde1",
   "metadata": {},
   "outputs": [
    {
     "data": {
      "text/plain": [
       "array([1., 1., 1., 1.])"
      ]
     },
     "execution_count": 81,
     "metadata": {},
     "output_type": "execute_result"
    }
   ],
   "source": [
    "np.diag(np.ones((4,4))) # Extracts the diagonal from a matrix"
   ]
  },
  {
   "cell_type": "code",
   "execution_count": 85,
   "id": "b9403a81-cdb7-4dc0-9f23-bb90852242f9",
   "metadata": {},
   "outputs": [
    {
     "data": {
      "text/plain": [
       "array([[1., 1., 1.],\n",
       "       [0., 1., 1.],\n",
       "       [0., 0., 1.]])"
      ]
     },
     "execution_count": 85,
     "metadata": {},
     "output_type": "execute_result"
    }
   ],
   "source": [
    "np.triu(np.ones((3,3))) # Extracts the upper triangular from a matrix"
   ]
  },
  {
   "cell_type": "code",
   "execution_count": 84,
   "id": "0b1da090-2b99-420e-aaad-e8e89d89dfe4",
   "metadata": {},
   "outputs": [
    {
     "data": {
      "text/plain": [
       "array([[1., 0., 0.],\n",
       "       [1., 1., 0.],\n",
       "       [1., 1., 1.]])"
      ]
     },
     "execution_count": 84,
     "metadata": {},
     "output_type": "execute_result"
    }
   ],
   "source": [
    "np.tril(np.ones((3,3))) # Extracts the lower triangular from a matrix"
   ]
  },
  {
   "cell_type": "markdown",
   "id": "bc21d552-7ab0-4d6d-8c54-d5b551fd272a",
   "metadata": {},
   "source": [
    "## Matrix Multiplication"
   ]
  },
  {
   "cell_type": "code",
   "execution_count": 61,
   "id": "8bb83df3-d321-4d52-8d4c-e1315edc5a05",
   "metadata": {},
   "outputs": [
    {
     "data": {
      "text/plain": [
       "array([[ 71.45454545,  74.72727273,  78.        ,  81.27272727],\n",
       "       [172.09090909, 180.27272727, 188.45454545, 196.63636364]])"
      ]
     },
     "execution_count": 61,
     "metadata": {},
     "output_type": "execute_result"
    }
   ],
   "source": [
    "a.dot(b)"
   ]
  },
  {
   "cell_type": "code",
   "execution_count": 62,
   "id": "1b60c6a2-7a46-4cba-9022-d0ddebf9939b",
   "metadata": {},
   "outputs": [
    {
     "data": {
      "text/plain": [
       "array([[ 71.45454545,  74.72727273,  78.        ,  81.27272727],\n",
       "       [172.09090909, 180.27272727, 188.45454545, 196.63636364]])"
      ]
     },
     "execution_count": 62,
     "metadata": {},
     "output_type": "execute_result"
    }
   ],
   "source": [
    "a @ b"
   ]
  },
  {
   "cell_type": "markdown",
   "id": "cb1d1c57-faaf-4378-9b87-32b86b74fb36",
   "metadata": {},
   "source": [
    "## Matrix Inversion"
   ]
  },
  {
   "cell_type": "markdown",
   "id": "596d15ae-d03b-4777-a238-677c21f5ab87",
   "metadata": {},
   "source": [
    "### Create an invertible Matrix"
   ]
  },
  {
   "cell_type": "code",
   "execution_count": 99,
   "id": "c5408bbc-dd1f-425b-ae2b-328502adb018",
   "metadata": {},
   "outputs": [
    {
     "data": {
      "text/plain": [
       "array([[11,  8,  8],\n",
       "       [ 0,  2,  7],\n",
       "       [ 0,  0,  1]])"
      ]
     },
     "execution_count": 99,
     "metadata": {},
     "output_type": "execute_result"
    }
   ],
   "source": [
    "# Create a square matrix\n",
    "sq = np.random.randint(low=1, high=15, size=(3,3))\n",
    "# extract the lower or upper triangular to make sure its invertable\n",
    "sq = np.triu(sq)\n",
    "sq"
   ]
  },
  {
   "cell_type": "markdown",
   "id": "1c3b634e-a66b-434a-a3e8-5b42e8b7f272",
   "metadata": {},
   "source": [
    "### Determinant"
   ]
  },
  {
   "cell_type": "code",
   "execution_count": 101,
   "id": "b48fbaf7-6b7e-4890-93da-a1c39b44605c",
   "metadata": {},
   "outputs": [
    {
     "data": {
      "text/plain": [
       "22.000000000000004"
      ]
     },
     "execution_count": 101,
     "metadata": {},
     "output_type": "execute_result"
    }
   ],
   "source": [
    "np.linalg.det(sq)"
   ]
  },
  {
   "cell_type": "markdown",
   "id": "a58cd8d5-abfe-4470-8cb4-c9bdb3bfd44f",
   "metadata": {},
   "source": [
    "### Inverse"
   ]
  },
  {
   "cell_type": "code",
   "execution_count": 100,
   "id": "d30d70c3-b59b-4a09-b199-b3091ffdf625",
   "metadata": {},
   "outputs": [
    {
     "data": {
      "text/plain": [
       "array([[ 0.09090909, -0.36363636,  1.81818182],\n",
       "       [ 0.        ,  0.5       , -3.5       ],\n",
       "       [ 0.        ,  0.        ,  1.        ]])"
      ]
     },
     "execution_count": 100,
     "metadata": {},
     "output_type": "execute_result"
    }
   ],
   "source": [
    "np.linalg.inv(sq)"
   ]
  },
  {
   "cell_type": "markdown",
   "id": "64443c8b-8dae-4095-bf18-af436f528776",
   "metadata": {},
   "source": [
    "# Introduction to Pandas"
   ]
  },
  {
   "cell_type": "code",
   "execution_count": 102,
   "id": "428299f8-0b35-4c53-a0f4-06a5269b1ee4",
   "metadata": {},
   "outputs": [],
   "source": [
    "import pandas as pd"
   ]
  },
  {
   "cell_type": "markdown",
   "id": "0f4be2cb-5bb7-445a-a9d8-6f1578d55c33",
   "metadata": {},
   "source": [
    "## Dataframes"
   ]
  },
  {
   "cell_type": "code",
   "execution_count": null,
   "id": "f9fd113f-09c8-454d-ab48-6780a866e9fc",
   "metadata": {},
   "outputs": [],
   "source": []
  },
  {
   "cell_type": "code",
   "execution_count": null,
   "id": "80ccfef4-a8f3-4137-89f5-097046047ccf",
   "metadata": {},
   "outputs": [],
   "source": []
  }
 ],
 "metadata": {
  "kernelspec": {
   "display_name": "Python 3 (ipykernel)",
   "language": "python",
   "name": "python3"
  },
  "language_info": {
   "codemirror_mode": {
    "name": "ipython",
    "version": 3
   },
   "file_extension": ".py",
   "mimetype": "text/x-python",
   "name": "python",
   "nbconvert_exporter": "python",
   "pygments_lexer": "ipython3",
   "version": "3.8.12"
  }
 },
 "nbformat": 4,
 "nbformat_minor": 5
}
