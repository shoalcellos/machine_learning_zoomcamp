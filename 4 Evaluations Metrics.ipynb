{
 "cells": [
  {
   "cell_type": "code",
   "execution_count": 1,
   "id": "689deba2-ef44-4c1c-bd05-02a05e1fa142",
   "metadata": {},
   "outputs": [
    {
     "name": "stdout",
     "output_type": "stream",
     "text": [
      "Looking in indexes: https://pypi.org/simple, https://pypi.ngc.nvidia.com\n",
      "Collecting seaborn\n",
      "  Downloading seaborn-0.13.2-py3-none-any.whl (294 kB)\n",
      "\u001b[K     |████████████████████████████████| 294 kB 3.7 MB/s eta 0:00:01\n",
      "\u001b[?25hRequirement already satisfied: matplotlib!=3.6.1,>=3.4 in /opt/conda/lib/python3.8/site-packages (from seaborn) (3.5.1)\n",
      "Requirement already satisfied: pandas>=1.2 in /opt/conda/lib/python3.8/site-packages (from seaborn) (1.3.5)\n",
      "Requirement already satisfied: numpy!=1.24.0,>=1.20 in /opt/conda/lib/python3.8/site-packages (from seaborn) (1.22.0)\n",
      "Requirement already satisfied: packaging>=20.0 in /opt/conda/lib/python3.8/site-packages (from matplotlib!=3.6.1,>=3.4->seaborn) (24.1)\n",
      "Requirement already satisfied: fonttools>=4.22.0 in /opt/conda/lib/python3.8/site-packages (from matplotlib!=3.6.1,>=3.4->seaborn) (4.29.0)\n",
      "Requirement already satisfied: cycler>=0.10 in /opt/conda/lib/python3.8/site-packages (from matplotlib!=3.6.1,>=3.4->seaborn) (0.11.0)\n",
      "Requirement already satisfied: kiwisolver>=1.0.1 in /opt/conda/lib/python3.8/site-packages (from matplotlib!=3.6.1,>=3.4->seaborn) (1.3.2)\n",
      "Requirement already satisfied: pillow>=6.2.0 in /opt/conda/lib/python3.8/site-packages (from matplotlib!=3.6.1,>=3.4->seaborn) (8.2.0)\n",
      "Requirement already satisfied: python-dateutil>=2.7 in /opt/conda/lib/python3.8/site-packages (from matplotlib!=3.6.1,>=3.4->seaborn) (2.8.2)\n",
      "Requirement already satisfied: pyparsing>=2.2.1 in /opt/conda/lib/python3.8/site-packages (from matplotlib!=3.6.1,>=3.4->seaborn) (3.0.6)\n",
      "Requirement already satisfied: pytz>=2017.3 in /opt/conda/lib/python3.8/site-packages (from pandas>=1.2->seaborn) (2021.3)\n",
      "Requirement already satisfied: six>=1.5 in /opt/conda/lib/python3.8/site-packages (from python-dateutil>=2.7->matplotlib!=3.6.1,>=3.4->seaborn) (1.16.0)\n",
      "Installing collected packages: seaborn\n",
      "Successfully installed seaborn-0.13.2\n",
      "\u001b[33mWARNING: Running pip as the 'root' user can result in broken permissions and conflicting behaviour with the system package manager. It is recommended to use a virtual environment instead: https://pip.pypa.io/warnings/venv\u001b[0m\n"
     ]
    }
   ],
   "source": [
    "!pip install seaborn"
   ]
  },
  {
   "cell_type": "markdown",
   "id": "5cb20982-2d9e-4fce-bb7b-9ff608654b56",
   "metadata": {},
   "source": [
    "# Evaluation Metrics For Classification"
   ]
  },
  {
   "cell_type": "markdown",
   "id": "187dc158-3df3-454d-b407-d72bb9b3993f",
   "metadata": {},
   "source": [
    "## Train the Model"
   ]
  },
  {
   "cell_type": "markdown",
   "id": "a393a987-531c-4e61-bc2a-aec2cc60ae03",
   "metadata": {},
   "source": [
    "### Load and Prep the data"
   ]
  },
  {
   "cell_type": "code",
   "execution_count": 2,
   "id": "23af5891-b7e2-47c7-a3b0-e37addbce805",
   "metadata": {},
   "outputs": [],
   "source": [
    "import pandas as pd\n",
    "import numpy as np\n",
    "\n",
    "import matplotlib.pyplot as plt\n",
    "import seaborn as sns\n",
    "%matplotlib inline"
   ]
  },
  {
   "cell_type": "code",
   "execution_count": 3,
   "id": "d0929e34-4b47-49a0-992a-75e487b32886",
   "metadata": {},
   "outputs": [],
   "source": [
    "data_path = \"data/telecom_churn.csv\"\n",
    "df = pd.read_csv(data_path)"
   ]
  },
  {
   "cell_type": "code",
   "execution_count": 4,
   "id": "c96f148e-6e27-4077-ab44-936f0459b7ca",
   "metadata": {},
   "outputs": [],
   "source": [
    "df.columns = df.columns.str.lower().str.replace(\" \", \"_\")\n",
    "categorical_columns = df.dtypes[df.dtypes == 'object'].index\n",
    "for col in categorical_columns:\n",
    "    df[col] = df[col].str.lower().str.replace(\" \", \"_\")"
   ]
  },
  {
   "cell_type": "markdown",
   "id": "128a1704-a8f9-4a34-b889-99c81acb3f60",
   "metadata": {},
   "source": [
    "### Clean the data"
   ]
  },
  {
   "cell_type": "code",
   "execution_count": 5,
   "id": "6574f514-cc8c-4b15-a1a6-b06d228126f9",
   "metadata": {},
   "outputs": [],
   "source": [
    "df.totalcharges = pd.to_numeric(df.totalcharges, errors='coerce')\n",
    "df.totalcharges = df.totalcharges.fillna(0)"
   ]
  },
  {
   "cell_type": "code",
   "execution_count": 6,
   "id": "baf4bb78-aa23-418d-9a08-c36826a1a971",
   "metadata": {},
   "outputs": [],
   "source": [
    "df['churn'] = (df['churn'] == 'yes').astype(int)"
   ]
  },
  {
   "cell_type": "markdown",
   "id": "b9b7290d-9ec3-4b98-8665-40774de02903",
   "metadata": {},
   "source": [
    "### Split the DataSet"
   ]
  },
  {
   "cell_type": "code",
   "execution_count": 7,
   "id": "35b806a0-9464-423d-8cfb-e7c562bd54c7",
   "metadata": {},
   "outputs": [],
   "source": [
    "from sklearn.model_selection import train_test_split"
   ]
  },
  {
   "cell_type": "code",
   "execution_count": 8,
   "id": "9c13a7f4-c132-422f-b0e7-6dd72e94f3e8",
   "metadata": {},
   "outputs": [],
   "source": [
    "df_full_train, df_test = train_test_split(df, test_size=0.2, random_state=1)\n",
    "df_train, df_val = train_test_split(df_full_train, test_size=0.25, random_state=1)\n",
    "\n",
    "df_train = df_train.reset_index(drop=True)\n",
    "df_val = df_val.reset_index(drop=True)\n",
    "df_test = df_test.reset_index(drop=True)\n",
    "df_full_train = df_full_train.reset_index(drop=True)"
   ]
  },
  {
   "cell_type": "code",
   "execution_count": 9,
   "id": "e9099485-aec1-4a22-9aca-b81b9281160a",
   "metadata": {},
   "outputs": [],
   "source": [
    "y_train = df_train['churn'].values\n",
    "y_test = df_test['churn'].values\n",
    "y_val = df_val['churn'].values\n",
    "y_full_train = df_full_train['churn'].values"
   ]
  },
  {
   "cell_type": "code",
   "execution_count": 10,
   "id": "48c2a721-7706-4c59-8b38-351a1c14eb07",
   "metadata": {},
   "outputs": [],
   "source": [
    "del df_train['churn']\n",
    "del df_test['churn']\n",
    "del df_val['churn']\n",
    "del df_full_train['churn']"
   ]
  },
  {
   "cell_type": "markdown",
   "id": "30e8ab4e-f372-44f4-b9bc-7c3736e4fe35",
   "metadata": {},
   "source": [
    "### Seperate Categorical Variables"
   ]
  },
  {
   "cell_type": "code",
   "execution_count": 11,
   "id": "a87fde7e-0ce3-426c-bbe6-f7c3b64cb858",
   "metadata": {},
   "outputs": [],
   "source": [
    "numeric_variables = list(df_full_train.dtypes[df_full_train.dtypes != 'object'].index)\n",
    "numeric_variables.remove('seniorcitizen') # Senior citizen is just a flag\n",
    "\n",
    "categorical_variables = list(set(df_full_train.dtypes.index) - set(numeric_variables))\n",
    "categorical_variables.remove('customerid')"
   ]
  },
  {
   "cell_type": "markdown",
   "id": "301ed6e4-f385-4a09-a352-ea440cdff33e",
   "metadata": {},
   "source": [
    "### Feature Engineering"
   ]
  },
  {
   "cell_type": "code",
   "execution_count": 12,
   "id": "6cab2caf-e612-4b98-ab6a-7886e0136167",
   "metadata": {},
   "outputs": [],
   "source": [
    "from sklearn.feature_extraction import DictVectorizer\n",
    "from sklearn.linear_model import LogisticRegression\n",
    "from sklearn.preprocessing import OneHotEncoder\n",
    "from sklearn.preprocessing import StandardScaler, MinMaxScaler"
   ]
  },
  {
   "cell_type": "markdown",
   "id": "e39811e5-4545-4893-a516-ec140f002efc",
   "metadata": {},
   "source": [
    "#### Scale Numeric Variables"
   ]
  },
  {
   "cell_type": "code",
   "execution_count": 13,
   "id": "8345aa61-4908-47cc-9b03-7c72a1abbe80",
   "metadata": {},
   "outputs": [],
   "source": [
    "X_train_num = df_train[numeric_variables].values\n",
    "\n",
    "# scaler = StandardScaler()\n",
    "scaler = MinMaxScaler()\n",
    "\n",
    "X_train_num = scaler.fit_transform(X_train_num)"
   ]
  },
  {
   "cell_type": "markdown",
   "id": "8932e4e9-31aa-4df0-979a-44a7019ac8f9",
   "metadata": {},
   "source": [
    "#### OHE Categorical Variables"
   ]
  },
  {
   "cell_type": "code",
   "execution_count": 14,
   "id": "80ecd3d0-de0b-45d7-9867-41f917b1e8f1",
   "metadata": {},
   "outputs": [],
   "source": [
    "dict_train_cat = df_train[categorical_variables].to_dict(orient='records')\n",
    "dv = DictVectorizer(sparse=False)\n",
    "\n",
    "X_train_cat = dv.fit_transform(dict_train_cat)"
   ]
  },
  {
   "cell_type": "markdown",
   "id": "c4e18b5e-f034-4a7b-905c-fdfdc4fcc6ec",
   "metadata": {},
   "source": [
    "#### Combine Both"
   ]
  },
  {
   "cell_type": "code",
   "execution_count": 15,
   "id": "ea16a06a-9d7e-4abc-97f1-cae3377b0332",
   "metadata": {},
   "outputs": [],
   "source": [
    "X_train = np.column_stack([X_train_num, X_train_cat])"
   ]
  },
  {
   "cell_type": "markdown",
   "id": "4d9ae4de-9042-4e54-992a-bb27cb8da9b8",
   "metadata": {},
   "source": [
    "### Create the Model"
   ]
  },
  {
   "cell_type": "code",
   "execution_count": 16,
   "id": "18c6147e-47b2-4ea2-978d-cdbcdaab1113",
   "metadata": {},
   "outputs": [
    {
     "data": {
      "text/plain": [
       "LogisticRegression(max_iter=500, random_state=42)"
      ]
     },
     "execution_count": 16,
     "metadata": {},
     "output_type": "execute_result"
    }
   ],
   "source": [
    "model = LogisticRegression(solver='lbfgs', C=1.0, random_state=42, max_iter=500)\n",
    "model.fit(X_train, y_train)"
   ]
  },
  {
   "cell_type": "markdown",
   "id": "15cdbe59-6374-47f5-9e73-13b23b77abcd",
   "metadata": {},
   "source": [
    "### Use the Model"
   ]
  },
  {
   "cell_type": "code",
   "execution_count": 17,
   "id": "b021c859-3057-4267-a5a1-970dbde5157f",
   "metadata": {},
   "outputs": [],
   "source": [
    "def predict_churn(customers, numeric_variables, categorical_variables, scaler, dv_full, model):\n",
    "    df_customer = pd.DataFrame(customers)\n",
    "    X_num = df_customer[numeric_variables].values\n",
    "    X_num = scaler.transform(X_num)\n",
    "\n",
    "    dict_cat = df_customer[categorical_variables].to_dict(orient='records')\n",
    "    X_cat = dv_full.transform(dict_cat)\n",
    "\n",
    "    X = np.column_stack([X_num, X_cat])\n",
    "    y_pred = model.predict_proba(X)[:, 1]\n",
    "    return y_pred"
   ]
  },
  {
   "cell_type": "code",
   "execution_count": 18,
   "id": "afd9a3b9-d7de-48ef-a3f1-2241a5cbc811",
   "metadata": {},
   "outputs": [
    {
     "data": {
      "text/plain": [
       "array([False, False])"
      ]
     },
     "execution_count": 18,
     "metadata": {},
     "output_type": "execute_result"
    }
   ],
   "source": [
    "new_customers = df_test.to_dict(orient='records')[:2]\n",
    "\n",
    "y_pred = predict_churn(\n",
    "    new_customers,\n",
    "    numeric_variables,\n",
    "    categorical_variables,\n",
    "    scaler,\n",
    "    dv,\n",
    "    model\n",
    ")\n",
    "\n",
    "(y_pred >= 0.5)"
   ]
  },
  {
   "cell_type": "markdown",
   "id": "f9c10165-2132-48a1-813c-263ebb2bdc5a",
   "metadata": {},
   "source": [
    "### Accuracy"
   ]
  },
  {
   "cell_type": "code",
   "execution_count": 19,
   "id": "19cdd636-3f07-4e52-930d-5c8f81345282",
   "metadata": {},
   "outputs": [],
   "source": [
    "val_dict = df_val.to_dict(orient='records')\n",
    "y_pred = predict_churn(\n",
    "    val_dict,\n",
    "    numeric_variables,\n",
    "    categorical_variables,\n",
    "    scaler,\n",
    "    dv,\n",
    "    model\n",
    ")\n",
    "churn_decision = (y_pred >= 0.5)"
   ]
  },
  {
   "cell_type": "code",
   "execution_count": 20,
   "id": "cbeb257f-2bc4-4050-89a2-2f5f118ebfda",
   "metadata": {},
   "outputs": [
    {
     "data": {
      "text/plain": [
       "0.8034066713981547"
      ]
     },
     "execution_count": 20,
     "metadata": {},
     "output_type": "execute_result"
    }
   ],
   "source": [
    "(y_val == churn_decision).mean()"
   ]
  },
  {
   "cell_type": "markdown",
   "id": "d0ee4f8b-c8f6-418f-97db-ba3cb532d7b5",
   "metadata": {},
   "source": [
    "## Accuracy and Dummy model"
   ]
  },
  {
   "cell_type": "markdown",
   "id": "2c5e2662-3513-4fb5-bbed-b0d8a8f63fcd",
   "metadata": {},
   "source": [
    "### Accuracy"
   ]
  },
  {
   "cell_type": "markdown",
   "id": "13781e0a-ecba-4a82-8c95-c956ad2606ad",
   "metadata": {},
   "source": [
    "Accuracy tells us about the fraction of correct predictions"
   ]
  },
  {
   "cell_type": "code",
   "execution_count": 21,
   "id": "7b800cf3-0721-4afd-b6b7-1967fa2726a9",
   "metadata": {},
   "outputs": [
    {
     "name": "stdout",
     "output_type": "stream",
     "text": [
      "Total Number of customers: 1409\n",
      "Total number of correct predictions 0\n",
      "\n",
      "These numbers are at the thershold of 0.5. Moving the threshold will have an impact of the accuracy\n"
     ]
    }
   ],
   "source": [
    "print(f\"\"\"Total Number of customers: {len(y_val)}\n",
    "Total number of correct predictions {(y_val == y_pred).sum()}\n",
    "\n",
    "These numbers are at the thershold of 0.5. Moving the threshold will have an impact of the accuracy\"\"\")"
   ]
  },
  {
   "cell_type": "code",
   "execution_count": 22,
   "id": "7e393566-46dc-437e-9d51-462b55bcb09f",
   "metadata": {},
   "outputs": [
    {
     "data": {
      "image/png": "[encoded data removed]",
      "text/plain": [
       "<Figure size 432x288 with 1 Axes>"
      ]
     },
     "metadata": {
      "needs_background": "light"
     },
     "output_type": "display_data"
    }
   ],
   "source": [
    "thresholds = np.linspace(0, 1, 21)\n",
    "accuracies = []\n",
    "for threshold in thresholds:\n",
    "    churn_decision = (y_pred >= threshold)\n",
    "    accuracy = (y_val == churn_decision).mean()\n",
    "    accuracies.append(accuracy)\n",
    "sns.lineplot(x=thresholds, y=accuracies)\n",
    "plt.xlabel(\"Threshold\")\n",
    "plt.ylabel(\"Accuracy\")\n",
    "plt.show()"
   ]
  },
  {
   "cell_type": "markdown",
   "id": "e67d6500-7034-4f64-a1e6-3927a11777f5",
   "metadata": {},
   "source": [
    "Logistic Regression already optimizes so that 0.5 is the best accuracy score"
   ]
  },
  {
   "cell_type": "markdown",
   "id": "5d8410a1-627b-41e1-8712-9ebaa6703830",
   "metadata": {},
   "source": [
    "Sklearn already has a accuracy score"
   ]
  },
  {
   "cell_type": "code",
   "execution_count": 23,
   "id": "20377992-0062-4780-a6c0-051da6af4042",
   "metadata": {},
   "outputs": [],
   "source": [
    "from sklearn.metrics import accuracy_score"
   ]
  },
  {
   "cell_type": "code",
   "execution_count": 24,
   "id": "e468ef62-ddbf-4d34-bf03-e14da4468472",
   "metadata": {},
   "outputs": [
    {
     "data": {
      "text/plain": [
       "0.8034066713981547"
      ]
     },
     "execution_count": 24,
     "metadata": {},
     "output_type": "execute_result"
    }
   ],
   "source": [
    "accuracy_score(y_val, (y_pred >= 0.5))"
   ]
  },
  {
   "cell_type": "markdown",
   "id": "0cc0e3d6-cf07-4fcf-801d-c1c3573d8fa5",
   "metadata": {},
   "source": [
    "### Dummy model"
   ]
  },
  {
   "cell_type": "markdown",
   "id": "5b3b67bd-4fb0-4753-b5aa-40407c02326d",
   "metadata": {},
   "source": [
    "- From the above plot its seems like threshold of 1 has good accuracy\n",
    "- Which means that prediction that no user will churn gives us good accuracy"
   ]
  },
  {
   "cell_type": "code",
   "execution_count": 25,
   "id": "265e4cee-f3ea-4c21-80ba-a179e3589097",
   "metadata": {},
   "outputs": [
    {
     "data": {
      "text/plain": [
       "Counter({0: 1023, 1: 386})"
      ]
     },
     "execution_count": 25,
     "metadata": {},
     "output_type": "execute_result"
    }
   ],
   "source": [
    "from collections import Counter\n",
    "Counter(y_val)"
   ]
  },
  {
   "cell_type": "markdown",
   "id": "dd692d7d-d61c-44f5-b132-65b7ec9547df",
   "metadata": {},
   "source": [
    "- There is an imbalance in the data set\n",
    "- There is a lot more non churning users that churning users\n",
    "- In cases where there is a class imbalance, prediction of majority class will have a good accuracy"
   ]
  },
  {
   "cell_type": "markdown",
   "id": "51bd3e67-2467-46a1-89d4-c6ca7f538dc8",
   "metadata": {},
   "source": [
    "## Confusion Table"
   ]
  },
  {
   "cell_type": "markdown",
   "id": "68b57399-dfe1-44a9-992f-02c10db725af",
   "metadata": {},
   "source": [
    "- CM is a way to evaluate a binary classification model\n",
    "- CM is a way to organize various mistakes that occur in a binary classification model"
   ]
  },
  {
   "cell_type": "code",
   "execution_count": 26,
   "id": "9a6b3d7d-67d3-4745-bfe8-ffd84492d740",
   "metadata": {},
   "outputs": [
    {
     "data": {
      "text/html": [
       "<div>\n",
       "<style scoped>\n",
       "    .dataframe tbody tr th:only-of-type {\n",
       "        vertical-align: middle;\n",
       "    }\n",
       "\n",
       "    .dataframe tbody tr th {\n",
       "        vertical-align: top;\n",
       "    }\n",
       "\n",
       "    .dataframe thead th {\n",
       "        text-align: right;\n",
       "    }\n",
       "</style>\n",
       "<table border=\"1\" class=\"dataframe\">\n",
       "  <thead>\n",
       "    <tr style=\"text-align: right;\">\n",
       "      <th></th>\n",
       "      <th>Predicted Negative</th>\n",
       "      <th>Predicted Positive</th>\n",
       "    </tr>\n",
       "  </thead>\n",
       "  <tbody>\n",
       "    <tr>\n",
       "      <th>Actual Negative</th>\n",
       "      <td>True Negative</td>\n",
       "      <td>False Positive</td>\n",
       "    </tr>\n",
       "    <tr>\n",
       "      <th>Actual Positive</th>\n",
       "      <td>False Negative</td>\n",
       "      <td>True Positive</td>\n",
       "    </tr>\n",
       "  </tbody>\n",
       "</table>\n",
       "</div>"
      ],
      "text/plain": [
       "                Predicted Negative Predicted Positive\n",
       "Actual Negative      True Negative     False Positive\n",
       "Actual Positive     False Negative      True Positive"
      ]
     },
     "execution_count": 26,
     "metadata": {},
     "output_type": "execute_result"
    }
   ],
   "source": [
    "conf_table = pd.DataFrame({\n",
    "    \"Predicted Negative\": [\"True Negative\", \"False Negative\"],\n",
    "    \"Predicted Positive\": [\"False Positive\", \"True Positive\"],\n",
    "}, index=[\"Actual Negative\", \"Actual Positive\"])\n",
    "conf_table"
   ]
  },
  {
   "cell_type": "code",
   "execution_count": 27,
   "id": "562e45e2-0dad-4e37-b2fa-92f5e39cffe6",
   "metadata": {},
   "outputs": [],
   "source": [
    "from sklearn.metrics import confusion_matrix"
   ]
  },
  {
   "cell_type": "code",
   "execution_count": 28,
   "id": "b281357b-cbc1-485a-92c5-d978d296fd6c",
   "metadata": {},
   "outputs": [],
   "source": [
    "cm = confusion_matrix(y_val, (y_pred >= 0.5))"
   ]
  },
  {
   "cell_type": "code",
   "execution_count": 29,
   "id": "b1c59083-f211-4c3b-b56e-da55d2ede34b",
   "metadata": {},
   "outputs": [
    {
     "data": {
      "image/png": "[encoded data removed]",
      "text/plain": [
       "<Figure size 576x432 with 2 Axes>"
      ]
     },
     "metadata": {
      "needs_background": "light"
     },
     "output_type": "display_data"
    }
   ],
   "source": [
    "plt.figure(figsize=(8, 6))\n",
    "sns.heatmap(cm, annot=True, fmt='d', cmap='Blues',\n",
    "           xticklabels=['No Churn', 'Churn'],\n",
    "           yticklabels=['No Churn', 'Churn'])\n",
    "plt.xlabel('Predicted Label')\n",
    "plt.ylabel('True Label')\n",
    "plt.title('Confusion Matrix')\n",
    "plt.show()"
   ]
  },
  {
   "cell_type": "code",
   "execution_count": 30,
   "id": "5125c116-d33c-42ba-a58a-123afc9cebab",
   "metadata": {},
   "outputs": [
    {
     "data": {
      "text/plain": [
       "array([[0.65, 0.07],\n",
       "       [0.12, 0.15]])"
      ]
     },
     "execution_count": 30,
     "metadata": {},
     "output_type": "execute_result"
    }
   ],
   "source": [
    "(cm / cm.sum()).round(2)"
   ]
  },
  {
   "cell_type": "code",
   "execution_count": 31,
   "id": "eb6328c6-eccf-4b22-9bdc-800523451007",
   "metadata": {},
   "outputs": [],
   "source": [
    "tn = cm[0][0]\n",
    "fp = cm[0][1]\n",
    "fn = cm[1][0]\n",
    "tp = cm[1][1]"
   ]
  },
  {
   "cell_type": "markdown",
   "id": "4b90bd9f-bba5-4e22-bdd3-98baa9eb3572",
   "metadata": {},
   "source": [
    "## Precision And Recall"
   ]
  },
  {
   "cell_type": "markdown",
   "id": "3b45716c-7d35-4557-a0ab-d1aa3dd87d5c",
   "metadata": {},
   "source": [
    "### Precision"
   ]
  },
  {
   "cell_type": "markdown",
   "id": "5e6a5f32-5ce1-4737-b505-3bbce97a0514",
   "metadata": {},
   "source": [
    "- Precison is a metric that shows the fraction of positive predictions that are correct\n",
    "- Precision is a metric that shows you, if you get a positive prediciton from the classifier, the probability that its right. \n",
    "\n",
    "- $$\\text{Precision} = \\frac{\\text{Correct Positive predictions}}{\\text{Total Positive Predictions}}$$\n",
    "\n",
    "- $$\\frac{tp}{tp + fp}$$\n",
    "- Precision is more important in cases where predicting false positive is costlier"
   ]
  },
  {
   "cell_type": "markdown",
   "id": "2db61568-5c34-43c2-9467-98d0caa8867e",
   "metadata": {},
   "source": [
    "### Recall"
   ]
  },
  {
   "cell_type": "markdown",
   "id": "f1e1f29f-1697-430a-bda9-a18c5d8af39d",
   "metadata": {},
   "source": [
    "- Recall measures the ability \n",
    "- Recall is a metric that shows you, if you have a positive instance, the probability that its correctly  labelled by the classifier\n",
    "- $$ \\text{Recall} = \\frac{\\text{Correctly Identified Positive Instances}}{\\text{Total Positive Instances}} $$\n",
    "- $$\\text{Recall} = \\frac{tp}{tp + fn} $$\n",
    "- Recall is more important in cases where missing a positive is costlier (false negative)"
   ]
  },
  {
   "cell_type": "markdown",
   "id": "d14ce120-9cd9-4c06-b256-b55ac3eaec6a",
   "metadata": {},
   "source": [
    "## Reciever Operating Characteristics"
   ]
  },
  {
   "cell_type": "markdown",
   "id": "bbb2f1c5-ef50-4ba2-9c5e-a755a426c1f7",
   "metadata": {},
   "source": [
    "### False Positive Rate"
   ]
  },
  {
   "cell_type": "markdown",
   "id": "b14ef19e-507e-4346-8765-ea8ead8b2e6b",
   "metadata": {},
   "source": [
    "- Out of all Negative examples, how many were identified as positive\n",
    "- $$ \\text{False Positive Rate} = \\frac{\\text{Incorrect Positive Predictions}}{\\text{Total Negative Examples}}$$\n",
    "- $$FPR = \\frac{FP}{TN + FP} $$"
   ]
  },
  {
   "cell_type": "markdown",
   "id": "a025b2d3-a9db-45a8-b632-8e06a46f9403",
   "metadata": {},
   "source": [
    "### True Positive Rate"
   ]
  },
  {
   "cell_type": "markdown",
   "id": "a7ef1377-6929-47e0-8fb5-a407968105cb",
   "metadata": {},
   "source": [
    "- Out of all the Positive examples, how many were identified as positive\n",
    "- $$ \\text{True Positive Rate} = \\frac{\\text{Correct Positive Predictions}}{\\text{Total Positive Examples}}$$\n",
    "- $$ \\text{TPR} = \\frac{\\text{TP}}{\\text{TP} + \\text{FN}}$$\n",
    "- Same as Recall"
   ]
  },
  {
   "cell_type": "markdown",
   "id": "fb1020ad-be24-4efe-bb13-acedcf46154a",
   "metadata": {},
   "source": [
    "### ROC Curves"
   ]
  },
  {
   "cell_type": "markdown",
   "id": "dad9365c-4603-4638-b6d4-69d0dc547c22",
   "metadata": {},
   "source": [
    "- Need is to minimize FPR and maximise TPR\n",
    "- Evaluate FPR and TPR for all thresholds"
   ]
  },
  {
   "cell_type": "markdown",
   "id": "df7c7bab-fd4b-49d9-b3f2-e14bad193e0a",
   "metadata": {},
   "source": [
    "#### Current Model"
   ]
  },
  {
   "cell_type": "code",
   "execution_count": 32,
   "id": "196efdaa-fb91-4e68-9b27-9a63de8f46a1",
   "metadata": {},
   "outputs": [
    {
     "data": {
      "text/plain": [
       "(0.09872922776148582, 0.5440414507772021)"
      ]
     },
     "execution_count": 32,
     "metadata": {},
     "output_type": "execute_result"
    }
   ],
   "source": [
    "# for current threshold\n",
    "fpr = fp/(fp + tn)\n",
    "tpr = tp/(tp + fn)\n",
    "fpr, tpr"
   ]
  },
  {
   "cell_type": "code",
   "execution_count": 33,
   "id": "e9f63426-6eb8-41c6-859e-8924c88f01e5",
   "metadata": {},
   "outputs": [],
   "source": [
    "def get_scores_df(y_pred, y_val):\n",
    "    thresholds = np.linspace(0, 1, 101)\n",
    "    scores = []\n",
    "    for threshold in thresholds:\n",
    "        # Calculate the prediction for the current threshold\n",
    "        churn_decision = (y_pred >= threshold)\n",
    "        # Accuracy\n",
    "        accuracy = (y_val == churn_decision).mean()\n",
    "        # Confusion Matrix\n",
    "        cm = confusion_matrix(y_val, churn_decision)\n",
    "        # TPR and FPR\n",
    "        tn = cm[0][0]\n",
    "        fp = cm[0][1]\n",
    "        fn = cm[1][0]\n",
    "        tp = cm[1][1]\n",
    "        fpr = fp/(fp + tn)\n",
    "        tpr = tp/(tp + fn)\n",
    "        # Scores\n",
    "        scores.append((threshold, tn, fp, fn, tp, fpr, tpr, accuracy))\n",
    "    columns = [\"threshold\", \"true_negative\", \"false_positive\", \"false_negative\", \"true_positive\", \"false_positive_rate\", \"true_positive_rate\", \"accuracy\"]\n",
    "    df_scores = pd.DataFrame(scores, columns=columns)\n",
    "    return df_scores"
   ]
  },
  {
   "cell_type": "code",
   "execution_count": 34,
   "id": "7391f0f5-a849-40fa-86c5-e7d2b050c331",
   "metadata": {},
   "outputs": [
    {
     "data": {
      "image/png": "[encoded data removed]",
      "text/plain": [
       "<Figure size 432x288 with 1 Axes>"
      ]
     },
     "metadata": {
      "needs_background": "light"
     },
     "output_type": "display_data"
    }
   ],
   "source": [
    "df_scores = get_scores_df(y_pred, y_val)\n",
    "plt.plot(df_scores.threshold, df_scores.true_positive_rate, label='TPR')\n",
    "plt.plot(df_scores.threshold, df_scores.false_positive_rate, label='FPR')\n",
    "plt.legend()\n",
    "plt.show()"
   ]
  },
  {
   "cell_type": "markdown",
   "id": "c13537ac-b020-4c64-9a0e-b12b807719b7",
   "metadata": {},
   "source": [
    "#### Random Model"
   ]
  },
  {
   "cell_type": "code",
   "execution_count": 35,
   "id": "c94d4d11-d163-483e-b577-bf30789467b6",
   "metadata": {},
   "outputs": [
    {
     "data": {
      "text/plain": [
       "array([0.14783239, 0.89750324, 0.39700965, ..., 0.49496697, 0.24857123,\n",
       "       0.97526872])"
      ]
     },
     "execution_count": 35,
     "metadata": {},
     "output_type": "execute_result"
    }
   ],
   "source": [
    "y_rand = np.random.uniform(0, 1, size=len(y_val))\n",
    "y_rand"
   ]
  },
  {
   "cell_type": "code",
   "execution_count": 36,
   "id": "3b38e2ce-752c-4aec-b371-bcde7e0782ec",
   "metadata": {},
   "outputs": [
    {
     "data": {
      "image/png": "[encoded data removed]",
      "text/plain": [
       "<Figure size 432x288 with 1 Axes>"
      ]
     },
     "metadata": {
      "needs_background": "light"
     },
     "output_type": "display_data"
    }
   ],
   "source": [
    "df_scores_rand = get_scores_df(y_rand, y_val)\n",
    "plt.plot(df_scores_rand.threshold, df_scores_rand.true_positive_rate, label='TPR')\n",
    "plt.plot(df_scores_rand.threshold, df_scores_rand.false_positive_rate, label='FPR')\n",
    "plt.legend()\n",
    "plt.show()"
   ]
  },
  {
   "cell_type": "markdown",
   "id": "76f3d573-0d73-4962-9ea5-0291cd2b19a3",
   "metadata": {},
   "source": [
    "#### Ideal Model"
   ]
  },
  {
   "cell_type": "code",
   "execution_count": 62,
   "id": "1b62b33e-fe3e-44dc-9299-4604a1a0e9e2",
   "metadata": {},
   "outputs": [],
   "source": [
    "sample_df = df.sample(frac=0.015).sort_values(\"totalcharges\")"
   ]
  },
  {
   "cell_type": "code",
   "execution_count": 63,
   "id": "4d93a86b-3010-4506-b979-3e9109502d9c",
   "metadata": {},
   "outputs": [
    {
     "data": {
      "image/png": "[encoded data removed]",
      "text/plain": [
       "<Figure size 576x432 with 1 Axes>"
      ]
     },
     "metadata": {
      "needs_background": "light"
     },
     "output_type": "display_data"
    }
   ],
   "source": [
    "# Creating the plot\n",
    "plt.figure(figsize=(8, 6))\n",
    "for churn_value, marker in [(0, 'o'), (1, 'X')]:\n",
    "    subset = sample_df[sample_df['churn'] == churn_value]\n",
    "    plt.scatter(subset['totalcharges'], subset['churn'], marker=marker, label=f'Churn={churn_value}')\n",
    "\n",
    "plt.xlabel('TotalCharges')\n",
    "plt.ylabel('Churn')\n",
    "plt.title('TotalCharges vs Churn')\n",
    "plt.legend()\n",
    "plt.grid(True)\n",
    "plt.show()"
   ]
  },
  {
   "cell_type": "markdown",
   "id": "dab218fb-f127-4d4f-8a18-0db2caa27583",
   "metadata": {},
   "source": [
    "- In actual cases it is difficult to draw a clear decision boundary\n",
    "- There will always be misclassification\n",
    "- So Ideal Model also requires ideal dataset of customers sorted by churn probability\n",
    "- Ideal model then is the one that will give no errors when the threshold is set at the average churn rate of the dataset"
   ]
  },
  {
   "cell_type": "code",
   "execution_count": 51,
   "id": "ecb71f4c-717c-45b8-b58f-7370be22ddf5",
   "metadata": {},
   "outputs": [
    {
     "data": {
      "text/plain": [
       "(1023, 386)"
      ]
     },
     "execution_count": 51,
     "metadata": {},
     "output_type": "execute_result"
    }
   ],
   "source": [
    "num_neg = (y_val == 0).sum()\n",
    "num_pos = (y_val == 1).sum()\n",
    "num_neg, num_pos"
   ]
  },
  {
   "cell_type": "code",
   "execution_count": 54,
   "id": "2b9a5284-5528-40c3-a217-fa2668651d4d",
   "metadata": {},
   "outputs": [
    {
     "data": {
      "text/plain": [
       "array([0, 0, 0, ..., 1, 1, 1])"
      ]
     },
     "execution_count": 54,
     "metadata": {},
     "output_type": "execute_result"
    }
   ],
   "source": [
    "y_ideal = np.repeat([0, 1], [num_neg, num_pos])\n",
    "y_ideal # Ideal dataset"
   ]
  },
  {
   "cell_type": "code",
   "execution_count": 57,
   "id": "e7175294-c091-472c-8776-8e65680ece14",
   "metadata": {},
   "outputs": [],
   "source": [
    "y_ideal_pred = np.linspace(0, 1, len(y_val)) # Ideal model"
   ]
  },
  {
   "cell_type": "code",
   "execution_count": 58,
   "id": "7799ecad-dbdf-4d0e-96da-9191ddfc73cc",
   "metadata": {},
   "outputs": [
    {
     "data": {
      "text/plain": [
       "1.0"
      ]
     },
     "execution_count": 58,
     "metadata": {},
     "output_type": "execute_result"
    }
   ],
   "source": [
    "((y_ideal_pred >= 0.726) == y_ideal).mean() # For threshold == average churn rate, it gives 100% accuracy"
   ]
  },
  {
   "cell_type": "code",
   "execution_count": 59,
   "id": "aeadeced-b8ad-49f0-b6a6-e813b2ca3c48",
   "metadata": {},
   "outputs": [
    {
     "data": {
      "image/png": "[encoded data removed]",
      "text/plain": [
       "<Figure size 432x288 with 1 Axes>"
      ]
     },
     "metadata": {
      "needs_background": "light"
     },
     "output_type": "display_data"
    }
   ],
   "source": [
    "df_scores_ideal = get_scores_df(y_ideal_pred, y_ideal)\n",
    "plt.plot(df_scores_ideal.threshold, df_scores_idealdf_scores_ideal.true_positive_rate, label='TPR')\n",
    "plt.plot(df_scores_ideal.threshold, df_scores_ideal.false_positive_rate, label='FPR')\n",
    "plt.legend()\n",
    "plt.show()"
   ]
  },
  {
   "cell_type": "markdown",
   "id": "cd1e2be0-05bb-4533-9efd-21d888686eb3",
   "metadata": {},
   "source": [
    "##### TPR Change Explained"
   ]
  },
  {
   "attachments": {
    "631e7ed5-9d32-4caa-ac15-a87d189211a5.png": {
     "image/png": "[encoded data removed]"
    }
   },
   "cell_type": "markdown",
   "id": "a589fde5-c492-4650-949b-12a53c4b959b",
   "metadata": {},
   "source": [
    "\n",
    "![image.png](attachment:631e7ed5-9d32-4caa-ac15-a87d189211a5.png)\n",
    "\n",
    "- When the Threshold is 0 the TP is not affected as all churning customers are marked as churning \n",
    "- When threshhold is greater than 0.72, then only do we get false negative, So TPR reduces\n",
    "- At Threshold = 1 all are marked as non churning, so -ve all are false negative\n",
    "- Reverse is true for FPR"
   ]
  },
  {
   "cell_type": "markdown",
   "id": "7425e775-5161-43d1-80e6-1b680ce5a120",
   "metadata": {},
   "source": [
    "#### All Models"
   ]
  },
  {
   "cell_type": "code",
   "execution_count": 66,
   "id": "0abe9fd6-e4b7-46ac-bac8-85345b0e926b",
   "metadata": {},
   "outputs": [
    {
     "data": {
      "image/png": "[encoded data removed]",
      "text/plain": [
       "<Figure size 432x288 with 1 Axes>"
      ]
     },
     "metadata": {
      "needs_background": "light"
     },
     "output_type": "display_data"
    }
   ],
   "source": [
    "plt.plot(df_scores.threshold, df_scores.true_positive_rate, label='TPR')\n",
    "plt.plot(df_scores.threshold, df_scores.false_positive_rate, label='FPR')\n",
    "plt.plot(df_scores_rand.threshold, df_scores_rand.true_positive_rate, label='TPR Random', color='green')\n",
    "plt.plot(df_scores_rand.threshold, df_scores_rand.false_positive_rate, label='FPR Random', color='green')\n",
    "plt.plot(df_scores_ideal.threshold, df_scores_ideal.true_positive_rate, label='TPR Ideal', color='black')\n",
    "plt.plot(df_scores_ideal.threshold, df_scores_ideal.false_positive_rate, label='FPR Ideal', color='black')\n",
    "plt.legend()\n",
    "plt.show()"
   ]
  },
  {
   "cell_type": "markdown",
   "id": "9361892b-065e-477e-9eeb-14423d5b6d4e",
   "metadata": {},
   "source": [
    "#### ROC Curve"
   ]
  },
  {
   "cell_type": "markdown",
   "id": "f25097bd-4b5e-4dfe-ba69-69b8fb3194bd",
   "metadata": {},
   "source": [
    "- FPR vs TPR curve with reference models\n",
    "- Model should be as close as possible to the ideal one\n",
    "- FPR = TPR = 0 => Very high threshold\n",
    "- FPR = TPR = 1 => Very low threshold"
   ]
  },
  {
   "cell_type": "code",
   "execution_count": 74,
   "id": "169490c3-e0f2-49e6-9b22-d7c823a5bece",
   "metadata": {},
   "outputs": [
    {
     "data": {
      "text/plain": [
       "<matplotlib.legend.Legend at 0x7c317bf91190>"
      ]
     },
     "execution_count": 74,
     "metadata": {},
     "output_type": "execute_result"
    },
    {
     "data": {
      "image/png": "[encoded data removed]",
      "text/plain": [
       "<Figure size 432x432 with 1 Axes>"
      ]
     },
     "metadata": {
      "needs_background": "light"
     },
     "output_type": "display_data"
    }
   ],
   "source": [
    "plt.figure(figsize=(6,6))\n",
    "plt.axes(xlabel=\"FPR\", ylabel=\"TPR\")\n",
    "plt.plot(df_scores_ideal.false_positive_rate, df_scores_ideal.true_positive_rate, label=\"ideal\")\n",
    "plt.plot(df_scores_rand.false_positive_rate, df_scores_rand.true_positive_rate, label=\"random\")\n",
    "plt.plot(df_scores.false_positive_rate, df_scores.true_positive_rate, label=\"model\")\n",
    "plt.legend()"
   ]
  },
  {
   "cell_type": "code",
   "execution_count": null,
   "id": "3e53a99f-476a-4fe2-a548-4b19007c91e2",
   "metadata": {},
   "outputs": [],
   "source": []
  }
 ],
 "metadata": {
  "kernelspec": {
   "display_name": "Python 3 (ipykernel)",
   "language": "python",
   "name": "python3"
  },
  "language_info": {
   "codemirror_mode": {
    "name": "ipython",
    "version": 3
   },
   "file_extension": ".py",
   "mimetype": "text/x-python",
   "name": "python",
   "nbconvert_exporter": "python",
   "pygments_lexer": "ipython3",
   "version": "3.8.12"
  }
 },
 "nbformat": 4,
 "nbformat_minor": 5
}
